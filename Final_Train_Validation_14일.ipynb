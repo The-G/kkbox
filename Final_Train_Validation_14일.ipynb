{
 "cells": [
  {
   "cell_type": "markdown",
   "metadata": {},
   "source": [
    "# === Train & Validation ==="
   ]
  },
  {
   "cell_type": "markdown",
   "metadata": {},
   "source": [
    "## Import Transaction,Member and User_log_summary"
   ]
  },
  {
   "cell_type": "code",
   "execution_count": 1,
   "metadata": {
    "collapsed": true
   },
   "outputs": [],
   "source": [
    "import pandas as pd"
   ]
  },
  {
   "cell_type": "code",
   "execution_count": 2,
   "metadata": {
    "collapsed": false
   },
   "outputs": [],
   "source": [
    "log_summary = pd.read_csv('F:/kaggle/final_data/user_log_summary_9to3.tsv', sep='\\t', header=None)"
   ]
  },
  {
   "cell_type": "code",
   "execution_count": 3,
   "metadata": {
    "collapsed": false
   },
   "outputs": [
    {
     "data": {
      "text/plain": [
       "(5603682, 17)"
      ]
     },
     "execution_count": 3,
     "metadata": {},
     "output_type": "execute_result"
    }
   ],
   "source": [
    "log_summary.shape"
   ]
  },
  {
   "cell_type": "code",
   "execution_count": 4,
   "metadata": {
    "collapsed": false
   },
   "outputs": [],
   "source": [
    "transaction = pd.read_csv(\"F:/kaggle/final_data/all_tran_except_log_9to3.csv\")"
   ]
  },
  {
   "cell_type": "code",
   "execution_count": 5,
   "metadata": {
    "collapsed": false,
    "scrolled": true
   },
   "outputs": [
    {
     "data": {
      "text/plain": [
       "(6670740, 16)"
      ]
     },
     "execution_count": 5,
     "metadata": {},
     "output_type": "execute_result"
    }
   ],
   "source": [
    "transaction.shape"
   ]
  },
  {
   "cell_type": "code",
   "execution_count": 6,
   "metadata": {
    "collapsed": false
   },
   "outputs": [
    {
     "data": {
      "text/plain": [
       "1241950"
      ]
     },
     "execution_count": 6,
     "metadata": {},
     "output_type": "execute_result"
    }
   ],
   "source": [
    "len(log_summary[0].unique())"
   ]
  },
  {
   "cell_type": "code",
   "execution_count": 7,
   "metadata": {
    "collapsed": false
   },
   "outputs": [
    {
     "data": {
      "text/plain": [
       "1071847"
      ]
     },
     "execution_count": 7,
     "metadata": {},
     "output_type": "execute_result"
    }
   ],
   "source": [
    "len(transaction[\"msno\"].unique())"
   ]
  },
  {
   "cell_type": "markdown",
   "metadata": {},
   "source": [
    "log_summary의 msno가 tran의 msno 보다 더 많다. "
   ]
  },
  {
   "cell_type": "markdown",
   "metadata": {},
   "source": [
    "## Describe & Dtype"
   ]
  },
  {
   "cell_type": "code",
   "execution_count": 8,
   "metadata": {
    "collapsed": false
   },
   "outputs": [
    {
     "data": {
      "text/html": [
       "<div>\n",
       "<style>\n",
       "    .dataframe thead tr:only-child th {\n",
       "        text-align: right;\n",
       "    }\n",
       "\n",
       "    .dataframe thead th {\n",
       "        text-align: left;\n",
       "    }\n",
       "\n",
       "    .dataframe tbody tr th {\n",
       "        vertical-align: top;\n",
       "    }\n",
       "</style>\n",
       "<table border=\"1\" class=\"dataframe\">\n",
       "  <thead>\n",
       "    <tr style=\"text-align: right;\">\n",
       "      <th></th>\n",
       "      <th>0</th>\n",
       "      <th>1</th>\n",
       "      <th>2</th>\n",
       "      <th>3</th>\n",
       "      <th>4</th>\n",
       "      <th>5</th>\n",
       "      <th>6</th>\n",
       "      <th>7</th>\n",
       "      <th>8</th>\n",
       "      <th>9</th>\n",
       "      <th>10</th>\n",
       "      <th>11</th>\n",
       "      <th>12</th>\n",
       "      <th>13</th>\n",
       "      <th>14</th>\n",
       "      <th>15</th>\n",
       "      <th>16</th>\n",
       "    </tr>\n",
       "  </thead>\n",
       "  <tbody>\n",
       "    <tr>\n",
       "      <th>0</th>\n",
       "      <td>dx7tfNuNmuoHsRrM/qxVFSQxvsFpL0X68wjkEHiJ2bk=</td>\n",
       "      <td>20160921</td>\n",
       "      <td>20161021</td>\n",
       "      <td>2.857143</td>\n",
       "      <td>0.857143</td>\n",
       "      <td>0.571429</td>\n",
       "      <td>0.571429</td>\n",
       "      <td>12.000000</td>\n",
       "      <td>12.857143</td>\n",
       "      <td>3314.734288</td>\n",
       "      <td>20</td>\n",
       "      <td>6</td>\n",
       "      <td>4</td>\n",
       "      <td>4</td>\n",
       "      <td>84</td>\n",
       "      <td>90</td>\n",
       "      <td>23203.140015</td>\n",
       "    </tr>\n",
       "    <tr>\n",
       "      <th>1</th>\n",
       "      <td>dx8DaYO7EG7Q0yx3nDULpKvVKaswjCzBw3+CckARskw=</td>\n",
       "      <td>20161130</td>\n",
       "      <td>20170118</td>\n",
       "      <td>11.000000</td>\n",
       "      <td>0.400000</td>\n",
       "      <td>0.800000</td>\n",
       "      <td>0.400000</td>\n",
       "      <td>22.200000</td>\n",
       "      <td>32.400000</td>\n",
       "      <td>5743.954788</td>\n",
       "      <td>55</td>\n",
       "      <td>2</td>\n",
       "      <td>4</td>\n",
       "      <td>2</td>\n",
       "      <td>111</td>\n",
       "      <td>162</td>\n",
       "      <td>28719.773941</td>\n",
       "    </tr>\n",
       "    <tr>\n",
       "      <th>2</th>\n",
       "      <td>dx9aHQzyWE0ZKT1Ezn+gaKdDD/ZlUNnVlmosQZUo2AI=</td>\n",
       "      <td>20161231</td>\n",
       "      <td>20170206</td>\n",
       "      <td>0.928571</td>\n",
       "      <td>0.928571</td>\n",
       "      <td>0.500000</td>\n",
       "      <td>0.500000</td>\n",
       "      <td>15.571429</td>\n",
       "      <td>13.857143</td>\n",
       "      <td>3697.575038</td>\n",
       "      <td>13</td>\n",
       "      <td>13</td>\n",
       "      <td>7</td>\n",
       "      <td>7</td>\n",
       "      <td>218</td>\n",
       "      <td>194</td>\n",
       "      <td>51766.050537</td>\n",
       "    </tr>\n",
       "    <tr>\n",
       "      <th>3</th>\n",
       "      <td>dx9n7Np84QfTBvIVuZ7cnmGAyqTtUOKFQ6s8qBpZeJM=</td>\n",
       "      <td>20160902</td>\n",
       "      <td>20161001</td>\n",
       "      <td>8.633333</td>\n",
       "      <td>2.600000</td>\n",
       "      <td>1.933333</td>\n",
       "      <td>3.033333</td>\n",
       "      <td>45.566667</td>\n",
       "      <td>30.433333</td>\n",
       "      <td>13681.262248</td>\n",
       "      <td>259</td>\n",
       "      <td>78</td>\n",
       "      <td>58</td>\n",
       "      <td>91</td>\n",
       "      <td>1367</td>\n",
       "      <td>913</td>\n",
       "      <td>410437.867432</td>\n",
       "    </tr>\n",
       "    <tr>\n",
       "      <th>4</th>\n",
       "      <td>dxA9zQQ5WD9U4JG5nkWh4S7P5NWJcC9LUPdl913zGWo=</td>\n",
       "      <td>20161011</td>\n",
       "      <td>20161111</td>\n",
       "      <td>1.600000</td>\n",
       "      <td>3.000000</td>\n",
       "      <td>0.800000</td>\n",
       "      <td>0.600000</td>\n",
       "      <td>4.400000</td>\n",
       "      <td>10.200000</td>\n",
       "      <td>1840.187587</td>\n",
       "      <td>8</td>\n",
       "      <td>15</td>\n",
       "      <td>4</td>\n",
       "      <td>3</td>\n",
       "      <td>22</td>\n",
       "      <td>51</td>\n",
       "      <td>9200.937935</td>\n",
       "    </tr>\n",
       "  </tbody>\n",
       "</table>\n",
       "</div>"
      ],
      "text/plain": [
       "                                             0         1         2   \\\n",
       "0  dx7tfNuNmuoHsRrM/qxVFSQxvsFpL0X68wjkEHiJ2bk=  20160921  20161021   \n",
       "1  dx8DaYO7EG7Q0yx3nDULpKvVKaswjCzBw3+CckARskw=  20161130  20170118   \n",
       "2  dx9aHQzyWE0ZKT1Ezn+gaKdDD/ZlUNnVlmosQZUo2AI=  20161231  20170206   \n",
       "3  dx9n7Np84QfTBvIVuZ7cnmGAyqTtUOKFQ6s8qBpZeJM=  20160902  20161001   \n",
       "4  dxA9zQQ5WD9U4JG5nkWh4S7P5NWJcC9LUPdl913zGWo=  20161011  20161111   \n",
       "\n",
       "          3         4         5         6          7          8   \\\n",
       "0   2.857143  0.857143  0.571429  0.571429  12.000000  12.857143   \n",
       "1  11.000000  0.400000  0.800000  0.400000  22.200000  32.400000   \n",
       "2   0.928571  0.928571  0.500000  0.500000  15.571429  13.857143   \n",
       "3   8.633333  2.600000  1.933333  3.033333  45.566667  30.433333   \n",
       "4   1.600000  3.000000  0.800000  0.600000   4.400000  10.200000   \n",
       "\n",
       "             9    10  11  12  13    14   15             16  \n",
       "0   3314.734288   20   6   4   4    84   90   23203.140015  \n",
       "1   5743.954788   55   2   4   2   111  162   28719.773941  \n",
       "2   3697.575038   13  13   7   7   218  194   51766.050537  \n",
       "3  13681.262248  259  78  58  91  1367  913  410437.867432  \n",
       "4   1840.187587    8  15   4   3    22   51    9200.937935  "
      ]
     },
     "execution_count": 8,
     "metadata": {},
     "output_type": "execute_result"
    }
   ],
   "source": [
    "log_summary[:5]"
   ]
  },
  {
   "cell_type": "code",
   "execution_count": 9,
   "metadata": {
    "collapsed": false,
    "scrolled": true
   },
   "outputs": [
    {
     "data": {
      "text/html": [
       "<div>\n",
       "<style>\n",
       "    .dataframe thead tr:only-child th {\n",
       "        text-align: right;\n",
       "    }\n",
       "\n",
       "    .dataframe thead th {\n",
       "        text-align: left;\n",
       "    }\n",
       "\n",
       "    .dataframe tbody tr th {\n",
       "        vertical-align: top;\n",
       "    }\n",
       "</style>\n",
       "<table border=\"1\" class=\"dataframe\">\n",
       "  <thead>\n",
       "    <tr style=\"text-align: right;\">\n",
       "      <th></th>\n",
       "      <th>msno</th>\n",
       "      <th>city</th>\n",
       "      <th>bd</th>\n",
       "      <th>registered_via</th>\n",
       "      <th>registration_init_time</th>\n",
       "      <th>count</th>\n",
       "      <th>payment_method_id</th>\n",
       "      <th>payment_plan_days</th>\n",
       "      <th>plan_list_price</th>\n",
       "      <th>actual_amount_paid</th>\n",
       "      <th>is_auto_renew</th>\n",
       "      <th>transaction_date</th>\n",
       "      <th>membership_expire_date</th>\n",
       "      <th>is_cancel</th>\n",
       "      <th>FebChurn</th>\n",
       "      <th>MarChurn</th>\n",
       "    </tr>\n",
       "  </thead>\n",
       "  <tbody>\n",
       "    <tr>\n",
       "      <th>0</th>\n",
       "      <td>3izC3XTLkPKhtsh4ZUvjMuIom17888+rkvOS99M2GyU=</td>\n",
       "      <td>1.0</td>\n",
       "      <td>0.0</td>\n",
       "      <td>9.0</td>\n",
       "      <td>20130611.0</td>\n",
       "      <td>237.0</td>\n",
       "      <td>38</td>\n",
       "      <td>30</td>\n",
       "      <td>149</td>\n",
       "      <td>149</td>\n",
       "      <td>0</td>\n",
       "      <td>20160920</td>\n",
       "      <td>20161020</td>\n",
       "      <td>0</td>\n",
       "      <td>1.0</td>\n",
       "      <td>NaN</td>\n",
       "    </tr>\n",
       "    <tr>\n",
       "      <th>1</th>\n",
       "      <td>3izC3XTLkPKhtsh4ZUvjMuIom17888+rkvOS99M2GyU=</td>\n",
       "      <td>1.0</td>\n",
       "      <td>0.0</td>\n",
       "      <td>9.0</td>\n",
       "      <td>20130611.0</td>\n",
       "      <td>237.0</td>\n",
       "      <td>38</td>\n",
       "      <td>30</td>\n",
       "      <td>149</td>\n",
       "      <td>149</td>\n",
       "      <td>0</td>\n",
       "      <td>20170123</td>\n",
       "      <td>20170222</td>\n",
       "      <td>0</td>\n",
       "      <td>1.0</td>\n",
       "      <td>NaN</td>\n",
       "    </tr>\n",
       "    <tr>\n",
       "      <th>2</th>\n",
       "      <td>3izC3XTLkPKhtsh4ZUvjMuIom17888+rkvOS99M2GyU=</td>\n",
       "      <td>1.0</td>\n",
       "      <td>0.0</td>\n",
       "      <td>9.0</td>\n",
       "      <td>20130611.0</td>\n",
       "      <td>237.0</td>\n",
       "      <td>38</td>\n",
       "      <td>30</td>\n",
       "      <td>149</td>\n",
       "      <td>149</td>\n",
       "      <td>0</td>\n",
       "      <td>20161210</td>\n",
       "      <td>20170109</td>\n",
       "      <td>0</td>\n",
       "      <td>1.0</td>\n",
       "      <td>NaN</td>\n",
       "    </tr>\n",
       "    <tr>\n",
       "      <th>3</th>\n",
       "      <td>3izC3XTLkPKhtsh4ZUvjMuIom17888+rkvOS99M2GyU=</td>\n",
       "      <td>1.0</td>\n",
       "      <td>0.0</td>\n",
       "      <td>9.0</td>\n",
       "      <td>20130611.0</td>\n",
       "      <td>237.0</td>\n",
       "      <td>38</td>\n",
       "      <td>30</td>\n",
       "      <td>149</td>\n",
       "      <td>149</td>\n",
       "      <td>0</td>\n",
       "      <td>20161109</td>\n",
       "      <td>20161209</td>\n",
       "      <td>0</td>\n",
       "      <td>1.0</td>\n",
       "      <td>NaN</td>\n",
       "    </tr>\n",
       "    <tr>\n",
       "      <th>4</th>\n",
       "      <td>jwIvIww2DPQJdnmJF+H72zYOIGizIL9cd4qkGZZEnLo=</td>\n",
       "      <td>1.0</td>\n",
       "      <td>21.0</td>\n",
       "      <td>3.0</td>\n",
       "      <td>20150329.0</td>\n",
       "      <td>101.0</td>\n",
       "      <td>29</td>\n",
       "      <td>30</td>\n",
       "      <td>180</td>\n",
       "      <td>180</td>\n",
       "      <td>0</td>\n",
       "      <td>20161109</td>\n",
       "      <td>20161209</td>\n",
       "      <td>0</td>\n",
       "      <td>1.0</td>\n",
       "      <td>0.0</td>\n",
       "    </tr>\n",
       "  </tbody>\n",
       "</table>\n",
       "</div>"
      ],
      "text/plain": [
       "                                           msno  city    bd  registered_via  \\\n",
       "0  3izC3XTLkPKhtsh4ZUvjMuIom17888+rkvOS99M2GyU=   1.0   0.0             9.0   \n",
       "1  3izC3XTLkPKhtsh4ZUvjMuIom17888+rkvOS99M2GyU=   1.0   0.0             9.0   \n",
       "2  3izC3XTLkPKhtsh4ZUvjMuIom17888+rkvOS99M2GyU=   1.0   0.0             9.0   \n",
       "3  3izC3XTLkPKhtsh4ZUvjMuIom17888+rkvOS99M2GyU=   1.0   0.0             9.0   \n",
       "4  jwIvIww2DPQJdnmJF+H72zYOIGizIL9cd4qkGZZEnLo=   1.0  21.0             3.0   \n",
       "\n",
       "   registration_init_time  count  payment_method_id  payment_plan_days  \\\n",
       "0              20130611.0  237.0                 38                 30   \n",
       "1              20130611.0  237.0                 38                 30   \n",
       "2              20130611.0  237.0                 38                 30   \n",
       "3              20130611.0  237.0                 38                 30   \n",
       "4              20150329.0  101.0                 29                 30   \n",
       "\n",
       "   plan_list_price  actual_amount_paid  is_auto_renew  transaction_date  \\\n",
       "0              149                 149              0          20160920   \n",
       "1              149                 149              0          20170123   \n",
       "2              149                 149              0          20161210   \n",
       "3              149                 149              0          20161109   \n",
       "4              180                 180              0          20161109   \n",
       "\n",
       "   membership_expire_date  is_cancel  FebChurn  MarChurn  \n",
       "0                20161020          0       1.0       NaN  \n",
       "1                20170222          0       1.0       NaN  \n",
       "2                20170109          0       1.0       NaN  \n",
       "3                20161209          0       1.0       NaN  \n",
       "4                20161209          0       1.0       0.0  "
      ]
     },
     "execution_count": 9,
     "metadata": {},
     "output_type": "execute_result"
    }
   ],
   "source": [
    "transaction[:5]"
   ]
  },
  {
   "cell_type": "markdown",
   "metadata": {},
   "source": [
    "- to set column name in User_log_summary table"
   ]
  },
  {
   "cell_type": "code",
   "execution_count": 6,
   "metadata": {
    "collapsed": true
   },
   "outputs": [],
   "source": [
    "log_summary.columns = ['msno','transaction_date_in_log','membership_expire_date_in_log','avg_num_25',\n",
    "'avg_num_50','avg_num_75','avg_num_985', 'avg_num_100',\n",
    "'avg_num_unq','avg_total_sec','sum_num_25','sum_num_50',\n",
    "'sum_num_75','sum_num_985','sum_num_100','sum_num_unq','sum_total_sec']"
   ]
  },
  {
   "cell_type": "code",
   "execution_count": 7,
   "metadata": {
    "collapsed": false
   },
   "outputs": [
    {
     "data": {
      "text/html": [
       "<div>\n",
       "<table border=\"1\" class=\"dataframe\">\n",
       "  <thead>\n",
       "    <tr style=\"text-align: right;\">\n",
       "      <th></th>\n",
       "      <th>msno</th>\n",
       "      <th>transaction_date_in_log</th>\n",
       "      <th>membership_expire_date_in_log</th>\n",
       "      <th>avg_num_25</th>\n",
       "      <th>avg_num_50</th>\n",
       "      <th>avg_num_75</th>\n",
       "      <th>avg_num_985</th>\n",
       "      <th>avg_num_100</th>\n",
       "      <th>avg_num_unq</th>\n",
       "      <th>avg_total_sec</th>\n",
       "      <th>sum_num_25</th>\n",
       "      <th>sum_num_50</th>\n",
       "      <th>sum_num_75</th>\n",
       "      <th>sum_num_985</th>\n",
       "      <th>sum_num_100</th>\n",
       "      <th>sum_num_unq</th>\n",
       "      <th>sum_total_sec</th>\n",
       "    </tr>\n",
       "  </thead>\n",
       "  <tbody>\n",
       "    <tr>\n",
       "      <th>0</th>\n",
       "      <td>dx7tfNuNmuoHsRrM/qxVFSQxvsFpL0X68wjkEHiJ2bk=</td>\n",
       "      <td>20160921</td>\n",
       "      <td>20161021</td>\n",
       "      <td>2.857143</td>\n",
       "      <td>0.857143</td>\n",
       "      <td>0.571429</td>\n",
       "      <td>0.571429</td>\n",
       "      <td>12.000000</td>\n",
       "      <td>12.857143</td>\n",
       "      <td>3314.734288</td>\n",
       "      <td>20</td>\n",
       "      <td>6</td>\n",
       "      <td>4</td>\n",
       "      <td>4</td>\n",
       "      <td>84</td>\n",
       "      <td>90</td>\n",
       "      <td>23203.140015</td>\n",
       "    </tr>\n",
       "    <tr>\n",
       "      <th>1</th>\n",
       "      <td>dx8DaYO7EG7Q0yx3nDULpKvVKaswjCzBw3+CckARskw=</td>\n",
       "      <td>20161130</td>\n",
       "      <td>20170118</td>\n",
       "      <td>11.000000</td>\n",
       "      <td>0.400000</td>\n",
       "      <td>0.800000</td>\n",
       "      <td>0.400000</td>\n",
       "      <td>22.200000</td>\n",
       "      <td>32.400000</td>\n",
       "      <td>5743.954788</td>\n",
       "      <td>55</td>\n",
       "      <td>2</td>\n",
       "      <td>4</td>\n",
       "      <td>2</td>\n",
       "      <td>111</td>\n",
       "      <td>162</td>\n",
       "      <td>28719.773941</td>\n",
       "    </tr>\n",
       "    <tr>\n",
       "      <th>2</th>\n",
       "      <td>dx9aHQzyWE0ZKT1Ezn+gaKdDD/ZlUNnVlmosQZUo2AI=</td>\n",
       "      <td>20161231</td>\n",
       "      <td>20170206</td>\n",
       "      <td>0.928571</td>\n",
       "      <td>0.928571</td>\n",
       "      <td>0.500000</td>\n",
       "      <td>0.500000</td>\n",
       "      <td>15.571429</td>\n",
       "      <td>13.857143</td>\n",
       "      <td>3697.575038</td>\n",
       "      <td>13</td>\n",
       "      <td>13</td>\n",
       "      <td>7</td>\n",
       "      <td>7</td>\n",
       "      <td>218</td>\n",
       "      <td>194</td>\n",
       "      <td>51766.050537</td>\n",
       "    </tr>\n",
       "    <tr>\n",
       "      <th>3</th>\n",
       "      <td>dx9n7Np84QfTBvIVuZ7cnmGAyqTtUOKFQ6s8qBpZeJM=</td>\n",
       "      <td>20160902</td>\n",
       "      <td>20161001</td>\n",
       "      <td>8.633333</td>\n",
       "      <td>2.600000</td>\n",
       "      <td>1.933333</td>\n",
       "      <td>3.033333</td>\n",
       "      <td>45.566667</td>\n",
       "      <td>30.433333</td>\n",
       "      <td>13681.262248</td>\n",
       "      <td>259</td>\n",
       "      <td>78</td>\n",
       "      <td>58</td>\n",
       "      <td>91</td>\n",
       "      <td>1367</td>\n",
       "      <td>913</td>\n",
       "      <td>410437.867432</td>\n",
       "    </tr>\n",
       "    <tr>\n",
       "      <th>4</th>\n",
       "      <td>dxA9zQQ5WD9U4JG5nkWh4S7P5NWJcC9LUPdl913zGWo=</td>\n",
       "      <td>20161011</td>\n",
       "      <td>20161111</td>\n",
       "      <td>1.600000</td>\n",
       "      <td>3.000000</td>\n",
       "      <td>0.800000</td>\n",
       "      <td>0.600000</td>\n",
       "      <td>4.400000</td>\n",
       "      <td>10.200000</td>\n",
       "      <td>1840.187587</td>\n",
       "      <td>8</td>\n",
       "      <td>15</td>\n",
       "      <td>4</td>\n",
       "      <td>3</td>\n",
       "      <td>22</td>\n",
       "      <td>51</td>\n",
       "      <td>9200.937935</td>\n",
       "    </tr>\n",
       "  </tbody>\n",
       "</table>\n",
       "</div>"
      ],
      "text/plain": [
       "                                           msno  transaction_date_in_log  \\\n",
       "0  dx7tfNuNmuoHsRrM/qxVFSQxvsFpL0X68wjkEHiJ2bk=                 20160921   \n",
       "1  dx8DaYO7EG7Q0yx3nDULpKvVKaswjCzBw3+CckARskw=                 20161130   \n",
       "2  dx9aHQzyWE0ZKT1Ezn+gaKdDD/ZlUNnVlmosQZUo2AI=                 20161231   \n",
       "3  dx9n7Np84QfTBvIVuZ7cnmGAyqTtUOKFQ6s8qBpZeJM=                 20160902   \n",
       "4  dxA9zQQ5WD9U4JG5nkWh4S7P5NWJcC9LUPdl913zGWo=                 20161011   \n",
       "\n",
       "   membership_expire_date_in_log  avg_num_25  avg_num_50  avg_num_75  \\\n",
       "0                       20161021    2.857143    0.857143    0.571429   \n",
       "1                       20170118   11.000000    0.400000    0.800000   \n",
       "2                       20170206    0.928571    0.928571    0.500000   \n",
       "3                       20161001    8.633333    2.600000    1.933333   \n",
       "4                       20161111    1.600000    3.000000    0.800000   \n",
       "\n",
       "   avg_num_985  avg_num_100  avg_num_unq  avg_total_sec  sum_num_25  \\\n",
       "0     0.571429    12.000000    12.857143    3314.734288          20   \n",
       "1     0.400000    22.200000    32.400000    5743.954788          55   \n",
       "2     0.500000    15.571429    13.857143    3697.575038          13   \n",
       "3     3.033333    45.566667    30.433333   13681.262248         259   \n",
       "4     0.600000     4.400000    10.200000    1840.187587           8   \n",
       "\n",
       "   sum_num_50  sum_num_75  sum_num_985  sum_num_100  sum_num_unq  \\\n",
       "0           6           4            4           84           90   \n",
       "1           2           4            2          111          162   \n",
       "2          13           7            7          218          194   \n",
       "3          78          58           91         1367          913   \n",
       "4          15           4            3           22           51   \n",
       "\n",
       "   sum_total_sec  \n",
       "0   23203.140015  \n",
       "1   28719.773941  \n",
       "2   51766.050537  \n",
       "3  410437.867432  \n",
       "4    9200.937935  "
      ]
     },
     "execution_count": 7,
     "metadata": {},
     "output_type": "execute_result"
    }
   ],
   "source": [
    "log_summary[:5]"
   ]
  },
  {
   "cell_type": "code",
   "execution_count": 8,
   "metadata": {
    "collapsed": false,
    "scrolled": true
   },
   "outputs": [
    {
     "data": {
      "text/plain": [
       "msno                              object\n",
       "transaction_date_in_log            int64\n",
       "membership_expire_date_in_log      int64\n",
       "avg_num_25                       float64\n",
       "avg_num_50                       float64\n",
       "avg_num_75                       float64\n",
       "avg_num_985                      float64\n",
       "avg_num_100                      float64\n",
       "avg_num_unq                      float64\n",
       "avg_total_sec                    float64\n",
       "sum_num_25                         int64\n",
       "sum_num_50                         int64\n",
       "sum_num_75                         int64\n",
       "sum_num_985                        int64\n",
       "sum_num_100                        int64\n",
       "sum_num_unq                        int64\n",
       "sum_total_sec                    float64\n",
       "dtype: object"
      ]
     },
     "execution_count": 8,
     "metadata": {},
     "output_type": "execute_result"
    }
   ],
   "source": [
    "log_summary.dtypes"
   ]
  },
  {
   "cell_type": "code",
   "execution_count": 13,
   "metadata": {
    "collapsed": false
   },
   "outputs": [
    {
     "data": {
      "text/plain": [
       "msno                       object\n",
       "city                      float64\n",
       "bd                        float64\n",
       "registered_via            float64\n",
       "registration_init_time    float64\n",
       "count                     float64\n",
       "payment_method_id           int64\n",
       "payment_plan_days           int64\n",
       "plan_list_price             int64\n",
       "actual_amount_paid          int64\n",
       "is_auto_renew               int64\n",
       "transaction_date            int64\n",
       "membership_expire_date      int64\n",
       "is_cancel                   int64\n",
       "FebChurn                  float64\n",
       "MarChurn                  float64\n",
       "dtype: object"
      ]
     },
     "execution_count": 13,
     "metadata": {},
     "output_type": "execute_result"
    }
   ],
   "source": [
    "transaction.dtypes"
   ]
  },
  {
   "cell_type": "markdown",
   "metadata": {},
   "source": [
    "- Change data type\n",
    "    - log_summary\n",
    "        - date : transaction_date_in_log, membership_expire_date_in_log\n",
    "    - transaction \n",
    "        - str : city, registered_via, payment_method_id, is_auto_renew, FebChurn, MarChurn\n",
    "        - int : bd, count, is_cancel\n",
    "        - date : registration_init_time, transaction_date, membership_expire_date"
   ]
  },
  {
   "cell_type": "code",
   "execution_count": 9,
   "metadata": {
    "collapsed": false
   },
   "outputs": [],
   "source": [
    "log_summary[['transaction_date_in_log','membership_expire_date_in_log']] = log_summary[['transaction_date_in_log','membership_expire_date_in_log']].astype(str)"
   ]
  },
  {
   "cell_type": "code",
   "execution_count": 10,
   "metadata": {
    "collapsed": true
   },
   "outputs": [],
   "source": [
    "log_summary['transaction_date_in_log'] = pd.to_datetime(log_summary.transaction_date_in_log, format=\"%Y%m%d\")\n",
    "log_summary['membership_expire_date_in_log'] = pd.to_datetime(log_summary.membership_expire_date_in_log, format=\"%Y%m%d\")"
   ]
  },
  {
   "cell_type": "code",
   "execution_count": 11,
   "metadata": {
    "collapsed": false
   },
   "outputs": [
    {
     "data": {
      "text/plain": [
       "msno                           0\n",
       "city                      764206\n",
       "bd                        764206\n",
       "registered_via            764206\n",
       "registration_init_time    764206\n",
       "count                     817125\n",
       "payment_method_id              0\n",
       "payment_plan_days              0\n",
       "plan_list_price                0\n",
       "actual_amount_paid             0\n",
       "is_auto_renew                  0\n",
       "transaction_date               0\n",
       "membership_expire_date         0\n",
       "is_cancel                      0\n",
       "FebChurn                  255197\n",
       "MarChurn                  509304\n",
       "dtype: int64"
      ]
     },
     "execution_count": 11,
     "metadata": {},
     "output_type": "execute_result"
    }
   ],
   "source": [
    "transaction.isnull().sum()"
   ]
  },
  {
   "cell_type": "code",
   "execution_count": 12,
   "metadata": {
    "collapsed": true
   },
   "outputs": [],
   "source": [
    "transaction[['city','registered_via','payment_method_id','is_auto_renew','FebChurn','MarChurn','transaction_date','membership_expire_date','is_cancel']] = transaction[['city','registered_via','payment_method_id','is_auto_renew','FebChurn','MarChurn','transaction_date','membership_expire_date','is_cancel']].astype(str)\n",
    "transaction[['bd','count']] = transaction[['bd','count']].fillna(0).astype(int)"
   ]
  },
  {
   "cell_type": "code",
   "execution_count": 18,
   "metadata": {
    "collapsed": false
   },
   "outputs": [
    {
     "data": {
      "text/plain": [
       "registration_init_time    764206\n",
       "dtype: int64"
      ]
     },
     "execution_count": 18,
     "metadata": {},
     "output_type": "execute_result"
    }
   ],
   "source": [
    "transaction[['registration_init_time']].isnull().sum()"
   ]
  },
  {
   "cell_type": "markdown",
   "metadata": {},
   "source": [
    "transaction은 있는데, member 정보(registration_init_time)가 없는 msno가 많네..."
   ]
  },
  {
   "cell_type": "code",
   "execution_count": 13,
   "metadata": {
    "collapsed": false
   },
   "outputs": [],
   "source": [
    "transaction[['registration_init_time']] = transaction[['registration_init_time']].astype(str)"
   ]
  },
  {
   "cell_type": "code",
   "execution_count": 14,
   "metadata": {
    "collapsed": false
   },
   "outputs": [],
   "source": [
    "transaction['registration_init_time'] = pd.to_datetime(transaction.registration_init_time, format=\"%Y%m%d.0\")\n",
    "transaction['transaction_date'] = pd.to_datetime(transaction.transaction_date, format=\"%Y%m%d\")\n",
    "transaction['membership_expire_date'] = pd.to_datetime(transaction.membership_expire_date, format=\"%Y%m%d\")"
   ]
  },
  {
   "cell_type": "code",
   "execution_count": 15,
   "metadata": {
    "collapsed": false
   },
   "outputs": [
    {
     "data": {
      "text/plain": [
       "msno                                     object\n",
       "transaction_date_in_log          datetime64[ns]\n",
       "membership_expire_date_in_log    datetime64[ns]\n",
       "avg_num_25                              float64\n",
       "avg_num_50                              float64\n",
       "avg_num_75                              float64\n",
       "avg_num_985                             float64\n",
       "avg_num_100                             float64\n",
       "avg_num_unq                             float64\n",
       "avg_total_sec                           float64\n",
       "sum_num_25                                int64\n",
       "sum_num_50                                int64\n",
       "sum_num_75                                int64\n",
       "sum_num_985                               int64\n",
       "sum_num_100                               int64\n",
       "sum_num_unq                               int64\n",
       "sum_total_sec                           float64\n",
       "dtype: object"
      ]
     },
     "execution_count": 15,
     "metadata": {},
     "output_type": "execute_result"
    }
   ],
   "source": [
    "log_summary.dtypes"
   ]
  },
  {
   "cell_type": "code",
   "execution_count": 22,
   "metadata": {
    "collapsed": false,
    "scrolled": true
   },
   "outputs": [
    {
     "data": {
      "text/plain": [
       "msno                              object\n",
       "city                              object\n",
       "bd                                 int32\n",
       "registered_via                    object\n",
       "registration_init_time    datetime64[ns]\n",
       "count                              int32\n",
       "payment_method_id                 object\n",
       "payment_plan_days                  int64\n",
       "plan_list_price                    int64\n",
       "actual_amount_paid                 int64\n",
       "is_auto_renew                     object\n",
       "transaction_date          datetime64[ns]\n",
       "membership_expire_date    datetime64[ns]\n",
       "is_cancel                         object\n",
       "FebChurn                          object\n",
       "MarChurn                          object\n",
       "dtype: object"
      ]
     },
     "execution_count": 22,
     "metadata": {},
     "output_type": "execute_result"
    }
   ],
   "source": [
    "transaction.dtypes"
   ]
  },
  {
   "cell_type": "markdown",
   "metadata": {},
   "source": [
    "Complete set data type each table"
   ]
  },
  {
   "cell_type": "markdown",
   "metadata": {},
   "source": [
    "- Check describe"
   ]
  },
  {
   "cell_type": "code",
   "execution_count": 23,
   "metadata": {
    "collapsed": false
   },
   "outputs": [
    {
     "data": {
      "text/html": [
       "<div>\n",
       "<style>\n",
       "    .dataframe thead tr:only-child th {\n",
       "        text-align: right;\n",
       "    }\n",
       "\n",
       "    .dataframe thead th {\n",
       "        text-align: left;\n",
       "    }\n",
       "\n",
       "    .dataframe tbody tr th {\n",
       "        vertical-align: top;\n",
       "    }\n",
       "</style>\n",
       "<table border=\"1\" class=\"dataframe\">\n",
       "  <thead>\n",
       "    <tr style=\"text-align: right;\">\n",
       "      <th></th>\n",
       "      <th>bd</th>\n",
       "      <th>count</th>\n",
       "      <th>payment_plan_days</th>\n",
       "      <th>plan_list_price</th>\n",
       "      <th>actual_amount_paid</th>\n",
       "    </tr>\n",
       "  </thead>\n",
       "  <tbody>\n",
       "    <tr>\n",
       "      <th>count</th>\n",
       "      <td>6670740.00</td>\n",
       "      <td>6670740.00</td>\n",
       "      <td>6670740.00</td>\n",
       "      <td>6670740.00</td>\n",
       "      <td>6670740.00</td>\n",
       "    </tr>\n",
       "    <tr>\n",
       "      <th>mean</th>\n",
       "      <td>11.98</td>\n",
       "      <td>256.13</td>\n",
       "      <td>31.51</td>\n",
       "      <td>135.81</td>\n",
       "      <td>135.41</td>\n",
       "    </tr>\n",
       "    <tr>\n",
       "      <th>std</th>\n",
       "      <td>19.59</td>\n",
       "      <td>230.73</td>\n",
       "      <td>19.81</td>\n",
       "      <td>86.11</td>\n",
       "      <td>86.36</td>\n",
       "    </tr>\n",
       "    <tr>\n",
       "      <th>min</th>\n",
       "      <td>-3152.00</td>\n",
       "      <td>0.00</td>\n",
       "      <td>1.00</td>\n",
       "      <td>0.00</td>\n",
       "      <td>0.00</td>\n",
       "    </tr>\n",
       "    <tr>\n",
       "      <th>25%</th>\n",
       "      <td>0.00</td>\n",
       "      <td>43.00</td>\n",
       "      <td>30.00</td>\n",
       "      <td>99.00</td>\n",
       "      <td>99.00</td>\n",
       "    </tr>\n",
       "    <tr>\n",
       "      <th>50%</th>\n",
       "      <td>0.00</td>\n",
       "      <td>199.00</td>\n",
       "      <td>30.00</td>\n",
       "      <td>149.00</td>\n",
       "      <td>149.00</td>\n",
       "    </tr>\n",
       "    <tr>\n",
       "      <th>75%</th>\n",
       "      <td>26.00</td>\n",
       "      <td>430.00</td>\n",
       "      <td>30.00</td>\n",
       "      <td>149.00</td>\n",
       "      <td>149.00</td>\n",
       "    </tr>\n",
       "    <tr>\n",
       "      <th>max</th>\n",
       "      <td>2016.00</td>\n",
       "      <td>790.00</td>\n",
       "      <td>450.00</td>\n",
       "      <td>2000.00</td>\n",
       "      <td>2000.00</td>\n",
       "    </tr>\n",
       "  </tbody>\n",
       "</table>\n",
       "</div>"
      ],
      "text/plain": [
       "               bd       count  payment_plan_days  plan_list_price  \\\n",
       "count  6670740.00  6670740.00         6670740.00       6670740.00   \n",
       "mean        11.98      256.13              31.51           135.81   \n",
       "std         19.59      230.73              19.81            86.11   \n",
       "min      -3152.00        0.00               1.00             0.00   \n",
       "25%          0.00       43.00              30.00            99.00   \n",
       "50%          0.00      199.00              30.00           149.00   \n",
       "75%         26.00      430.00              30.00           149.00   \n",
       "max       2016.00      790.00             450.00          2000.00   \n",
       "\n",
       "       actual_amount_paid  \n",
       "count          6670740.00  \n",
       "mean               135.41  \n",
       "std                 86.36  \n",
       "min                  0.00  \n",
       "25%                 99.00  \n",
       "50%                149.00  \n",
       "75%                149.00  \n",
       "max               2000.00  "
      ]
     },
     "execution_count": 23,
     "metadata": {},
     "output_type": "execute_result"
    }
   ],
   "source": [
    "transaction.describe().round(2)"
   ]
  },
  {
   "cell_type": "code",
   "execution_count": 24,
   "metadata": {
    "collapsed": false
   },
   "outputs": [
    {
     "data": {
      "text/html": [
       "<div>\n",
       "<style>\n",
       "    .dataframe thead tr:only-child th {\n",
       "        text-align: right;\n",
       "    }\n",
       "\n",
       "    .dataframe thead th {\n",
       "        text-align: left;\n",
       "    }\n",
       "\n",
       "    .dataframe tbody tr th {\n",
       "        vertical-align: top;\n",
       "    }\n",
       "</style>\n",
       "<table border=\"1\" class=\"dataframe\">\n",
       "  <thead>\n",
       "    <tr style=\"text-align: right;\">\n",
       "      <th></th>\n",
       "      <th>msno</th>\n",
       "      <th>city</th>\n",
       "      <th>registered_via</th>\n",
       "      <th>registration_init_time</th>\n",
       "      <th>payment_method_id</th>\n",
       "      <th>is_auto_renew</th>\n",
       "      <th>transaction_date</th>\n",
       "      <th>membership_expire_date</th>\n",
       "      <th>is_cancel</th>\n",
       "      <th>FebChurn</th>\n",
       "      <th>MarChurn</th>\n",
       "    </tr>\n",
       "  </thead>\n",
       "  <tbody>\n",
       "    <tr>\n",
       "      <th>count</th>\n",
       "      <td>6670740</td>\n",
       "      <td>6670740</td>\n",
       "      <td>6670740</td>\n",
       "      <td>5906534</td>\n",
       "      <td>6670740</td>\n",
       "      <td>6670740</td>\n",
       "      <td>6670740</td>\n",
       "      <td>6670740</td>\n",
       "      <td>6670740</td>\n",
       "      <td>6670740</td>\n",
       "      <td>6670740</td>\n",
       "    </tr>\n",
       "    <tr>\n",
       "      <th>unique</th>\n",
       "      <td>1071847</td>\n",
       "      <td>22</td>\n",
       "      <td>6</td>\n",
       "      <td>4750</td>\n",
       "      <td>33</td>\n",
       "      <td>2</td>\n",
       "      <td>212</td>\n",
       "      <td>1120</td>\n",
       "      <td>2</td>\n",
       "      <td>3</td>\n",
       "      <td>3</td>\n",
       "    </tr>\n",
       "    <tr>\n",
       "      <th>top</th>\n",
       "      <td>WHsCtkOVsauvqBL0ULuG38887y7aU8GXdCmJMjw6hjQ=</td>\n",
       "      <td>1.0</td>\n",
       "      <td>7.0</td>\n",
       "      <td>2015-10-09 00:00:00</td>\n",
       "      <td>41</td>\n",
       "      <td>1</td>\n",
       "      <td>2017-02-28 00:00:00</td>\n",
       "      <td>2017-02-28 00:00:00</td>\n",
       "      <td>0</td>\n",
       "      <td>0.0</td>\n",
       "      <td>0.0</td>\n",
       "    </tr>\n",
       "    <tr>\n",
       "      <th>freq</th>\n",
       "      <td>150</td>\n",
       "      <td>3053877</td>\n",
       "      <td>3297506</td>\n",
       "      <td>11086</td>\n",
       "      <td>3893548</td>\n",
       "      <td>6052510</td>\n",
       "      <td>201321</td>\n",
       "      <td>130540</td>\n",
       "      <td>6543126</td>\n",
       "      <td>6171620</td>\n",
       "      <td>5775320</td>\n",
       "    </tr>\n",
       "    <tr>\n",
       "      <th>first</th>\n",
       "      <td>NaN</td>\n",
       "      <td>NaN</td>\n",
       "      <td>NaN</td>\n",
       "      <td>2004-03-26 00:00:00</td>\n",
       "      <td>NaN</td>\n",
       "      <td>NaN</td>\n",
       "      <td>2016-09-01 00:00:00</td>\n",
       "      <td>1970-01-01 00:00:00</td>\n",
       "      <td>NaN</td>\n",
       "      <td>NaN</td>\n",
       "      <td>NaN</td>\n",
       "    </tr>\n",
       "    <tr>\n",
       "      <th>last</th>\n",
       "      <td>NaN</td>\n",
       "      <td>NaN</td>\n",
       "      <td>NaN</td>\n",
       "      <td>2017-04-24 00:00:00</td>\n",
       "      <td>NaN</td>\n",
       "      <td>NaN</td>\n",
       "      <td>2017-03-31 00:00:00</td>\n",
       "      <td>2025-10-02 00:00:00</td>\n",
       "      <td>NaN</td>\n",
       "      <td>NaN</td>\n",
       "      <td>NaN</td>\n",
       "    </tr>\n",
       "  </tbody>\n",
       "</table>\n",
       "</div>"
      ],
      "text/plain": [
       "                                                msno     city registered_via  \\\n",
       "count                                        6670740  6670740        6670740   \n",
       "unique                                       1071847       22              6   \n",
       "top     WHsCtkOVsauvqBL0ULuG38887y7aU8GXdCmJMjw6hjQ=      1.0            7.0   \n",
       "freq                                             150  3053877        3297506   \n",
       "first                                            NaN      NaN            NaN   \n",
       "last                                             NaN      NaN            NaN   \n",
       "\n",
       "       registration_init_time payment_method_id is_auto_renew  \\\n",
       "count                 5906534           6670740       6670740   \n",
       "unique                   4750                33             2   \n",
       "top       2015-10-09 00:00:00                41             1   \n",
       "freq                    11086           3893548       6052510   \n",
       "first     2004-03-26 00:00:00               NaN           NaN   \n",
       "last      2017-04-24 00:00:00               NaN           NaN   \n",
       "\n",
       "           transaction_date membership_expire_date is_cancel FebChurn MarChurn  \n",
       "count               6670740                6670740   6670740  6670740  6670740  \n",
       "unique                  212                   1120         2        3        3  \n",
       "top     2017-02-28 00:00:00    2017-02-28 00:00:00         0      0.0      0.0  \n",
       "freq                 201321                 130540   6543126  6171620  5775320  \n",
       "first   2016-09-01 00:00:00    1970-01-01 00:00:00       NaN      NaN      NaN  \n",
       "last    2017-03-31 00:00:00    2025-10-02 00:00:00       NaN      NaN      NaN  "
      ]
     },
     "execution_count": 24,
     "metadata": {},
     "output_type": "execute_result"
    }
   ],
   "source": [
    "transaction[[\"msno\",\"city\",\"registered_via\",                    \n",
    "\"registration_init_time\",\"payment_method_id\",                 \n",
    "\"is_auto_renew\",\"transaction_date\",          \n",
    "\"membership_expire_date\",\"is_cancel\",                         \n",
    "\"FebChurn\",\"MarChurn\"]].describe()"
   ]
  },
  {
   "cell_type": "code",
   "execution_count": 25,
   "metadata": {
    "collapsed": false
   },
   "outputs": [
    {
     "data": {
      "text/html": [
       "<div>\n",
       "<style>\n",
       "    .dataframe thead tr:only-child th {\n",
       "        text-align: right;\n",
       "    }\n",
       "\n",
       "    .dataframe thead th {\n",
       "        text-align: left;\n",
       "    }\n",
       "\n",
       "    .dataframe tbody tr th {\n",
       "        vertical-align: top;\n",
       "    }\n",
       "</style>\n",
       "<table border=\"1\" class=\"dataframe\">\n",
       "  <thead>\n",
       "    <tr style=\"text-align: right;\">\n",
       "      <th></th>\n",
       "      <th>avg_num_25</th>\n",
       "      <th>avg_num_50</th>\n",
       "      <th>avg_num_75</th>\n",
       "      <th>avg_num_985</th>\n",
       "      <th>avg_num_100</th>\n",
       "      <th>avg_num_unq</th>\n",
       "      <th>avg_total_sec</th>\n",
       "      <th>sum_num_25</th>\n",
       "      <th>sum_num_50</th>\n",
       "      <th>sum_num_75</th>\n",
       "      <th>sum_num_985</th>\n",
       "      <th>sum_num_100</th>\n",
       "      <th>sum_num_unq</th>\n",
       "      <th>sum_total_sec</th>\n",
       "    </tr>\n",
       "  </thead>\n",
       "  <tbody>\n",
       "    <tr>\n",
       "      <th>count</th>\n",
       "      <td>5603682.00</td>\n",
       "      <td>5603682.00</td>\n",
       "      <td>5603682.00</td>\n",
       "      <td>5603682.00</td>\n",
       "      <td>5603682.00</td>\n",
       "      <td>5603682.00</td>\n",
       "      <td>5603682.00</td>\n",
       "      <td>5603682.00</td>\n",
       "      <td>5603682.00</td>\n",
       "      <td>5603682.00</td>\n",
       "      <td>5603682.00</td>\n",
       "      <td>5603682.00</td>\n",
       "      <td>5603682.00</td>\n",
       "      <td>5603682.00</td>\n",
       "    </tr>\n",
       "    <tr>\n",
       "      <th>mean</th>\n",
       "      <td>5.76</td>\n",
       "      <td>1.42</td>\n",
       "      <td>0.87</td>\n",
       "      <td>0.95</td>\n",
       "      <td>24.67</td>\n",
       "      <td>24.90</td>\n",
       "      <td>6527.75</td>\n",
       "      <td>122.84</td>\n",
       "      <td>30.11</td>\n",
       "      <td>19.00</td>\n",
       "      <td>21.38</td>\n",
       "      <td>575.54</td>\n",
       "      <td>560.74</td>\n",
       "      <td>151224.34</td>\n",
       "    </tr>\n",
       "    <tr>\n",
       "      <th>std</th>\n",
       "      <td>7.87</td>\n",
       "      <td>1.99</td>\n",
       "      <td>1.04</td>\n",
       "      <td>1.65</td>\n",
       "      <td>26.85</td>\n",
       "      <td>20.46</td>\n",
       "      <td>6471.92</td>\n",
       "      <td>235.39</td>\n",
       "      <td>52.70</td>\n",
       "      <td>30.92</td>\n",
       "      <td>64.56</td>\n",
       "      <td>1017.90</td>\n",
       "      <td>832.13</td>\n",
       "      <td>249715.06</td>\n",
       "    </tr>\n",
       "    <tr>\n",
       "      <th>min</th>\n",
       "      <td>0.00</td>\n",
       "      <td>0.00</td>\n",
       "      <td>0.00</td>\n",
       "      <td>0.00</td>\n",
       "      <td>0.00</td>\n",
       "      <td>1.00</td>\n",
       "      <td>0.01</td>\n",
       "      <td>0.00</td>\n",
       "      <td>0.00</td>\n",
       "      <td>0.00</td>\n",
       "      <td>0.00</td>\n",
       "      <td>0.00</td>\n",
       "      <td>1.00</td>\n",
       "      <td>0.01</td>\n",
       "    </tr>\n",
       "    <tr>\n",
       "      <th>25%</th>\n",
       "      <td>1.80</td>\n",
       "      <td>0.48</td>\n",
       "      <td>0.33</td>\n",
       "      <td>0.33</td>\n",
       "      <td>10.08</td>\n",
       "      <td>12.11</td>\n",
       "      <td>2880.93</td>\n",
       "      <td>17.00</td>\n",
       "      <td>4.00</td>\n",
       "      <td>3.00</td>\n",
       "      <td>3.00</td>\n",
       "      <td>89.00</td>\n",
       "      <td>105.00</td>\n",
       "      <td>25245.83</td>\n",
       "    </tr>\n",
       "    <tr>\n",
       "      <th>50%</th>\n",
       "      <td>3.67</td>\n",
       "      <td>1.00</td>\n",
       "      <td>0.65</td>\n",
       "      <td>0.67</td>\n",
       "      <td>17.67</td>\n",
       "      <td>19.85</td>\n",
       "      <td>4814.51</td>\n",
       "      <td>55.00</td>\n",
       "      <td>15.00</td>\n",
       "      <td>10.00</td>\n",
       "      <td>10.00</td>\n",
       "      <td>288.00</td>\n",
       "      <td>318.00</td>\n",
       "      <td>79077.09</td>\n",
       "    </tr>\n",
       "    <tr>\n",
       "      <th>75%</th>\n",
       "      <td>7.00</td>\n",
       "      <td>1.75</td>\n",
       "      <td>1.11</td>\n",
       "      <td>1.17</td>\n",
       "      <td>29.64</td>\n",
       "      <td>31.17</td>\n",
       "      <td>7872.74</td>\n",
       "      <td>142.00</td>\n",
       "      <td>36.00</td>\n",
       "      <td>24.00</td>\n",
       "      <td>25.00</td>\n",
       "      <td>674.00</td>\n",
       "      <td>707.00</td>\n",
       "      <td>180933.63</td>\n",
       "    </tr>\n",
       "    <tr>\n",
       "      <th>max</th>\n",
       "      <td>1846.50</td>\n",
       "      <td>452.00</td>\n",
       "      <td>285.00</td>\n",
       "      <td>503.57</td>\n",
       "      <td>5752.33</td>\n",
       "      <td>1560.20</td>\n",
       "      <td>1213647.55</td>\n",
       "      <td>101352.00</td>\n",
       "      <td>8954.00</td>\n",
       "      <td>3079.00</td>\n",
       "      <td>18199.00</td>\n",
       "      <td>80394.00</td>\n",
       "      <td>51262.00</td>\n",
       "      <td>18302891.00</td>\n",
       "    </tr>\n",
       "  </tbody>\n",
       "</table>\n",
       "</div>"
      ],
      "text/plain": [
       "       avg_num_25  avg_num_50  avg_num_75  avg_num_985  avg_num_100  \\\n",
       "count  5603682.00  5603682.00  5603682.00   5603682.00   5603682.00   \n",
       "mean         5.76        1.42        0.87         0.95        24.67   \n",
       "std          7.87        1.99        1.04         1.65        26.85   \n",
       "min          0.00        0.00        0.00         0.00         0.00   \n",
       "25%          1.80        0.48        0.33         0.33        10.08   \n",
       "50%          3.67        1.00        0.65         0.67        17.67   \n",
       "75%          7.00        1.75        1.11         1.17        29.64   \n",
       "max       1846.50      452.00      285.00       503.57      5752.33   \n",
       "\n",
       "       avg_num_unq  avg_total_sec  sum_num_25  sum_num_50  sum_num_75  \\\n",
       "count   5603682.00     5603682.00  5603682.00  5603682.00  5603682.00   \n",
       "mean         24.90        6527.75      122.84       30.11       19.00   \n",
       "std          20.46        6471.92      235.39       52.70       30.92   \n",
       "min           1.00           0.01        0.00        0.00        0.00   \n",
       "25%          12.11        2880.93       17.00        4.00        3.00   \n",
       "50%          19.85        4814.51       55.00       15.00       10.00   \n",
       "75%          31.17        7872.74      142.00       36.00       24.00   \n",
       "max        1560.20     1213647.55   101352.00     8954.00     3079.00   \n",
       "\n",
       "       sum_num_985  sum_num_100  sum_num_unq  sum_total_sec  \n",
       "count   5603682.00   5603682.00   5603682.00     5603682.00  \n",
       "mean         21.38       575.54       560.74      151224.34  \n",
       "std          64.56      1017.90       832.13      249715.06  \n",
       "min           0.00         0.00         1.00           0.01  \n",
       "25%           3.00        89.00       105.00       25245.83  \n",
       "50%          10.00       288.00       318.00       79077.09  \n",
       "75%          25.00       674.00       707.00      180933.63  \n",
       "max       18199.00     80394.00     51262.00    18302891.00  "
      ]
     },
     "execution_count": 25,
     "metadata": {},
     "output_type": "execute_result"
    }
   ],
   "source": [
    "log_summary.describe().round(2)"
   ]
  },
  {
   "cell_type": "code",
   "execution_count": 26,
   "metadata": {
    "collapsed": false
   },
   "outputs": [
    {
     "data": {
      "text/html": [
       "<div>\n",
       "<style>\n",
       "    .dataframe thead tr:only-child th {\n",
       "        text-align: right;\n",
       "    }\n",
       "\n",
       "    .dataframe thead th {\n",
       "        text-align: left;\n",
       "    }\n",
       "\n",
       "    .dataframe tbody tr th {\n",
       "        vertical-align: top;\n",
       "    }\n",
       "</style>\n",
       "<table border=\"1\" class=\"dataframe\">\n",
       "  <thead>\n",
       "    <tr style=\"text-align: right;\">\n",
       "      <th></th>\n",
       "      <th>transaction_date_in_log</th>\n",
       "      <th>membership_expire_date_in_log</th>\n",
       "    </tr>\n",
       "  </thead>\n",
       "  <tbody>\n",
       "    <tr>\n",
       "      <th>count</th>\n",
       "      <td>5603682</td>\n",
       "      <td>5603682</td>\n",
       "    </tr>\n",
       "    <tr>\n",
       "      <th>unique</th>\n",
       "      <td>212</td>\n",
       "      <td>1378</td>\n",
       "    </tr>\n",
       "    <tr>\n",
       "      <th>top</th>\n",
       "      <td>2016-10-31 00:00:00</td>\n",
       "      <td>2017-02-28 00:00:00</td>\n",
       "    </tr>\n",
       "    <tr>\n",
       "      <th>freq</th>\n",
       "      <td>164007</td>\n",
       "      <td>97576</td>\n",
       "    </tr>\n",
       "    <tr>\n",
       "      <th>first</th>\n",
       "      <td>2016-09-01 00:00:00</td>\n",
       "      <td>2016-09-01 00:00:00</td>\n",
       "    </tr>\n",
       "    <tr>\n",
       "      <th>last</th>\n",
       "      <td>2017-03-31 00:00:00</td>\n",
       "      <td>2036-10-15 00:00:00</td>\n",
       "    </tr>\n",
       "  </tbody>\n",
       "</table>\n",
       "</div>"
      ],
      "text/plain": [
       "       transaction_date_in_log membership_expire_date_in_log\n",
       "count                  5603682                       5603682\n",
       "unique                     212                          1378\n",
       "top        2016-10-31 00:00:00           2017-02-28 00:00:00\n",
       "freq                    164007                         97576\n",
       "first      2016-09-01 00:00:00           2016-09-01 00:00:00\n",
       "last       2017-03-31 00:00:00           2036-10-15 00:00:00"
      ]
     },
     "execution_count": 26,
     "metadata": {},
     "output_type": "execute_result"
    }
   ],
   "source": [
    "log_summary[[\"transaction_date_in_log\",\"membership_expire_date_in_log\"]].describe()"
   ]
  },
  {
   "cell_type": "markdown",
   "metadata": {},
   "source": [
    "## Join"
   ]
  },
  {
   "cell_type": "code",
   "execution_count": 16,
   "metadata": {
    "collapsed": false
   },
   "outputs": [
    {
     "data": {
      "text/html": [
       "<div>\n",
       "<table border=\"1\" class=\"dataframe\">\n",
       "  <thead>\n",
       "    <tr style=\"text-align: right;\">\n",
       "      <th></th>\n",
       "      <th>msno</th>\n",
       "      <th>city</th>\n",
       "      <th>bd</th>\n",
       "      <th>registered_via</th>\n",
       "      <th>registration_init_time</th>\n",
       "      <th>count</th>\n",
       "      <th>payment_method_id</th>\n",
       "      <th>payment_plan_days</th>\n",
       "      <th>plan_list_price</th>\n",
       "      <th>actual_amount_paid</th>\n",
       "      <th>is_auto_renew</th>\n",
       "      <th>transaction_date</th>\n",
       "      <th>membership_expire_date</th>\n",
       "      <th>is_cancel</th>\n",
       "      <th>FebChurn</th>\n",
       "      <th>MarChurn</th>\n",
       "    </tr>\n",
       "  </thead>\n",
       "  <tbody>\n",
       "    <tr>\n",
       "      <th>0</th>\n",
       "      <td>3izC3XTLkPKhtsh4ZUvjMuIom17888+rkvOS99M2GyU=</td>\n",
       "      <td>1.0</td>\n",
       "      <td>0</td>\n",
       "      <td>9.0</td>\n",
       "      <td>2013-06-11</td>\n",
       "      <td>237</td>\n",
       "      <td>38</td>\n",
       "      <td>30</td>\n",
       "      <td>149</td>\n",
       "      <td>149</td>\n",
       "      <td>0</td>\n",
       "      <td>2016-09-20</td>\n",
       "      <td>2016-10-20</td>\n",
       "      <td>0</td>\n",
       "      <td>1.0</td>\n",
       "      <td>nan</td>\n",
       "    </tr>\n",
       "    <tr>\n",
       "      <th>1</th>\n",
       "      <td>3izC3XTLkPKhtsh4ZUvjMuIom17888+rkvOS99M2GyU=</td>\n",
       "      <td>1.0</td>\n",
       "      <td>0</td>\n",
       "      <td>9.0</td>\n",
       "      <td>2013-06-11</td>\n",
       "      <td>237</td>\n",
       "      <td>38</td>\n",
       "      <td>30</td>\n",
       "      <td>149</td>\n",
       "      <td>149</td>\n",
       "      <td>0</td>\n",
       "      <td>2017-01-23</td>\n",
       "      <td>2017-02-22</td>\n",
       "      <td>0</td>\n",
       "      <td>1.0</td>\n",
       "      <td>nan</td>\n",
       "    </tr>\n",
       "  </tbody>\n",
       "</table>\n",
       "</div>"
      ],
      "text/plain": [
       "                                           msno city  bd registered_via  \\\n",
       "0  3izC3XTLkPKhtsh4ZUvjMuIom17888+rkvOS99M2GyU=  1.0   0            9.0   \n",
       "1  3izC3XTLkPKhtsh4ZUvjMuIom17888+rkvOS99M2GyU=  1.0   0            9.0   \n",
       "\n",
       "  registration_init_time  count payment_method_id  payment_plan_days  \\\n",
       "0             2013-06-11    237                38                 30   \n",
       "1             2013-06-11    237                38                 30   \n",
       "\n",
       "   plan_list_price  actual_amount_paid is_auto_renew transaction_date  \\\n",
       "0              149                 149             0       2016-09-20   \n",
       "1              149                 149             0       2017-01-23   \n",
       "\n",
       "  membership_expire_date is_cancel FebChurn MarChurn  \n",
       "0             2016-10-20         0      1.0      nan  \n",
       "1             2017-02-22         0      1.0      nan  "
      ]
     },
     "execution_count": 16,
     "metadata": {},
     "output_type": "execute_result"
    }
   ],
   "source": [
    "transaction[:2]"
   ]
  },
  {
   "cell_type": "code",
   "execution_count": 17,
   "metadata": {
    "collapsed": false
   },
   "outputs": [
    {
     "data": {
      "text/html": [
       "<div>\n",
       "<table border=\"1\" class=\"dataframe\">\n",
       "  <thead>\n",
       "    <tr style=\"text-align: right;\">\n",
       "      <th></th>\n",
       "      <th>msno</th>\n",
       "      <th>transaction_date_in_log</th>\n",
       "      <th>membership_expire_date_in_log</th>\n",
       "      <th>avg_num_25</th>\n",
       "      <th>avg_num_50</th>\n",
       "      <th>avg_num_75</th>\n",
       "      <th>avg_num_985</th>\n",
       "      <th>avg_num_100</th>\n",
       "      <th>avg_num_unq</th>\n",
       "      <th>avg_total_sec</th>\n",
       "      <th>sum_num_25</th>\n",
       "      <th>sum_num_50</th>\n",
       "      <th>sum_num_75</th>\n",
       "      <th>sum_num_985</th>\n",
       "      <th>sum_num_100</th>\n",
       "      <th>sum_num_unq</th>\n",
       "      <th>sum_total_sec</th>\n",
       "    </tr>\n",
       "  </thead>\n",
       "  <tbody>\n",
       "    <tr>\n",
       "      <th>0</th>\n",
       "      <td>dx7tfNuNmuoHsRrM/qxVFSQxvsFpL0X68wjkEHiJ2bk=</td>\n",
       "      <td>2016-09-21</td>\n",
       "      <td>2016-10-21</td>\n",
       "      <td>2.857143</td>\n",
       "      <td>0.857143</td>\n",
       "      <td>0.571429</td>\n",
       "      <td>0.571429</td>\n",
       "      <td>12.0</td>\n",
       "      <td>12.857143</td>\n",
       "      <td>3314.734288</td>\n",
       "      <td>20</td>\n",
       "      <td>6</td>\n",
       "      <td>4</td>\n",
       "      <td>4</td>\n",
       "      <td>84</td>\n",
       "      <td>90</td>\n",
       "      <td>23203.140015</td>\n",
       "    </tr>\n",
       "    <tr>\n",
       "      <th>1</th>\n",
       "      <td>dx8DaYO7EG7Q0yx3nDULpKvVKaswjCzBw3+CckARskw=</td>\n",
       "      <td>2016-11-30</td>\n",
       "      <td>2017-01-18</td>\n",
       "      <td>11.000000</td>\n",
       "      <td>0.400000</td>\n",
       "      <td>0.800000</td>\n",
       "      <td>0.400000</td>\n",
       "      <td>22.2</td>\n",
       "      <td>32.400000</td>\n",
       "      <td>5743.954788</td>\n",
       "      <td>55</td>\n",
       "      <td>2</td>\n",
       "      <td>4</td>\n",
       "      <td>2</td>\n",
       "      <td>111</td>\n",
       "      <td>162</td>\n",
       "      <td>28719.773941</td>\n",
       "    </tr>\n",
       "  </tbody>\n",
       "</table>\n",
       "</div>"
      ],
      "text/plain": [
       "                                           msno transaction_date_in_log  \\\n",
       "0  dx7tfNuNmuoHsRrM/qxVFSQxvsFpL0X68wjkEHiJ2bk=              2016-09-21   \n",
       "1  dx8DaYO7EG7Q0yx3nDULpKvVKaswjCzBw3+CckARskw=              2016-11-30   \n",
       "\n",
       "  membership_expire_date_in_log  avg_num_25  avg_num_50  avg_num_75  \\\n",
       "0                    2016-10-21    2.857143    0.857143    0.571429   \n",
       "1                    2017-01-18   11.000000    0.400000    0.800000   \n",
       "\n",
       "   avg_num_985  avg_num_100  avg_num_unq  avg_total_sec  sum_num_25  \\\n",
       "0     0.571429         12.0    12.857143    3314.734288          20   \n",
       "1     0.400000         22.2    32.400000    5743.954788          55   \n",
       "\n",
       "   sum_num_50  sum_num_75  sum_num_985  sum_num_100  sum_num_unq  \\\n",
       "0           6           4            4           84           90   \n",
       "1           2           4            2          111          162   \n",
       "\n",
       "   sum_total_sec  \n",
       "0   23203.140015  \n",
       "1   28719.773941  "
      ]
     },
     "execution_count": 17,
     "metadata": {},
     "output_type": "execute_result"
    }
   ],
   "source": [
    "log_summary[:2]"
   ]
  },
  {
   "cell_type": "markdown",
   "metadata": {},
   "source": [
    "- transaction을 기준으로 left merge"
   ]
  },
  {
   "cell_type": "code",
   "execution_count": 18,
   "metadata": {
    "collapsed": true
   },
   "outputs": [],
   "source": [
    "transaction_merge_log = transaction.merge(log_summary, left_on=['msno','transaction_date','membership_expire_date'], right_on=['msno','transaction_date_in_log','membership_expire_date_in_log'], how='left')"
   ]
  },
  {
   "cell_type": "code",
   "execution_count": 19,
   "metadata": {
    "collapsed": false
   },
   "outputs": [
    {
     "data": {
      "text/plain": [
       "(6670740, 32)"
      ]
     },
     "execution_count": 19,
     "metadata": {},
     "output_type": "execute_result"
    }
   ],
   "source": [
    "transaction_merge_log.shape"
   ]
  },
  {
   "cell_type": "code",
   "execution_count": 20,
   "metadata": {
    "collapsed": false,
    "scrolled": true
   },
   "outputs": [
    {
     "data": {
      "text/plain": [
       "(6670740, 16)"
      ]
     },
     "execution_count": 20,
     "metadata": {},
     "output_type": "execute_result"
    }
   ],
   "source": [
    "transaction.shape"
   ]
  },
  {
   "cell_type": "code",
   "execution_count": 21,
   "metadata": {
    "collapsed": false,
    "scrolled": true
   },
   "outputs": [
    {
     "data": {
      "text/plain": [
       "(5603682, 17)"
      ]
     },
     "execution_count": 21,
     "metadata": {},
     "output_type": "execute_result"
    }
   ],
   "source": [
    "log_summary.shape"
   ]
  },
  {
   "cell_type": "code",
   "execution_count": 22,
   "metadata": {
    "collapsed": false,
    "scrolled": false
   },
   "outputs": [
    {
     "data": {
      "text/plain": [
       "msno                                   0\n",
       "city                                   0\n",
       "bd                                     0\n",
       "registered_via                         0\n",
       "registration_init_time            764206\n",
       "count                                  0\n",
       "payment_method_id                      0\n",
       "payment_plan_days                      0\n",
       "plan_list_price                        0\n",
       "actual_amount_paid                     0\n",
       "is_auto_renew                          0\n",
       "transaction_date                       0\n",
       "membership_expire_date                 0\n",
       "is_cancel                              0\n",
       "FebChurn                               0\n",
       "MarChurn                               0\n",
       "transaction_date_in_log          1565272\n",
       "membership_expire_date_in_log    1565272\n",
       "avg_num_25                       1565272\n",
       "avg_num_50                       1565272\n",
       "avg_num_75                       1565272\n",
       "avg_num_985                      1565272\n",
       "avg_num_100                      1565272\n",
       "avg_num_unq                      1565272\n",
       "avg_total_sec                    1565272\n",
       "sum_num_25                       1565272\n",
       "sum_num_50                       1565272\n",
       "sum_num_75                       1565272\n",
       "sum_num_985                      1565272\n",
       "sum_num_100                      1565272\n",
       "sum_num_unq                      1565272\n",
       "sum_total_sec                    1565272\n",
       "dtype: int64"
      ]
     },
     "execution_count": 22,
     "metadata": {},
     "output_type": "execute_result"
    }
   ],
   "source": [
    "transaction_merge_log.isnull().sum()"
   ]
  },
  {
   "cell_type": "markdown",
   "metadata": {},
   "source": [
    "- 없는 log 정보는 모두 0으로 채우자!! log가 없었던 거니까!\n",
    "- join에 사용된 중복변수 transaction_date_in_log, membership_expire_date_in_log 는 지운다."
   ]
  },
  {
   "cell_type": "code",
   "execution_count": 23,
   "metadata": {
    "collapsed": true
   },
   "outputs": [],
   "source": [
    "del transaction_merge_log[\"transaction_date_in_log\"]\n",
    "del transaction_merge_log[\"membership_expire_date_in_log\"]"
   ]
  },
  {
   "cell_type": "code",
   "execution_count": 24,
   "metadata": {
    "collapsed": true
   },
   "outputs": [],
   "source": [
    "transaction_merge_log[['avg_num_25','avg_num_50','avg_num_75',                       \n",
    "'avg_num_985','avg_num_100','avg_num_unq','avg_total_sec',                    \n",
    "'sum_num_25','sum_num_50','sum_num_75','sum_num_985',                      \n",
    "'sum_num_100','sum_num_unq','sum_total_sec']] = \\\n",
    "transaction_merge_log[['avg_num_25','avg_num_50','avg_num_75',                       \n",
    "'avg_num_985','avg_num_100','avg_num_unq','avg_total_sec',                    \n",
    "'sum_num_25','sum_num_50','sum_num_75','sum_num_985',                      \n",
    "'sum_num_100','sum_num_unq','sum_total_sec']].fillna(value=0)  "
   ]
  },
  {
   "cell_type": "code",
   "execution_count": 25,
   "metadata": {
    "collapsed": false
   },
   "outputs": [
    {
     "data": {
      "text/plain": [
       "msno                           0\n",
       "city                           0\n",
       "bd                             0\n",
       "registered_via                 0\n",
       "registration_init_time    764206\n",
       "count                          0\n",
       "payment_method_id              0\n",
       "payment_plan_days              0\n",
       "plan_list_price                0\n",
       "actual_amount_paid             0\n",
       "is_auto_renew                  0\n",
       "transaction_date               0\n",
       "membership_expire_date         0\n",
       "is_cancel                      0\n",
       "FebChurn                       0\n",
       "MarChurn                       0\n",
       "avg_num_25                     0\n",
       "avg_num_50                     0\n",
       "avg_num_75                     0\n",
       "avg_num_985                    0\n",
       "avg_num_100                    0\n",
       "avg_num_unq                    0\n",
       "avg_total_sec                  0\n",
       "sum_num_25                     0\n",
       "sum_num_50                     0\n",
       "sum_num_75                     0\n",
       "sum_num_985                    0\n",
       "sum_num_100                    0\n",
       "sum_num_unq                    0\n",
       "sum_total_sec                  0\n",
       "dtype: int64"
      ]
     },
     "execution_count": 25,
     "metadata": {},
     "output_type": "execute_result"
    }
   ],
   "source": [
    "transaction_merge_log.isnull().sum()"
   ]
  },
  {
   "cell_type": "markdown",
   "metadata": {},
   "source": [
    "### Train set 만들기! [ train(2월churn) + transaction(1월까지) + user_log(1월까지) + member ]\n",
    "\n",
    "### Validation set 만들기![train(3월churn) + transaction(2월까지) + user_log(2월까지) + member]"
   ]
  },
  {
   "cell_type": "code",
   "execution_count": 26,
   "metadata": {
    "collapsed": false
   },
   "outputs": [
    {
     "data": {
      "text/plain": [
       "Timestamp('2016-09-01 00:00:00')"
      ]
     },
     "execution_count": 26,
     "metadata": {},
     "output_type": "execute_result"
    }
   ],
   "source": [
    "transaction_merge_log[\"transaction_date\"].min()"
   ]
  },
  {
   "cell_type": "code",
   "execution_count": 27,
   "metadata": {
    "collapsed": false
   },
   "outputs": [
    {
     "data": {
      "text/plain": [
       "Timestamp('2017-03-31 00:00:00')"
      ]
     },
     "execution_count": 27,
     "metadata": {},
     "output_type": "execute_result"
    }
   ],
   "source": [
    "transaction_merge_log[\"transaction_date\"].max()"
   ]
  },
  {
   "cell_type": "code",
   "execution_count": 28,
   "metadata": {
    "collapsed": true
   },
   "outputs": [],
   "source": [
    "transaction_merge_log_9to1 = transaction_merge_log[transaction_merge_log[\"transaction_date\"] < \"2017-02-01\"]"
   ]
  },
  {
   "cell_type": "code",
   "execution_count": 29,
   "metadata": {
    "collapsed": true
   },
   "outputs": [],
   "source": [
    "transaction_merge_log_10to2 = transaction_merge_log[transaction_merge_log[\"transaction_date\"] < \"2017-03-01\"]\n",
    "transaction_merge_log_10to2 = transaction_merge_log_10to2[transaction_merge_log_10to2[\"transaction_date\"] >= \"2016-10-01\"]"
   ]
  },
  {
   "cell_type": "code",
   "execution_count": 30,
   "metadata": {
    "collapsed": false
   },
   "outputs": [
    {
     "data": {
      "text/plain": [
       "(4632151, 30)"
      ]
     },
     "execution_count": 30,
     "metadata": {},
     "output_type": "execute_result"
    }
   ],
   "source": [
    "transaction_merge_log_9to1.shape"
   ]
  },
  {
   "cell_type": "code",
   "execution_count": 31,
   "metadata": {
    "collapsed": false
   },
   "outputs": [
    {
     "data": {
      "text/plain": [
       "(4783576, 30)"
      ]
     },
     "execution_count": 31,
     "metadata": {},
     "output_type": "execute_result"
    }
   ],
   "source": [
    "transaction_merge_log_10to2.shape"
   ]
  },
  {
   "cell_type": "code",
   "execution_count": 32,
   "metadata": {
    "collapsed": false
   },
   "outputs": [
    {
     "data": {
      "text/plain": [
       "Timestamp('2016-09-01 00:00:00')"
      ]
     },
     "execution_count": 32,
     "metadata": {},
     "output_type": "execute_result"
    }
   ],
   "source": [
    "transaction_merge_log_9to1[\"transaction_date\"].min()"
   ]
  },
  {
   "cell_type": "code",
   "execution_count": 33,
   "metadata": {
    "collapsed": false
   },
   "outputs": [
    {
     "data": {
      "text/plain": [
       "Timestamp('2017-01-31 00:00:00')"
      ]
     },
     "execution_count": 33,
     "metadata": {},
     "output_type": "execute_result"
    }
   ],
   "source": [
    "transaction_merge_log_9to1[\"transaction_date\"].max()"
   ]
  },
  {
   "cell_type": "code",
   "execution_count": 34,
   "metadata": {
    "collapsed": false
   },
   "outputs": [
    {
     "data": {
      "text/plain": [
       "Timestamp('2016-10-01 00:00:00')"
      ]
     },
     "execution_count": 34,
     "metadata": {},
     "output_type": "execute_result"
    }
   ],
   "source": [
    "transaction_merge_log_10to2[\"transaction_date\"].min()"
   ]
  },
  {
   "cell_type": "code",
   "execution_count": 35,
   "metadata": {
    "collapsed": false
   },
   "outputs": [
    {
     "data": {
      "text/plain": [
       "Timestamp('2017-02-28 00:00:00')"
      ]
     },
     "execution_count": 35,
     "metadata": {},
     "output_type": "execute_result"
    }
   ],
   "source": [
    "transaction_merge_log_10to2[\"transaction_date\"].max()"
   ]
  },
  {
   "cell_type": "code",
   "execution_count": 36,
   "metadata": {
    "collapsed": true
   },
   "outputs": [],
   "source": [
    "transaction_merge_log_9to1.to_csv(\"F:/kaggle/final_data/transaction_merge_log_9to1.csv\", index=False)\n",
    "transaction_merge_log_10to2.to_csv(\"F:/kaggle/final_data/transaction_merge_log_10to2.csv\", index=False)"
   ]
  },
  {
   "cell_type": "markdown",
   "metadata": {},
   "source": [
    "- 파생변수 ex_expire_date 랑 discount"
   ]
  },
  {
   "cell_type": "code",
   "execution_count": 37,
   "metadata": {
    "collapsed": true
   },
   "outputs": [],
   "source": [
    "transaction_merge_log_9to1 = transaction_merge_log_9to1.sort_values(['msno','transaction_date'])\n",
    "transaction_merge_log_10to2 = transaction_merge_log_10to2.sort_values(['msno','transaction_date'])"
   ]
  },
  {
   "cell_type": "code",
   "execution_count": 38,
   "metadata": {
    "collapsed": true
   },
   "outputs": [],
   "source": [
    "transaction_merge_log_9to1['ex_expire_date'] = transaction_merge_log_9to1.groupby(['msno'])['membership_expire_date'].shift(1)\n",
    "transaction_merge_log_10to2['ex_expire_date'] = transaction_merge_log_10to2.groupby(['msno'])['membership_expire_date'].shift(1)"
   ]
  },
  {
   "cell_type": "code",
   "execution_count": 39,
   "metadata": {
    "collapsed": true
   },
   "outputs": [],
   "source": [
    "transaction_merge_log_9to1['sub_tran_exExpire_day'] = transaction_merge_log_9to1['transaction_date'] - transaction_merge_log_9to1['ex_expire_date']\n",
    "transaction_merge_log_10to2['sub_tran_exExpire_day'] = transaction_merge_log_10to2['transaction_date'] - transaction_merge_log_10to2['ex_expire_date']"
   ]
  },
  {
   "cell_type": "code",
   "execution_count": 40,
   "metadata": {
    "collapsed": true
   },
   "outputs": [],
   "source": [
    "transaction_merge_log_9to1['discount'] = (transaction_merge_log_9to1['plan_list_price']-transaction_merge_log_9to1['actual_amount_paid'])/transaction_merge_log_9to1['plan_list_price'] * 100\n",
    "transaction_merge_log_10to2['discount'] = (transaction_merge_log_10to2['plan_list_price']-transaction_merge_log_10to2['actual_amount_paid'])/transaction_merge_log_9to1['plan_list_price'] * 100"
   ]
  },
  {
   "cell_type": "markdown",
   "metadata": {},
   "source": [
    "### 날짜 파생변수 만들기 \n",
    "- registration_init_time    \n",
    "- transaction_date          \n",
    "- membership_expire_date    "
   ]
  },
  {
   "cell_type": "code",
   "execution_count": 41,
   "metadata": {
    "collapsed": false
   },
   "outputs": [],
   "source": [
    "transaction_merge_log_9to1['r_init_year'] = transaction_merge_log_9to1['registration_init_time'].dt.year\n",
    "transaction_merge_log_9to1['r_init_month'] = transaction_merge_log_9to1['registration_init_time'].dt.month\n",
    "transaction_merge_log_9to1['r_init_day'] = transaction_merge_log_9to1['registration_init_time'].dt.day\n",
    "transaction_merge_log_9to1['r_init_weekday'] = transaction_merge_log_9to1['registration_init_time'].dt.weekday"
   ]
  },
  {
   "cell_type": "code",
   "execution_count": 42,
   "metadata": {
    "collapsed": false
   },
   "outputs": [],
   "source": [
    "transaction_merge_log_9to1['tran_year'] = transaction_merge_log_9to1['transaction_date'].dt.year\n",
    "transaction_merge_log_9to1['tran_month'] = transaction_merge_log_9to1['transaction_date'].dt.month\n",
    "transaction_merge_log_9to1['tran_day'] = transaction_merge_log_9to1['transaction_date'].dt.day\n",
    "transaction_merge_log_9to1['tran_weekday'] = transaction_merge_log_9to1['transaction_date'].dt.weekday"
   ]
  },
  {
   "cell_type": "code",
   "execution_count": 43,
   "metadata": {
    "collapsed": false
   },
   "outputs": [],
   "source": [
    "transaction_merge_log_9to1['m_expire_year'] = transaction_merge_log_9to1['membership_expire_date'].dt.year\n",
    "transaction_merge_log_9to1['m_expire_month'] = transaction_merge_log_9to1['membership_expire_date'].dt.month\n",
    "transaction_merge_log_9to1['m_expire_day'] = transaction_merge_log_9to1['membership_expire_date'].dt.day\n",
    "transaction_merge_log_9to1['m_expire_weekday'] = transaction_merge_log_9to1['membership_expire_date'].dt.weekday"
   ]
  },
  {
   "cell_type": "code",
   "execution_count": 44,
   "metadata": {
    "collapsed": false
   },
   "outputs": [],
   "source": [
    "transaction_merge_log_10to2['r_init_year'] = transaction_merge_log_10to2['registration_init_time'].dt.year\n",
    "transaction_merge_log_10to2['r_init_month'] = transaction_merge_log_10to2['registration_init_time'].dt.month\n",
    "transaction_merge_log_10to2['r_init_day'] = transaction_merge_log_10to2['registration_init_time'].dt.day\n",
    "transaction_merge_log_10to2['r_init_weekday'] = transaction_merge_log_10to2['registration_init_time'].dt.weekday"
   ]
  },
  {
   "cell_type": "code",
   "execution_count": 45,
   "metadata": {
    "collapsed": false
   },
   "outputs": [],
   "source": [
    "transaction_merge_log_10to2['tran_year'] = transaction_merge_log_10to2['transaction_date'].dt.year\n",
    "transaction_merge_log_10to2['tran_month'] = transaction_merge_log_10to2['transaction_date'].dt.month\n",
    "transaction_merge_log_10to2['tran_day'] = transaction_merge_log_10to2['transaction_date'].dt.day\n",
    "transaction_merge_log_10to2['tran_weekday'] = transaction_merge_log_10to2['transaction_date'].dt.weekday"
   ]
  },
  {
   "cell_type": "code",
   "execution_count": 46,
   "metadata": {
    "collapsed": false
   },
   "outputs": [],
   "source": [
    "transaction_merge_log_10to2['m_expire_year'] = transaction_merge_log_10to2['membership_expire_date'].dt.year\n",
    "transaction_merge_log_10to2['m_expire_month'] = transaction_merge_log_10to2['membership_expire_date'].dt.month\n",
    "transaction_merge_log_10to2['m_expire_day'] = transaction_merge_log_10to2['membership_expire_date'].dt.day\n",
    "transaction_merge_log_10to2['m_expire_weekday'] = transaction_merge_log_10to2['membership_expire_date'].dt.weekday"
   ]
  },
  {
   "cell_type": "markdown",
   "metadata": {},
   "source": [
    "### One-Hot encoding\n",
    "- city, 22                     \n",
    "- registered_via, 6                    \n",
    "- payment_method_id, 38                                      "
   ]
  },
  {
   "cell_type": "code",
   "execution_count": 47,
   "metadata": {
    "collapsed": true
   },
   "outputs": [],
   "source": [
    "def oneHot_to_data(data):\n",
    "    one_hot_city = pd.get_dummies(data[['city']])\n",
    "    one_hot_registered_via = pd.get_dummies(data[['registered_via']])\n",
    "    one_hot_payment_method_id = pd.get_dummies(data[['payment_method_id']])\n",
    "    \n",
    "    return one_hot_city,one_hot_registered_via,one_hot_payment_method_id"
   ]
  },
  {
   "cell_type": "code",
   "execution_count": 48,
   "metadata": {
    "collapsed": true
   },
   "outputs": [],
   "source": [
    "one_hot_city,one_hot_registered_via,one_hot_payment_method_id = oneHot_to_data(transaction_merge_log_9to1)"
   ]
  },
  {
   "cell_type": "code",
   "execution_count": 50,
   "metadata": {
    "collapsed": false
   },
   "outputs": [],
   "source": [
    "transaction_merge_log_9to1_oneHot = pd.concat([transaction_merge_log_9to1, one_hot_city], axis=1)\n",
    "transaction_merge_log_9to1_oneHot = pd.concat([transaction_merge_log_9to1_oneHot, one_hot_registered_via], axis=1)\n",
    "transaction_merge_log_9to1_oneHot = pd.concat([transaction_merge_log_9to1_oneHot, one_hot_payment_method_id], axis=1)"
   ]
  },
  {
   "cell_type": "code",
   "execution_count": 51,
   "metadata": {
    "collapsed": true
   },
   "outputs": [],
   "source": [
    "one_hot_city,one_hot_registered_via,one_hot_payment_method_id = oneHot_to_data(transaction_merge_log_10to2)"
   ]
  },
  {
   "cell_type": "code",
   "execution_count": 52,
   "metadata": {
    "collapsed": true
   },
   "outputs": [],
   "source": [
    "transaction_merge_log_10to2_oneHot = pd.concat([transaction_merge_log_10to2, one_hot_city], axis=1)\n",
    "transaction_merge_log_10to2_oneHot = pd.concat([transaction_merge_log_10to2_oneHot, one_hot_registered_via], axis=1)\n",
    "transaction_merge_log_10to2_oneHot = pd.concat([transaction_merge_log_10to2_oneHot, one_hot_payment_method_id], axis=1)"
   ]
  },
  {
   "cell_type": "code",
   "execution_count": 53,
   "metadata": {
    "collapsed": false
   },
   "outputs": [
    {
     "data": {
      "text/plain": [
       "(4632151, 106)"
      ]
     },
     "execution_count": 53,
     "metadata": {},
     "output_type": "execute_result"
    }
   ],
   "source": [
    "transaction_merge_log_9to1_oneHot.shape"
   ]
  },
  {
   "cell_type": "code",
   "execution_count": 54,
   "metadata": {
    "collapsed": false
   },
   "outputs": [
    {
     "data": {
      "text/plain": [
       "(4783576, 106)"
      ]
     },
     "execution_count": 54,
     "metadata": {},
     "output_type": "execute_result"
    }
   ],
   "source": [
    "transaction_merge_log_10to2_oneHot.shape"
   ]
  },
  {
   "cell_type": "code",
   "execution_count": 55,
   "metadata": {
    "collapsed": false
   },
   "outputs": [],
   "source": [
    "transaction_merge_log_9to1_oneHot.to_csv(\"F:/kaggle/final_data/transaction_merge_log_9to1_oneHot.csv\", index=False)\n",
    "transaction_merge_log_10to2_oneHot.to_csv(\"F:/kaggle/final_data/transaction_merge_log_10to2_oneHot.csv\", index=False)"
   ]
  },
  {
   "cell_type": "code",
   "execution_count": 1,
   "metadata": {
    "collapsed": false
   },
   "outputs": [],
   "source": [
    "\"\"\"\n",
    "TODO:: 메모리 에러로 여기부터 못함 해라!!! 아침일찍 가서!! \n",
    "171214 09:30 함\n",
    "\"\"\"\n",
    "import pandas as pd\n",
    "transaction_merge_log_9to1_oneHot = pd.read_csv(\"E:/kaggle/final_data/transaction_merge_log_9to1_oneHot.csv\")\n",
    "transaction_merge_log_10to2_oneHot = pd.read_csv(\"E:/kaggle/final_data/transaction_merge_log_10to2_oneHot.csv\")\n",
    "\n",
    "transaction_merge_log_9to1_oneHot[[\"city\",\"registered_via\",\"payment_method_id\"]] = transaction_merge_log_9to1_oneHot[[\"city\",\"registered_via\",\"payment_method_id\"]].astype(str)\n",
    "transaction_merge_log_10to2_oneHot[[\"city\",\"registered_via\",\"payment_method_id\"]] = transaction_merge_log_10to2_oneHot[[\"city\",\"registered_via\",\"payment_method_id\"]].astype(str)"
   ]
  },
  {
   "cell_type": "code",
   "execution_count": 2,
   "metadata": {
    "collapsed": false
   },
   "outputs": [],
   "source": [
    "\"\"\"\n",
    "종속변수 맨 뒤로\n",
    "\"\"\"\n",
    "col_name = list(transaction_merge_log_9to1_oneHot)\n",
    "col_name.remove('FebChurn')\n",
    "col_name.append('FebChurn')\n",
    "col_name.remove('MarChurn')\n",
    "col_name.append('MarChurn')\n",
    "transaction_merge_log_9to1_oneHot = transaction_merge_log_9to1_oneHot[col_name]\n",
    "\n",
    "col_name = list(transaction_merge_log_10to2_oneHot)\n",
    "col_name.remove('FebChurn')\n",
    "col_name.append('FebChurn')\n",
    "col_name.remove('MarChurn')\n",
    "col_name.append('MarChurn')\n",
    "transaction_merge_log_10to2_oneHot = transaction_merge_log_10to2_oneHot[col_name]"
   ]
  },
  {
   "cell_type": "markdown",
   "metadata": {},
   "source": [
    "- 불필요변수 제거"
   ]
  },
  {
   "cell_type": "code",
   "execution_count": 3,
   "metadata": {
    "collapsed": true
   },
   "outputs": [],
   "source": [
    "del transaction_merge_log_9to1_oneHot[\"MarChurn\"]\n",
    "del transaction_merge_log_10to2_oneHot[\"FebChurn\"]"
   ]
  },
  {
   "cell_type": "code",
   "execution_count": 7,
   "metadata": {
    "collapsed": false
   },
   "outputs": [],
   "source": [
    "transaction_merge_log_9to1_oneHot[\"FebChurn\"] = transaction_merge_log_9to1_oneHot[\"FebChurn\"].astype(str)\n",
    "transaction_merge_log_10to2_oneHot[\"MarChurn\"] = transaction_merge_log_10to2_oneHot[\"MarChurn\"].astype(str)"
   ]
  },
  {
   "cell_type": "code",
   "execution_count": 10,
   "metadata": {
    "collapsed": false
   },
   "outputs": [
    {
     "data": {
      "text/plain": [
       "{'0.0', '1.0', 'nan'}"
      ]
     },
     "execution_count": 10,
     "metadata": {},
     "output_type": "execute_result"
    }
   ],
   "source": [
    "set(transaction_merge_log_9to1_oneHot[\"FebChurn\"])"
   ]
  },
  {
   "cell_type": "code",
   "execution_count": 11,
   "metadata": {
    "collapsed": false
   },
   "outputs": [
    {
     "data": {
      "text/plain": [
       "{'0.0', '1.0', 'nan'}"
      ]
     },
     "execution_count": 11,
     "metadata": {},
     "output_type": "execute_result"
    }
   ],
   "source": [
    "set(transaction_merge_log_10to2_oneHot[\"MarChurn\"])"
   ]
  },
  {
   "cell_type": "markdown",
   "metadata": {},
   "source": [
    "- 'nan', 즉 답이 없는 것은지우고 모델 만들기"
   ]
  },
  {
   "cell_type": "code",
   "execution_count": 12,
   "metadata": {
    "collapsed": true
   },
   "outputs": [],
   "source": [
    "transaction_merge_log_9to1_oneHot = transaction_merge_log_9to1_oneHot[transaction_merge_log_9to1_oneHot[\"FebChurn\"] != 'nan']\n",
    "transaction_merge_log_10to2_oneHot = transaction_merge_log_10to2_oneHot[transaction_merge_log_10to2_oneHot[\"MarChurn\"] != 'nan']"
   ]
  },
  {
   "cell_type": "code",
   "execution_count": 13,
   "metadata": {
    "collapsed": false
   },
   "outputs": [
    {
     "data": {
      "text/plain": [
       "(4512692, 105)"
      ]
     },
     "execution_count": 13,
     "metadata": {},
     "output_type": "execute_result"
    }
   ],
   "source": [
    "transaction_merge_log_9to1_oneHot.shape"
   ]
  },
  {
   "cell_type": "code",
   "execution_count": 14,
   "metadata": {
    "collapsed": false
   },
   "outputs": [
    {
     "data": {
      "text/plain": [
       "(4399448, 105)"
      ]
     },
     "execution_count": 14,
     "metadata": {},
     "output_type": "execute_result"
    }
   ],
   "source": [
    "transaction_merge_log_10to2_oneHot.shape"
   ]
  },
  {
   "cell_type": "code",
   "execution_count": null,
   "metadata": {
    "collapsed": true
   },
   "outputs": [],
   "source": [
    "transaction_merge_log_9to1_oneHot.to_csv(\"E:/kaggle/final_data/transaction_merge_log_9to1_oneHot_train.csv\", index=False)\n",
    "transaction_merge_log_10to2_oneHot.to_csv(\"E:/kaggle/final_data/transaction_merge_log_10to2_oneHot_validation.csv\", index=False)"
   ]
  },
  {
   "cell_type": "markdown",
   "metadata": {},
   "source": [
    "- 171214 10:20 부터"
   ]
  },
  {
   "cell_type": "code",
   "execution_count": 1,
   "metadata": {
    "collapsed": true
   },
   "outputs": [],
   "source": [
    "import pandas as pd\n",
    "transaction_merge_log_9to1_oneHot = pd.read_csv(\"E:/kaggle/final_data/transaction_merge_log_9to1_oneHot_train.csv\")\n",
    "transaction_merge_log_10to2_oneHot = pd.read_csv(\"E:/kaggle/final_data/transaction_merge_log_10to2_oneHot_validation.csv\")\n",
    "\n",
    "transaction_merge_log_9to1_oneHot[[\"city\",\"registered_via\",\"payment_method_id\"]] = transaction_merge_log_9to1_oneHot[[\"city\",\"registered_via\",\"payment_method_id\"]].astype(str)\n",
    "transaction_merge_log_10to2_oneHot[[\"city\",\"registered_via\",\"payment_method_id\"]] = transaction_merge_log_10to2_oneHot[[\"city\",\"registered_via\",\"payment_method_id\"]].astype(str)"
   ]
  },
  {
   "cell_type": "code",
   "execution_count": 2,
   "metadata": {
    "collapsed": false,
    "scrolled": true
   },
   "outputs": [
    {
     "data": {
      "text/plain": [
       "msno                       object\n",
       "city                       object\n",
       "bd                          int64\n",
       "registered_via             object\n",
       "registration_init_time     object\n",
       "count                       int64\n",
       "payment_method_id          object\n",
       "payment_plan_days           int64\n",
       "plan_list_price             int64\n",
       "actual_amount_paid          int64\n",
       "is_auto_renew               int64\n",
       "transaction_date           object\n",
       "membership_expire_date     object\n",
       "is_cancel                   int64\n",
       "avg_num_25                float64\n",
       "avg_num_50                float64\n",
       "avg_num_75                float64\n",
       "avg_num_985               float64\n",
       "avg_num_100               float64\n",
       "avg_num_unq               float64\n",
       "avg_total_sec             float64\n",
       "sum_num_25                float64\n",
       "sum_num_50                float64\n",
       "sum_num_75                float64\n",
       "sum_num_985               float64\n",
       "sum_num_100               float64\n",
       "sum_num_unq               float64\n",
       "sum_total_sec             float64\n",
       "ex_expire_date             object\n",
       "sub_tran_exExpire_day      object\n",
       "                           ...   \n",
       "payment_method_id_14        int64\n",
       "payment_method_id_15        int64\n",
       "payment_method_id_16        int64\n",
       "payment_method_id_17        int64\n",
       "payment_method_id_18        int64\n",
       "payment_method_id_19        int64\n",
       "payment_method_id_20        int64\n",
       "payment_method_id_21        int64\n",
       "payment_method_id_22        int64\n",
       "payment_method_id_23        int64\n",
       "payment_method_id_26        int64\n",
       "payment_method_id_27        int64\n",
       "payment_method_id_28        int64\n",
       "payment_method_id_29        int64\n",
       "payment_method_id_3         int64\n",
       "payment_method_id_30        int64\n",
       "payment_method_id_31        int64\n",
       "payment_method_id_32        int64\n",
       "payment_method_id_33        int64\n",
       "payment_method_id_34        int64\n",
       "payment_method_id_35        int64\n",
       "payment_method_id_36        int64\n",
       "payment_method_id_37        int64\n",
       "payment_method_id_38        int64\n",
       "payment_method_id_39        int64\n",
       "payment_method_id_40        int64\n",
       "payment_method_id_41        int64\n",
       "payment_method_id_6         int64\n",
       "payment_method_id_8         int64\n",
       "FebChurn                  float64\n",
       "Length: 105, dtype: object"
      ]
     },
     "execution_count": 2,
     "metadata": {},
     "output_type": "execute_result"
    }
   ],
   "source": [
    "transaction_merge_log_9to1_oneHot.dtypes"
   ]
  },
  {
   "cell_type": "code",
   "execution_count": 15,
   "metadata": {
    "collapsed": false,
    "scrolled": true
   },
   "outputs": [],
   "source": [
    "transaction_merge_log_9to1_oneHot[\"sub_tran_exExpire_day\"] = transaction_merge_log_9to1_oneHot[\"sub_tran_exExpire_day\"].str.split().str[0]"
   ]
  },
  {
   "cell_type": "code",
   "execution_count": 20,
   "metadata": {
    "collapsed": false
   },
   "outputs": [],
   "source": [
    "transaction_merge_log_9to1_oneHot[[\"sub_tran_exExpire_day\"]] = transaction_merge_log_9to1_oneHot[[\"sub_tran_exExpire_day\"]].fillna(0).astype(int)"
   ]
  },
  {
   "cell_type": "code",
   "execution_count": 21,
   "metadata": {
    "collapsed": true
   },
   "outputs": [],
   "source": [
    "transaction_merge_log_10to2_oneHot[\"sub_tran_exExpire_day\"] = transaction_merge_log_10to2_oneHot[\"sub_tran_exExpire_day\"].str.split().str[0]\n",
    "transaction_merge_log_10to2_oneHot[[\"sub_tran_exExpire_day\"]] = transaction_merge_log_10to2_oneHot[[\"sub_tran_exExpire_day\"]].fillna(0).astype(int)"
   ]
  },
  {
   "cell_type": "code",
   "execution_count": 26,
   "metadata": {
    "collapsed": false
   },
   "outputs": [
    {
     "data": {
      "text/plain": [
       "discount    float64\n",
       "dtype: object"
      ]
     },
     "execution_count": 26,
     "metadata": {},
     "output_type": "execute_result"
    }
   ],
   "source": [
    "transaction_merge_log_9to1_oneHot[[\"discount\"]].dtypes"
   ]
  },
  {
   "cell_type": "code",
   "execution_count": 27,
   "metadata": {
    "collapsed": false
   },
   "outputs": [],
   "source": [
    "transaction_merge_log_9to1_oneHot[[\"discount\"]] = transaction_merge_log_9to1_oneHot[[\"discount\"]].fillna(0).astype(float)\n",
    "transaction_merge_log_10to2_oneHot[[\"discount\"]] = transaction_merge_log_10to2_oneHot[[\"discount\"]].fillna(0).astype(float)"
   ]
  },
  {
   "cell_type": "markdown",
   "metadata": {},
   "source": [
    "### 종속변수와의 상관성(Correlation)!!"
   ]
  },
  {
   "cell_type": "markdown",
   "metadata": {},
   "source": [
    "- correlation check 위해서 data type 변경"
   ]
  },
  {
   "cell_type": "code",
   "execution_count": null,
   "metadata": {
    "collapsed": false,
    "scrolled": true
   },
   "outputs": [],
   "source": [
    "\"\"\"\n",
    "transaction_merge_log_9to1_oneHot[[\"FebChurn\"]] = transaction_with_log_9to1_oneHot[[\"FebChurn\"]].astype(float)\n",
    "transaction_merge_log_9to1_oneHot[[\"FebChurn\"]] = transaction_with_log_9to1_oneHot[[\"FebChurn\"]].astype(int)\n",
    "\"\"\""
   ]
  },
  {
   "cell_type": "code",
   "execution_count": null,
   "metadata": {
    "collapsed": false,
    "scrolled": true
   },
   "outputs": [],
   "source": [
    "\"\"\"\n",
    "transaction_merge_log_9to1_oneHot[[\"is_auto_renew\"]] = transaction_merge_log_9to1_oneHot[[\"is_auto_renew\"]].astype(int)\n",
    "transaction_merge_log_9to1_oneHot[[\"is_cancel\"]] = transaction_merge_log_9to1_oneHot[[\"is_cancel\"]].astype(int)\n",
    "\"\"\""
   ]
  },
  {
   "cell_type": "markdown",
   "metadata": {},
   "source": [
    "- Correlation about transaction_merge_log_9to1_oneHot"
   ]
  },
  {
   "cell_type": "code",
   "execution_count": 31,
   "metadata": {
    "collapsed": true
   },
   "outputs": [],
   "source": [
    "pearson =  transaction_merge_log_9to1_oneHot.corr(method='pearson')"
   ]
  },
  {
   "cell_type": "code",
   "execution_count": 32,
   "metadata": {
    "collapsed": false,
    "scrolled": true
   },
   "outputs": [
    {
     "name": "stderr",
     "output_type": "stream",
     "text": [
      "C:\\Anaconda3\\lib\\site-packages\\ipykernel\\__main__.py:1: DeprecationWarning: \n",
      ".ix is deprecated. Please use\n",
      ".loc for label based indexing or\n",
      ".iloc for positional indexing\n",
      "\n",
      "See the documentation here:\n",
      "http://pandas.pydata.org/pandas-docs/stable/indexing.html#ix-indexer-is-deprecated\n",
      "  if __name__ == '__main__':\n"
     ]
    },
    {
     "data": {
      "text/plain": [
       "is_auto_renew          -0.250394\n",
       "payment_method_id_38    0.196086\n",
       "plan_list_price         0.122793\n",
       "actual_amount_paid      0.117340\n",
       "payment_method_id_41   -0.103313\n",
       "payment_plan_days       0.098507\n",
       "registered_via_7.0     -0.089244\n",
       "registered_via_4.0      0.084028\n",
       "registered_via_3.0      0.066821\n",
       "is_cancel               0.060644\n",
       "payment_method_id_36    0.056694\n",
       "payment_method_id_29    0.055884\n",
       "payment_method_id_35    0.051876\n",
       "payment_method_id_32    0.049016\n",
       "payment_method_id_28    0.044868\n",
       "city_1.0               -0.036284\n",
       "count                  -0.036252\n",
       "tran_year               0.034029\n",
       "r_init_year             0.032649\n",
       "tran_month             -0.032593\n",
       "Name: FebChurn, dtype: float64"
      ]
     },
     "execution_count": 32,
     "metadata": {},
     "output_type": "execute_result"
    }
   ],
   "source": [
    "corr_with_target = pearson.ix[-1][:-1]\n",
    "corr_with_target[abs(corr_with_target).argsort()[::-1]][:20].round(6)"
   ]
  },
  {
   "cell_type": "code",
   "execution_count": 33,
   "metadata": {
    "collapsed": false
   },
   "outputs": [
    {
     "name": "stderr",
     "output_type": "stream",
     "text": [
      "C:\\Anaconda3\\lib\\site-packages\\ipykernel\\__main__.py:8: DeprecationWarning: \n",
      ".ix is deprecated. Please use\n",
      ".loc for label based indexing or\n",
      ".iloc for positional indexing\n",
      "\n",
      "See the documentation here:\n",
      "http://pandas.pydata.org/pandas-docs/stable/indexing.html#ix-indexer-is-deprecated\n"
     ]
    },
    {
     "data": {
      "text/html": [
       "<div>\n",
       "<style>\n",
       "    .dataframe thead tr:only-child th {\n",
       "        text-align: right;\n",
       "    }\n",
       "\n",
       "    .dataframe thead th {\n",
       "        text-align: left;\n",
       "    }\n",
       "\n",
       "    .dataframe tbody tr th {\n",
       "        vertical-align: top;\n",
       "    }\n",
       "</style>\n",
       "<table border=\"1\" class=\"dataframe\">\n",
       "  <thead>\n",
       "    <tr style=\"text-align: right;\">\n",
       "      <th></th>\n",
       "      <th>attribute pair</th>\n",
       "      <th>correlation</th>\n",
       "    </tr>\n",
       "  </thead>\n",
       "  <tbody>\n",
       "    <tr>\n",
       "      <th>8</th>\n",
       "      <td>(sum_num_100, sum_total_sec)</td>\n",
       "      <td>0.989062</td>\n",
       "    </tr>\n",
       "    <tr>\n",
       "      <th>12</th>\n",
       "      <td>(actual_amount_paid, plan_list_price)</td>\n",
       "      <td>0.987405</td>\n",
       "    </tr>\n",
       "    <tr>\n",
       "      <th>7</th>\n",
       "      <td>(avg_num_100, avg_total_sec)</td>\n",
       "      <td>0.986182</td>\n",
       "    </tr>\n",
       "    <tr>\n",
       "      <th>3</th>\n",
       "      <td>(tran_month, tran_year)</td>\n",
       "      <td>-0.970119</td>\n",
       "    </tr>\n",
       "    <tr>\n",
       "      <th>17</th>\n",
       "      <td>(m_expire_month, m_expire_year)</td>\n",
       "      <td>-0.923652</td>\n",
       "    </tr>\n",
       "    <tr>\n",
       "      <th>21</th>\n",
       "      <td>(sum_num_unq, sum_total_sec)</td>\n",
       "      <td>0.901698</td>\n",
       "    </tr>\n",
       "    <tr>\n",
       "      <th>0</th>\n",
       "      <td>(sum_num_50, sum_num_75)</td>\n",
       "      <td>0.886194</td>\n",
       "    </tr>\n",
       "    <tr>\n",
       "      <th>24</th>\n",
       "      <td>(sum_num_100, sum_num_unq)</td>\n",
       "      <td>0.874581</td>\n",
       "    </tr>\n",
       "    <tr>\n",
       "      <th>25</th>\n",
       "      <td>(avg_num_985, sum_num_985)</td>\n",
       "      <td>0.873967</td>\n",
       "    </tr>\n",
       "    <tr>\n",
       "      <th>23</th>\n",
       "      <td>(avg_num_100, sum_num_100)</td>\n",
       "      <td>0.862662</td>\n",
       "    </tr>\n",
       "    <tr>\n",
       "      <th>9</th>\n",
       "      <td>(avg_total_sec, sum_total_sec)</td>\n",
       "      <td>0.858410</td>\n",
       "    </tr>\n",
       "    <tr>\n",
       "      <th>11</th>\n",
       "      <td>(avg_total_sec, sum_num_100)</td>\n",
       "      <td>0.853897</td>\n",
       "    </tr>\n",
       "    <tr>\n",
       "      <th>22</th>\n",
       "      <td>(avg_num_unq, avg_total_sec)</td>\n",
       "      <td>0.852176</td>\n",
       "    </tr>\n",
       "    <tr>\n",
       "      <th>10</th>\n",
       "      <td>(avg_num_unq, sum_num_unq)</td>\n",
       "      <td>0.850161</td>\n",
       "    </tr>\n",
       "    <tr>\n",
       "      <th>2</th>\n",
       "      <td>(avg_num_100, sum_total_sec)</td>\n",
       "      <td>0.845821</td>\n",
       "    </tr>\n",
       "    <tr>\n",
       "      <th>28</th>\n",
       "      <td>(avg_num_100, avg_num_unq)</td>\n",
       "      <td>0.818453</td>\n",
       "    </tr>\n",
       "    <tr>\n",
       "      <th>14</th>\n",
       "      <td>(avg_num_25, sum_num_25)</td>\n",
       "      <td>0.794976</td>\n",
       "    </tr>\n",
       "    <tr>\n",
       "      <th>19</th>\n",
       "      <td>(avg_num_50, avg_num_75)</td>\n",
       "      <td>0.790653</td>\n",
       "    </tr>\n",
       "    <tr>\n",
       "      <th>1</th>\n",
       "      <td>(avg_num_75, sum_num_75)</td>\n",
       "      <td>0.775734</td>\n",
       "    </tr>\n",
       "    <tr>\n",
       "      <th>16</th>\n",
       "      <td>(payment_method_id_41, registered_via_7.0)</td>\n",
       "      <td>0.770459</td>\n",
       "    </tr>\n",
       "    <tr>\n",
       "      <th>15</th>\n",
       "      <td>(m_expire_day, tran_day)</td>\n",
       "      <td>0.762244</td>\n",
       "    </tr>\n",
       "    <tr>\n",
       "      <th>5</th>\n",
       "      <td>(city_1.0, registered_via_7.0)</td>\n",
       "      <td>0.755944</td>\n",
       "    </tr>\n",
       "    <tr>\n",
       "      <th>13</th>\n",
       "      <td>(avg_num_50, sum_num_50)</td>\n",
       "      <td>0.754905</td>\n",
       "    </tr>\n",
       "    <tr>\n",
       "      <th>27</th>\n",
       "      <td>(avg_num_unq, sum_total_sec)</td>\n",
       "      <td>0.753361</td>\n",
       "    </tr>\n",
       "    <tr>\n",
       "      <th>4</th>\n",
       "      <td>(avg_total_sec, sum_num_unq)</td>\n",
       "      <td>0.752522</td>\n",
       "    </tr>\n",
       "    <tr>\n",
       "      <th>6</th>\n",
       "      <td>(is_auto_renew, payment_method_id_38)</td>\n",
       "      <td>-0.745725</td>\n",
       "    </tr>\n",
       "    <tr>\n",
       "      <th>18</th>\n",
       "      <td>(avg_num_unq, sum_num_100)</td>\n",
       "      <td>0.733333</td>\n",
       "    </tr>\n",
       "    <tr>\n",
       "      <th>20</th>\n",
       "      <td>(avg_num_100, sum_num_unq)</td>\n",
       "      <td>0.725876</td>\n",
       "    </tr>\n",
       "    <tr>\n",
       "      <th>26</th>\n",
       "      <td>(payment_plan_days, plan_list_price)</td>\n",
       "      <td>0.705108</td>\n",
       "    </tr>\n",
       "  </tbody>\n",
       "</table>\n",
       "</div>"
      ],
      "text/plain": [
       "                                attribute pair  correlation\n",
       "8                 (sum_num_100, sum_total_sec)     0.989062\n",
       "12       (actual_amount_paid, plan_list_price)     0.987405\n",
       "7                 (avg_num_100, avg_total_sec)     0.986182\n",
       "3                      (tran_month, tran_year)    -0.970119\n",
       "17             (m_expire_month, m_expire_year)    -0.923652\n",
       "21                (sum_num_unq, sum_total_sec)     0.901698\n",
       "0                     (sum_num_50, sum_num_75)     0.886194\n",
       "24                  (sum_num_100, sum_num_unq)     0.874581\n",
       "25                  (avg_num_985, sum_num_985)     0.873967\n",
       "23                  (avg_num_100, sum_num_100)     0.862662\n",
       "9               (avg_total_sec, sum_total_sec)     0.858410\n",
       "11                (avg_total_sec, sum_num_100)     0.853897\n",
       "22                (avg_num_unq, avg_total_sec)     0.852176\n",
       "10                  (avg_num_unq, sum_num_unq)     0.850161\n",
       "2                 (avg_num_100, sum_total_sec)     0.845821\n",
       "28                  (avg_num_100, avg_num_unq)     0.818453\n",
       "14                    (avg_num_25, sum_num_25)     0.794976\n",
       "19                    (avg_num_50, avg_num_75)     0.790653\n",
       "1                     (avg_num_75, sum_num_75)     0.775734\n",
       "16  (payment_method_id_41, registered_via_7.0)     0.770459\n",
       "15                    (m_expire_day, tran_day)     0.762244\n",
       "5               (city_1.0, registered_via_7.0)     0.755944\n",
       "13                    (avg_num_50, sum_num_50)     0.754905\n",
       "27                (avg_num_unq, sum_total_sec)     0.753361\n",
       "4                 (avg_total_sec, sum_num_unq)     0.752522\n",
       "6        (is_auto_renew, payment_method_id_38)    -0.745725\n",
       "18                  (avg_num_unq, sum_num_100)     0.733333\n",
       "20                  (avg_num_100, sum_num_unq)     0.725876\n",
       "26        (payment_plan_days, plan_list_price)     0.705108"
      ]
     },
     "execution_count": 33,
     "metadata": {},
     "output_type": "execute_result"
    }
   ],
   "source": [
    "attrs = pearson.iloc[:-1,:-1]\n",
    "threshold = 0.7\n",
    "important_corrs = (attrs[abs(attrs) > threshold][attrs != 1.0]) \\\n",
    "    .unstack().dropna().to_dict()\n",
    "unique_important_corrs = pd.DataFrame(\n",
    "    list(set([(tuple(sorted(key)), important_corrs[key]) \\\n",
    "    for key in important_corrs])), columns=['attribute pair', 'correlation'])\n",
    "\n",
    "unique_important_corrs = unique_important_corrs.ix[\n",
    "    abs(unique_important_corrs['correlation']).argsort()[::-1]]\n",
    "\n",
    "unique_important_corrs"
   ]
  },
  {
   "cell_type": "code",
   "execution_count": null,
   "metadata": {
    "collapsed": false
   },
   "outputs": [],
   "source": [
    "\"\"\"\n",
    "유효변수중 사용하지 않을 변수 체크\n",
    "is_auto_renew          -0.250394\n",
    "    payment_method_id_38    0.196086\n",
    "plan_list_price         0.122793\n",
    "    actual_amount_paid      0.117340\n",
    "payment_method_id_41   -0.103313\n",
    "    payment_plan_days       0.098507\n",
    "    registered_via_7.0     -0.089244\n",
    "registered_via_4.0      0.084028\n",
    "registered_via_3.0      0.066821\n",
    "is_cancel               0.060644\n",
    "payment_method_id_36    0.056694\n",
    "payment_method_id_29    0.055884\n",
    "payment_method_id_35    0.051876\n",
    "payment_method_id_32    0.049016\n",
    "\"\"\"\n"
   ]
  },
  {
   "cell_type": "code",
   "execution_count": null,
   "metadata": {
    "collapsed": true
   },
   "outputs": [],
   "source": [
    "- transaction_merge_log_9to1_oneHot에서 사용할 변수\n",
    "is_auto_renew          -0.250394\n",
    "plan_list_price         0.122793\n",
    "payment_method_id_41   -0.103313\n",
    "registered_via_4.0      0.084028\n",
    "registered_via_3.0      0.066821\n",
    "is_cancel               0.060644\n",
    "payment_method_id_36    0.056694\n",
    "payment_method_id_29    0.055884\n",
    "payment_method_id_35    0.051876\n",
    "payment_method_id_32    0.049016"
   ]
  },
  {
   "cell_type": "code",
   "execution_count": 34,
   "metadata": {
    "collapsed": false
   },
   "outputs": [
    {
     "data": {
      "text/plain": [
       "(4512692, 105)"
      ]
     },
     "execution_count": 34,
     "metadata": {},
     "output_type": "execute_result"
    }
   ],
   "source": [
    "transaction_merge_log_9to1_oneHot.shape"
   ]
  },
  {
   "cell_type": "code",
   "execution_count": 35,
   "metadata": {
    "collapsed": false
   },
   "outputs": [
    {
     "data": {
      "text/plain": [
       "'2016-09-01'"
      ]
     },
     "execution_count": 35,
     "metadata": {},
     "output_type": "execute_result"
    }
   ],
   "source": [
    "transaction_merge_log_9to1_oneHot[\"transaction_date\"].min()"
   ]
  },
  {
   "cell_type": "code",
   "execution_count": 36,
   "metadata": {
    "collapsed": false
   },
   "outputs": [
    {
     "data": {
      "text/plain": [
       "'2017-01-31'"
      ]
     },
     "execution_count": 36,
     "metadata": {},
     "output_type": "execute_result"
    }
   ],
   "source": [
    "transaction_merge_log_9to1_oneHot[\"transaction_date\"].max()"
   ]
  },
  {
   "cell_type": "code",
   "execution_count": 37,
   "metadata": {
    "collapsed": false
   },
   "outputs": [],
   "source": [
    "import matplotlib.pyplot as plt"
   ]
  },
  {
   "cell_type": "code",
   "execution_count": 38,
   "metadata": {
    "collapsed": false
   },
   "outputs": [],
   "source": [
    "plt.rc('figure', figsize=(12, 8)) # rc 설정하겠다는 거다. resource configuration default:6,4"
   ]
  },
  {
   "cell_type": "code",
   "execution_count": 40,
   "metadata": {
    "collapsed": false
   },
   "outputs": [],
   "source": [
    "var = ['is_auto_renew',          \n",
    "'plan_list_price',        \n",
    "'payment_method_id_41',   \n",
    "'registered_via_4.0',    \n",
    "'registered_via_3.0',    \n",
    "'is_cancel',              \n",
    "'payment_method_id_36',   \n",
    "'payment_method_id_29',   \n",
    "'payment_method_id_35',  \n",
    "'payment_method_id_32']                "
   ]
  },
  {
   "cell_type": "code",
   "execution_count": 42,
   "metadata": {
    "collapsed": false,
    "scrolled": true
   },
   "outputs": [
    {
     "data": {
      "image/png": "[encoded data removed]",
      "text/plain": [
       "<matplotlib.figure.Figure at 0x3425cec50>"
      ]
     },
     "metadata": {},
     "output_type": "display_data"
    },
    {
     "data": {
      "image/png": "[encoded data removed]",
      "text/plain": [
       "<matplotlib.figure.Figure at 0x342545358>"
      ]
     },
     "metadata": {},
     "output_type": "display_data"
    },
    {
     "data": {
      "image/png": "[encoded data removed]",
      "text/plain": [
       "<matplotlib.figure.Figure at 0x342545940>"
      ]
     },
     "metadata": {},
     "output_type": "display_data"
    },
    {
     "data": {
      "image/png": "[encoded data removed]",
      "text/plain": [
       "<matplotlib.figure.Figure at 0x342268320>"
      ]
     },
     "metadata": {},
     "output_type": "display_data"
    },
    {
     "data": {
      "image/png": "[encoded data removed]",
      "text/plain": [
       "<matplotlib.figure.Figure at 0x3421eefd0>"
      ]
     },
     "metadata": {},
     "output_type": "display_data"
    },
    {
     "data": {
      "image/png": "[encoded data removed]",
      "text/plain": [
       "<matplotlib.figure.Figure at 0x34214bb38>"
      ]
     },
     "metadata": {},
     "output_type": "display_data"
    },
    {
     "data": {
      "image/png": "[encoded data removed]",
      "text/plain": [
       "<matplotlib.figure.Figure at 0x3420b6080>"
      ]
     },
     "metadata": {},
     "output_type": "display_data"
    },
    {
     "data": {
      "image/png": "[encoded data removed]",
      "text/plain": [
       "<matplotlib.figure.Figure at 0x34207e710>"
      ]
     },
     "metadata": {},
     "output_type": "display_data"
    },
    {
     "data": {
      "image/png": "[encoded data removed]",
      "text/plain": [
       "<matplotlib.figure.Figure at 0x341f85908>"
      ]
     },
     "metadata": {},
     "output_type": "display_data"
    },
    {
     "data": {
      "image/png": "[encoded data removed]",
      "text/plain": [
       "<matplotlib.figure.Figure at 0x341ef29b0>"
      ]
     },
     "metadata": {},
     "output_type": "display_data"
    }
   ],
   "source": [
    "for var_name in var:\n",
    "    (transaction_merge_log_9to1_oneHot\n",
    "     .groupby([var_name,'FebChurn'])\n",
    "     .size()\n",
    "     .unstack()\n",
    "     .plot.bar(stacked=True)\n",
    "    )\n",
    "    plt.xlabel(var_name, fontsize=18)\n",
    "    plt.show()"
   ]
  },
  {
   "cell_type": "markdown",
   "metadata": {},
   "source": [
    "plot으로는 유의미 종속변수와의 관계를 약간 볼 수 있었다."
   ]
  },
  {
   "cell_type": "code",
   "execution_count": 51,
   "metadata": {
    "collapsed": true
   },
   "outputs": [],
   "source": [
    "from IPython.core.interactiveshell import InteractiveShell\n",
    "InteractiveShell.ast_node_interactivity = \"all\" #'last' 기본값"
   ]
  },
  {
   "cell_type": "code",
   "execution_count": 55,
   "metadata": {
    "collapsed": false
   },
   "outputs": [
    {
     "data": {
      "text/plain": [
       "'2016-10-01'"
      ]
     },
     "execution_count": 55,
     "metadata": {},
     "output_type": "execute_result"
    },
    {
     "data": {
      "text/plain": [
       "'2017-02-28'"
      ]
     },
     "execution_count": 55,
     "metadata": {},
     "output_type": "execute_result"
    },
    {
     "data": {
      "text/plain": [
       "'2016-09-01'"
      ]
     },
     "execution_count": 55,
     "metadata": {},
     "output_type": "execute_result"
    },
    {
     "data": {
      "text/plain": [
       "'2017-01-31'"
      ]
     },
     "execution_count": 55,
     "metadata": {},
     "output_type": "execute_result"
    }
   ],
   "source": [
    "transaction_merge_log_10to2_oneHot[\"transaction_date\"].min()\n",
    "transaction_merge_log_10to2_oneHot[\"transaction_date\"].max()\n",
    "transaction_merge_log_9to1_oneHot[\"transaction_date\"].min()\n",
    "transaction_merge_log_9to1_oneHot[\"transaction_date\"].max()"
   ]
  },
  {
   "cell_type": "code",
   "execution_count": 54,
   "metadata": {
    "collapsed": false
   },
   "outputs": [
    {
     "data": {
      "text/plain": [
       "(4399448, 105)"
      ]
     },
     "execution_count": 54,
     "metadata": {},
     "output_type": "execute_result"
    },
    {
     "data": {
      "text/html": [
       "<div>\n",
       "<style>\n",
       "    .dataframe thead tr:only-child th {\n",
       "        text-align: right;\n",
       "    }\n",
       "\n",
       "    .dataframe thead th {\n",
       "        text-align: left;\n",
       "    }\n",
       "\n",
       "    .dataframe tbody tr th {\n",
       "        vertical-align: top;\n",
       "    }\n",
       "</style>\n",
       "<table border=\"1\" class=\"dataframe\">\n",
       "  <thead>\n",
       "    <tr style=\"text-align: right;\">\n",
       "      <th></th>\n",
       "      <th>msno</th>\n",
       "      <th>city</th>\n",
       "      <th>bd</th>\n",
       "      <th>registered_via</th>\n",
       "      <th>registration_init_time</th>\n",
       "      <th>count</th>\n",
       "      <th>payment_method_id</th>\n",
       "      <th>payment_plan_days</th>\n",
       "      <th>plan_list_price</th>\n",
       "      <th>actual_amount_paid</th>\n",
       "      <th>...</th>\n",
       "      <th>payment_method_id_35</th>\n",
       "      <th>payment_method_id_36</th>\n",
       "      <th>payment_method_id_37</th>\n",
       "      <th>payment_method_id_38</th>\n",
       "      <th>payment_method_id_39</th>\n",
       "      <th>payment_method_id_40</th>\n",
       "      <th>payment_method_id_41</th>\n",
       "      <th>payment_method_id_6</th>\n",
       "      <th>payment_method_id_8</th>\n",
       "      <th>MarChurn</th>\n",
       "    </tr>\n",
       "  </thead>\n",
       "  <tbody>\n",
       "    <tr>\n",
       "      <th>0</th>\n",
       "      <td>+++hVY1rZox/33YtvDgmKA2Frg/2qhkz12B9ylCvh8o=</td>\n",
       "      <td>1.0</td>\n",
       "      <td>0</td>\n",
       "      <td>7.0</td>\n",
       "      <td>2014-06-08</td>\n",
       "      <td>103</td>\n",
       "      <td>41</td>\n",
       "      <td>30</td>\n",
       "      <td>99</td>\n",
       "      <td>99</td>\n",
       "      <td>...</td>\n",
       "      <td>0</td>\n",
       "      <td>0</td>\n",
       "      <td>0</td>\n",
       "      <td>0</td>\n",
       "      <td>0</td>\n",
       "      <td>0</td>\n",
       "      <td>1</td>\n",
       "      <td>0</td>\n",
       "      <td>0</td>\n",
       "      <td>0.0</td>\n",
       "    </tr>\n",
       "    <tr>\n",
       "      <th>1</th>\n",
       "      <td>+++hVY1rZox/33YtvDgmKA2Frg/2qhkz12B9ylCvh8o=</td>\n",
       "      <td>1.0</td>\n",
       "      <td>0</td>\n",
       "      <td>7.0</td>\n",
       "      <td>2014-06-08</td>\n",
       "      <td>103</td>\n",
       "      <td>41</td>\n",
       "      <td>30</td>\n",
       "      <td>99</td>\n",
       "      <td>99</td>\n",
       "      <td>...</td>\n",
       "      <td>0</td>\n",
       "      <td>0</td>\n",
       "      <td>0</td>\n",
       "      <td>0</td>\n",
       "      <td>0</td>\n",
       "      <td>0</td>\n",
       "      <td>1</td>\n",
       "      <td>0</td>\n",
       "      <td>0</td>\n",
       "      <td>0.0</td>\n",
       "    </tr>\n",
       "    <tr>\n",
       "      <th>2</th>\n",
       "      <td>+++hVY1rZox/33YtvDgmKA2Frg/2qhkz12B9ylCvh8o=</td>\n",
       "      <td>1.0</td>\n",
       "      <td>0</td>\n",
       "      <td>7.0</td>\n",
       "      <td>2014-06-08</td>\n",
       "      <td>103</td>\n",
       "      <td>41</td>\n",
       "      <td>30</td>\n",
       "      <td>99</td>\n",
       "      <td>99</td>\n",
       "      <td>...</td>\n",
       "      <td>0</td>\n",
       "      <td>0</td>\n",
       "      <td>0</td>\n",
       "      <td>0</td>\n",
       "      <td>0</td>\n",
       "      <td>0</td>\n",
       "      <td>1</td>\n",
       "      <td>0</td>\n",
       "      <td>0</td>\n",
       "      <td>0.0</td>\n",
       "    </tr>\n",
       "  </tbody>\n",
       "</table>\n",
       "<p>3 rows × 105 columns</p>\n",
       "</div>"
      ],
      "text/plain": [
       "                                           msno city  bd registered_via  \\\n",
       "0  +++hVY1rZox/33YtvDgmKA2Frg/2qhkz12B9ylCvh8o=  1.0   0            7.0   \n",
       "1  +++hVY1rZox/33YtvDgmKA2Frg/2qhkz12B9ylCvh8o=  1.0   0            7.0   \n",
       "2  +++hVY1rZox/33YtvDgmKA2Frg/2qhkz12B9ylCvh8o=  1.0   0            7.0   \n",
       "\n",
       "  registration_init_time  count payment_method_id  payment_plan_days  \\\n",
       "0             2014-06-08    103                41                 30   \n",
       "1             2014-06-08    103                41                 30   \n",
       "2             2014-06-08    103                41                 30   \n",
       "\n",
       "   plan_list_price  actual_amount_paid    ...     payment_method_id_35  \\\n",
       "0               99                  99    ...                        0   \n",
       "1               99                  99    ...                        0   \n",
       "2               99                  99    ...                        0   \n",
       "\n",
       "  payment_method_id_36 payment_method_id_37  payment_method_id_38  \\\n",
       "0                    0                    0                     0   \n",
       "1                    0                    0                     0   \n",
       "2                    0                    0                     0   \n",
       "\n",
       "   payment_method_id_39  payment_method_id_40  payment_method_id_41  \\\n",
       "0                     0                     0                     1   \n",
       "1                     0                     0                     1   \n",
       "2                     0                     0                     1   \n",
       "\n",
       "   payment_method_id_6  payment_method_id_8  MarChurn  \n",
       "0                    0                    0       0.0  \n",
       "1                    0                    0       0.0  \n",
       "2                    0                    0       0.0  \n",
       "\n",
       "[3 rows x 105 columns]"
      ]
     },
     "execution_count": 54,
     "metadata": {},
     "output_type": "execute_result"
    }
   ],
   "source": [
    "transaction_merge_log_10to2_oneHot.shape\n",
    "transaction_merge_log_10to2_oneHot[:3]"
   ]
  },
  {
   "cell_type": "code",
   "execution_count": 56,
   "metadata": {
    "collapsed": false
   },
   "outputs": [
    {
     "data": {
      "text/plain": [
       "(4512692, 105)"
      ]
     },
     "execution_count": 56,
     "metadata": {},
     "output_type": "execute_result"
    },
    {
     "data": {
      "text/html": [
       "<div>\n",
       "<style>\n",
       "    .dataframe thead tr:only-child th {\n",
       "        text-align: right;\n",
       "    }\n",
       "\n",
       "    .dataframe thead th {\n",
       "        text-align: left;\n",
       "    }\n",
       "\n",
       "    .dataframe tbody tr th {\n",
       "        vertical-align: top;\n",
       "    }\n",
       "</style>\n",
       "<table border=\"1\" class=\"dataframe\">\n",
       "  <thead>\n",
       "    <tr style=\"text-align: right;\">\n",
       "      <th></th>\n",
       "      <th>msno</th>\n",
       "      <th>city</th>\n",
       "      <th>bd</th>\n",
       "      <th>registered_via</th>\n",
       "      <th>registration_init_time</th>\n",
       "      <th>count</th>\n",
       "      <th>payment_method_id</th>\n",
       "      <th>payment_plan_days</th>\n",
       "      <th>plan_list_price</th>\n",
       "      <th>actual_amount_paid</th>\n",
       "      <th>...</th>\n",
       "      <th>payment_method_id_35</th>\n",
       "      <th>payment_method_id_36</th>\n",
       "      <th>payment_method_id_37</th>\n",
       "      <th>payment_method_id_38</th>\n",
       "      <th>payment_method_id_39</th>\n",
       "      <th>payment_method_id_40</th>\n",
       "      <th>payment_method_id_41</th>\n",
       "      <th>payment_method_id_6</th>\n",
       "      <th>payment_method_id_8</th>\n",
       "      <th>FebChurn</th>\n",
       "    </tr>\n",
       "  </thead>\n",
       "  <tbody>\n",
       "    <tr>\n",
       "      <th>0</th>\n",
       "      <td>+++hVY1rZox/33YtvDgmKA2Frg/2qhkz12B9ylCvh8o=</td>\n",
       "      <td>1.0</td>\n",
       "      <td>0</td>\n",
       "      <td>7.0</td>\n",
       "      <td>2014-06-08</td>\n",
       "      <td>103</td>\n",
       "      <td>41</td>\n",
       "      <td>30</td>\n",
       "      <td>99</td>\n",
       "      <td>99</td>\n",
       "      <td>...</td>\n",
       "      <td>0</td>\n",
       "      <td>0</td>\n",
       "      <td>0</td>\n",
       "      <td>0</td>\n",
       "      <td>0</td>\n",
       "      <td>0</td>\n",
       "      <td>1</td>\n",
       "      <td>0</td>\n",
       "      <td>0</td>\n",
       "      <td>0.0</td>\n",
       "    </tr>\n",
       "    <tr>\n",
       "      <th>1</th>\n",
       "      <td>+++hVY1rZox/33YtvDgmKA2Frg/2qhkz12B9ylCvh8o=</td>\n",
       "      <td>1.0</td>\n",
       "      <td>0</td>\n",
       "      <td>7.0</td>\n",
       "      <td>2014-06-08</td>\n",
       "      <td>103</td>\n",
       "      <td>41</td>\n",
       "      <td>30</td>\n",
       "      <td>99</td>\n",
       "      <td>99</td>\n",
       "      <td>...</td>\n",
       "      <td>0</td>\n",
       "      <td>0</td>\n",
       "      <td>0</td>\n",
       "      <td>0</td>\n",
       "      <td>0</td>\n",
       "      <td>0</td>\n",
       "      <td>1</td>\n",
       "      <td>0</td>\n",
       "      <td>0</td>\n",
       "      <td>0.0</td>\n",
       "    </tr>\n",
       "    <tr>\n",
       "      <th>2</th>\n",
       "      <td>+++hVY1rZox/33YtvDgmKA2Frg/2qhkz12B9ylCvh8o=</td>\n",
       "      <td>1.0</td>\n",
       "      <td>0</td>\n",
       "      <td>7.0</td>\n",
       "      <td>2014-06-08</td>\n",
       "      <td>103</td>\n",
       "      <td>41</td>\n",
       "      <td>30</td>\n",
       "      <td>99</td>\n",
       "      <td>99</td>\n",
       "      <td>...</td>\n",
       "      <td>0</td>\n",
       "      <td>0</td>\n",
       "      <td>0</td>\n",
       "      <td>0</td>\n",
       "      <td>0</td>\n",
       "      <td>0</td>\n",
       "      <td>1</td>\n",
       "      <td>0</td>\n",
       "      <td>0</td>\n",
       "      <td>0.0</td>\n",
       "    </tr>\n",
       "  </tbody>\n",
       "</table>\n",
       "<p>3 rows × 105 columns</p>\n",
       "</div>"
      ],
      "text/plain": [
       "                                           msno city  bd registered_via  \\\n",
       "0  +++hVY1rZox/33YtvDgmKA2Frg/2qhkz12B9ylCvh8o=  1.0   0            7.0   \n",
       "1  +++hVY1rZox/33YtvDgmKA2Frg/2qhkz12B9ylCvh8o=  1.0   0            7.0   \n",
       "2  +++hVY1rZox/33YtvDgmKA2Frg/2qhkz12B9ylCvh8o=  1.0   0            7.0   \n",
       "\n",
       "  registration_init_time  count payment_method_id  payment_plan_days  \\\n",
       "0             2014-06-08    103                41                 30   \n",
       "1             2014-06-08    103                41                 30   \n",
       "2             2014-06-08    103                41                 30   \n",
       "\n",
       "   plan_list_price  actual_amount_paid    ...     payment_method_id_35  \\\n",
       "0               99                  99    ...                        0   \n",
       "1               99                  99    ...                        0   \n",
       "2               99                  99    ...                        0   \n",
       "\n",
       "  payment_method_id_36 payment_method_id_37  payment_method_id_38  \\\n",
       "0                    0                    0                     0   \n",
       "1                    0                    0                     0   \n",
       "2                    0                    0                     0   \n",
       "\n",
       "   payment_method_id_39  payment_method_id_40  payment_method_id_41  \\\n",
       "0                     0                     0                     1   \n",
       "1                     0                     0                     1   \n",
       "2                     0                     0                     1   \n",
       "\n",
       "   payment_method_id_6  payment_method_id_8  FebChurn  \n",
       "0                    0                    0       0.0  \n",
       "1                    0                    0       0.0  \n",
       "2                    0                    0       0.0  \n",
       "\n",
       "[3 rows x 105 columns]"
      ]
     },
     "execution_count": 56,
     "metadata": {},
     "output_type": "execute_result"
    }
   ],
   "source": [
    "transaction_merge_log_9to1_oneHot.shape\n",
    "transaction_merge_log_9to1_oneHot[:3]"
   ]
  },
  {
   "cell_type": "markdown",
   "metadata": {},
   "source": [
    "### Train / Validation data set 설명\n",
    "\n",
    "- train set\n",
    "    - train_X = transaction_merge_log_9to1_oneHot\n",
    "        - train set 독립변수\n",
    "    - train_y = Feb_churn\n",
    "        - train set 종속변수\n",
    "- validation set\n",
    "    - validation_X = transaction_merge_log_10to2_oneHot\n",
    "        - validation set 독립변수\n",
    "    - validation_y = Mar_chrun\n",
    "        - validation set 종속변수"
   ]
  },
  {
   "cell_type": "code",
   "execution_count": 57,
   "metadata": {
    "collapsed": false,
    "scrolled": true
   },
   "outputs": [],
   "source": [
    "train_X = transaction_merge_log_9to1_oneHot.copy()\n",
    "train_y = transaction_merge_log_9to1_oneHot[[\"msno\",\"FebChurn\"]]\n",
    "\n",
    "validation_X = transaction_merge_log_10to2_oneHot.copy()\n",
    "validation_y = transaction_merge_log_10to2_oneHot[[\"msno\",\"MarChurn\"]]\n",
    "\n",
    "del train_X[\"FebChurn\"]\n",
    "del validation_X[\"MarChurn\"]"
   ]
  },
  {
   "cell_type": "code",
   "execution_count": 58,
   "metadata": {
    "collapsed": false,
    "scrolled": false
   },
   "outputs": [
    {
     "name": "stderr",
     "output_type": "stream",
     "text": [
      "C:\\Anaconda3\\lib\\site-packages\\pandas\\core\\frame.py:2352: SettingWithCopyWarning: \n",
      "A value is trying to be set on a copy of a slice from a DataFrame.\n",
      "Try using .loc[row_indexer,col_indexer] = value instead\n",
      "\n",
      "See the caveats in the documentation: http://pandas.pydata.org/pandas-docs/stable/indexing.html#indexing-view-versus-copy\n",
      "  self[k1] = value[k2]\n"
     ]
    }
   ],
   "source": [
    "train_y[[\"FebChurn\"]] = train_y[[\"FebChurn\"]].astype(str)\n",
    "validation_y[[\"MarChurn\"]] = validation_y[[\"MarChurn\"]].astype(str)"
   ]
  },
  {
   "cell_type": "markdown",
   "metadata": {},
   "source": [
    "## 유효변수를 넣은 것 vs 모든변수를 넣은 것(TODO::)??"
   ]
  },
  {
   "cell_type": "code",
   "execution_count": 59,
   "metadata": {
    "collapsed": true
   },
   "outputs": [],
   "source": [
    "train_Xmajor = train_X[['is_auto_renew',          \n",
    "                        'plan_list_price',        \n",
    "                        'payment_method_id_41',   \n",
    "                        'registered_via_4.0',    \n",
    "                        'registered_via_3.0',    \n",
    "                        'is_cancel',              \n",
    "                        'payment_method_id_36',   \n",
    "                        'payment_method_id_29',   \n",
    "                        'payment_method_id_35',  \n",
    "                        'payment_method_id_32']]\n",
    "\n",
    "validation_Xmajor = validation_X[['is_auto_renew',          \n",
    "                                'plan_list_price',        \n",
    "                                'payment_method_id_41',   \n",
    "                                'registered_via_4.0',    \n",
    "                                'registered_via_3.0',    \n",
    "                                'is_cancel',              \n",
    "                                'payment_method_id_36',   \n",
    "                                'payment_method_id_29',   \n",
    "                                'payment_method_id_35',  \n",
    "                                'payment_method_id_32']]"
   ]
  },
  {
   "cell_type": "code",
   "execution_count": 63,
   "metadata": {
    "collapsed": false
   },
   "outputs": [
    {
     "name": "stdout",
     "output_type": "stream",
     "text": [
      "5 1.32466\n",
      "10 6.25213\n",
      "15 10.5776\n",
      "20 9.41897\n",
      "25 5.56484\n",
      "30 1.06765\n",
      "35 2.35851\n",
      "40 4.1269\n",
      "45 3.39384\n",
      "50 1.36873\n",
      "예측값: [0 0 0 ..., 0 0 0]\n",
      "실제값: [0 0 0 ..., 0 0 0]\n",
      "정확도: 93.83\n"
     ]
    }
   ],
   "source": [
    "import tensorflow as tf\n",
    "import numpy as np\n",
    "\n",
    "x_data = np.array(train_Xmajor)\n",
    "train_y_oh = pd.get_dummies(train_y[['FebChurn']])\n",
    "y_data = np.array(train_y_oh)\n",
    "\n",
    "#########\n",
    "# 신경망 모델 구성\n",
    "######\n",
    "X = tf.placeholder(tf.float32)\n",
    "Y = tf.placeholder(tf.float32)\n",
    "keep_prob = tf.placeholder(tf.float32)\n",
    "\n",
    "W1 = tf.Variable(tf.random_uniform([x_data.shape[1], 20], -1., 1.))\n",
    "W2 = tf.Variable(tf.random_uniform([20, 20], -1., 1.))\n",
    "W3 = tf.Variable(tf.random_uniform([20, 20], -1., 1.))\n",
    "W4 = tf.Variable(tf.random_uniform([20, y_data.shape[1]], -1., 1.))\n",
    "\n",
    "b1 = tf.Variable(tf.zeros([20]))\n",
    "b2 = tf.Variable(tf.zeros([20]))\n",
    "b3 = tf.Variable(tf.zeros([20]))\n",
    "b4 = tf.Variable(tf.zeros([y_data.shape[1]]))\n",
    "\n",
    "# 신경망의 히든 레이어에 가중치 W1과 편향 b1을 적용합니다\n",
    "L1 = tf.add(tf.matmul(X, W1), b1)\n",
    "L1 = tf.nn.relu(L1)\n",
    "# L1 = tf.nn.dropout(L1, keep_prob=keep_prob)\n",
    "\n",
    "L2 = tf.add(tf.matmul(L1, W2), b2)\n",
    "L2 = tf.nn.relu(L2)\n",
    "\n",
    "L3 = tf.add(tf.matmul(L2, W3), b3)\n",
    "L3 = tf.nn.relu(L3)\n",
    "\n",
    "# 최종적인 아웃풋을 계산합니다.\n",
    "# 히든레이어에 두번째 가중치 W2와 편향 b2를 적용하여 3개의 출력값을 만들어냅니다.\n",
    "model = tf.add(tf.matmul(L3, W4), b4)\n",
    "\n",
    "# 텐서플로우에서 기본적으로 제공되는 크로스 엔트로피 함수를 이용해\n",
    "# 복잡한 수식을 사용하지 않고도 최적화를 위한 비용 함수를 다음처럼 간단하게 적용할 수 있습니다.\n",
    "cost = tf.reduce_mean(\n",
    "    tf.nn.softmax_cross_entropy_with_logits(labels=Y, logits=model))\n",
    "\n",
    "optimizer = tf.train.AdamOptimizer(learning_rate=0.01)\n",
    "train_op = optimizer.minimize(cost)\n",
    "\n",
    "#########\n",
    "# 신경망 모델 학습\n",
    "######\n",
    "init = tf.global_variables_initializer()\n",
    "sess = tf.Session()\n",
    "sess.run(init)\n",
    "\n",
    "for step in range(50):\n",
    "    sess.run(train_op, feed_dict={X: x_data, Y: y_data})\n",
    "    if (step + 1) % 5 == 0:\n",
    "        print(step + 1, sess.run(cost, feed_dict={X: x_data, Y: y_data}))\n",
    "\n",
    "#########\n",
    "# 결과 확인\n",
    "######\n",
    "x_val = np.array(validation_Xmajor)\n",
    "val_y_oh = pd.get_dummies(validation_y[['MarChurn']])\n",
    "y_val = np.array(val_y_oh)\n",
    "\n",
    "prediction = tf.argmax(model, 1)\n",
    "target = tf.argmax(Y, 1)\n",
    "prediction_nn = []\n",
    "pred_nn = sess.run(prediction, feed_dict={X: x_val})\n",
    "print('예측값:', pred_nn)\n",
    "prediction_nn.append(pred_nn)\n",
    "print('실제값:', sess.run(target, feed_dict={Y: y_val}))\n",
    "\n",
    "is_correct = tf.equal(prediction, target)\n",
    "accuracy = tf.reduce_mean(tf.cast(is_correct, tf.float32))\n",
    "print('정확도: %.2f' % sess.run(accuracy * 100, feed_dict={X: x_val, Y: y_val}))"
   ]
  },
  {
   "cell_type": "code",
   "execution_count": 87,
   "metadata": {
    "collapsed": false
   },
   "outputs": [],
   "source": [
    "result = pd.DataFrame(\n",
    "    {'real_value': list(validation_y['MarChurn']),\n",
    "     'prediction': prediction_nn[0],\n",
    "     'msno': list(validation_X[\"msno\"])\n",
    "    })"
   ]
  },
  {
   "cell_type": "code",
   "execution_count": 88,
   "metadata": {
    "collapsed": false
   },
   "outputs": [
    {
     "data": {
      "text/html": [
       "<div>\n",
       "<style>\n",
       "    .dataframe thead tr:only-child th {\n",
       "        text-align: right;\n",
       "    }\n",
       "\n",
       "    .dataframe thead th {\n",
       "        text-align: left;\n",
       "    }\n",
       "\n",
       "    .dataframe tbody tr th {\n",
       "        vertical-align: top;\n",
       "    }\n",
       "</style>\n",
       "<table border=\"1\" class=\"dataframe\">\n",
       "  <thead>\n",
       "    <tr style=\"text-align: right;\">\n",
       "      <th>prediction</th>\n",
       "      <th>0</th>\n",
       "      <th>1</th>\n",
       "    </tr>\n",
       "    <tr>\n",
       "      <th>real_value</th>\n",
       "      <th></th>\n",
       "      <th></th>\n",
       "    </tr>\n",
       "  </thead>\n",
       "  <tbody>\n",
       "    <tr>\n",
       "      <th>0.0</th>\n",
       "      <td>4126481</td>\n",
       "      <td>997</td>\n",
       "    </tr>\n",
       "    <tr>\n",
       "      <th>1.0</th>\n",
       "      <td>270267</td>\n",
       "      <td>1703</td>\n",
       "    </tr>\n",
       "  </tbody>\n",
       "</table>\n",
       "</div>"
      ],
      "text/plain": [
       "prediction        0     1\n",
       "real_value               \n",
       "0.0         4126481   997\n",
       "1.0          270267  1703"
      ]
     },
     "execution_count": 88,
     "metadata": {},
     "output_type": "execute_result"
    }
   ],
   "source": [
    "mnn_result_cross = pd.crosstab(result[\"real_value\"], result[\"prediction\"])\n",
    "mnn_result_cross"
   ]
  },
  {
   "cell_type": "code",
   "execution_count": 89,
   "metadata": {
    "collapsed": true
   },
   "outputs": [],
   "source": [
    "mnn_r00 = mnn_result_cross[0][0]\n",
    "mnn_r01 = mnn_result_cross[0][1]\n",
    "mnn_r10 = mnn_result_cross[1][0]\n",
    "mnn_r11 = mnn_result_cross[1][1]"
   ]
  },
  {
   "cell_type": "code",
   "execution_count": 90,
   "metadata": {
    "collapsed": false
   },
   "outputs": [
    {
     "name": "stdout",
     "output_type": "stream",
     "text": [
      "전체예측: 0.938341355552\n",
      "1인데 1로 예측: 0.00626172004265\n",
      "0인데 1로 잘못예측: 0.0614697499152\n",
      "1인데 0으로 잘못예측: 0.00022675850424\n"
     ]
    }
   ],
   "source": [
    "print(\"전체예측:\",(mnn_r00+mnn_r11)/(mnn_r00+mnn_r01+mnn_r10+mnn_r11))\n",
    "print(\"1인데 1로 예측:\",(mnn_r11)/(mnn_r01+mnn_r11))\n",
    "print(\"0인데 1로 잘못예측:\",(mnn_r01)/(mnn_r01+mnn_r00))\n",
    "print(\"1인데 0으로 잘못예측:\",(mnn_r10)/(mnn_r01+mnn_r00))"
   ]
  },
  {
   "cell_type": "code",
   "execution_count": 91,
   "metadata": {
    "collapsed": true
   },
   "outputs": [],
   "source": [
    "result[['prediction']] = result[['prediction']].astype(str)"
   ]
  },
  {
   "cell_type": "code",
   "execution_count": 92,
   "metadata": {
    "collapsed": false
   },
   "outputs": [],
   "source": [
    "result[['real_value']] = result[['real_value']].astype(float)\n",
    "result[['real_value']] = result[['real_value']].astype(int)"
   ]
  },
  {
   "cell_type": "code",
   "execution_count": 96,
   "metadata": {
    "collapsed": true
   },
   "outputs": [],
   "source": [
    "result[['real_value']] = result[['real_value']].astype(str)"
   ]
  },
  {
   "cell_type": "code",
   "execution_count": 97,
   "metadata": {
    "collapsed": false
   },
   "outputs": [
    {
     "data": {
      "text/plain": [
       "(4399448, 3)"
      ]
     },
     "execution_count": 97,
     "metadata": {},
     "output_type": "execute_result"
    }
   ],
   "source": [
    "result.shape"
   ]
  },
  {
   "cell_type": "code",
   "execution_count": 95,
   "metadata": {
    "collapsed": false
   },
   "outputs": [],
   "source": [
    "result.to_csv(\"E:/kaggle/final_data/Predict_MarChurn.csv\", index=False)"
   ]
  },
  {
   "cell_type": "code",
   "execution_count": 1,
   "metadata": {
    "collapsed": true
   },
   "outputs": [],
   "source": [
    "import pandas as pd\n",
    "result = pd.read_csv(\"E:/kaggle/final_data/Predict_MarChurn.csv\")"
   ]
  },
  {
   "cell_type": "code",
   "execution_count": 6,
   "metadata": {
    "collapsed": false
   },
   "outputs": [
    {
     "data": {
      "text/plain": [
       "msno          object\n",
       "prediction     int64\n",
       "real_value     int64\n",
       "dtype: object"
      ]
     },
     "execution_count": 6,
     "metadata": {},
     "output_type": "execute_result"
    }
   ],
   "source": [
    "result.dtypes"
   ]
  },
  {
   "cell_type": "code",
   "execution_count": 9,
   "metadata": {
    "collapsed": false
   },
   "outputs": [
    {
     "data": {
      "text/plain": [
       "(4399448, 3)"
      ]
     },
     "execution_count": 9,
     "metadata": {},
     "output_type": "execute_result"
    }
   ],
   "source": [
    "result.shape"
   ]
  },
  {
   "cell_type": "code",
   "execution_count": 83,
   "metadata": {
    "collapsed": true
   },
   "outputs": [],
   "source": [
    "import numpy as np\n",
    "from statistics import mean"
   ]
  },
  {
   "cell_type": "code",
   "execution_count": 12,
   "metadata": {
    "collapsed": false,
    "scrolled": true
   },
   "outputs": [],
   "source": [
    "groupby_result = result.groupby(['msno']).mean()"
   ]
  },
  {
   "cell_type": "code",
   "execution_count": 14,
   "metadata": {
    "collapsed": false
   },
   "outputs": [
    {
     "data": {
      "text/html": [
       "<div>\n",
       "<style>\n",
       "    .dataframe thead tr:only-child th {\n",
       "        text-align: right;\n",
       "    }\n",
       "\n",
       "    .dataframe thead th {\n",
       "        text-align: left;\n",
       "    }\n",
       "\n",
       "    .dataframe tbody tr th {\n",
       "        vertical-align: top;\n",
       "    }\n",
       "</style>\n",
       "<table border=\"1\" class=\"dataframe\">\n",
       "  <thead>\n",
       "    <tr style=\"text-align: right;\">\n",
       "      <th></th>\n",
       "      <th>prediction</th>\n",
       "      <th>real_value</th>\n",
       "    </tr>\n",
       "    <tr>\n",
       "      <th>msno</th>\n",
       "      <th></th>\n",
       "      <th></th>\n",
       "    </tr>\n",
       "  </thead>\n",
       "  <tbody>\n",
       "    <tr>\n",
       "      <th>+++hVY1rZox/33YtvDgmKA2Frg/2qhkz12B9ylCvh8o=</th>\n",
       "      <td>0.00</td>\n",
       "      <td>0.0</td>\n",
       "    </tr>\n",
       "    <tr>\n",
       "      <th>+++l/EXNMLTijfLBa8p2TUVVVp2aFGSuUI/h7mLmthw=</th>\n",
       "      <td>0.00</td>\n",
       "      <td>0.0</td>\n",
       "    </tr>\n",
       "    <tr>\n",
       "      <th>+++snpr7pmobhLKUgSHTv/mpkqgBT0tQJ0zQj6qKrqc=</th>\n",
       "      <td>0.00</td>\n",
       "      <td>0.0</td>\n",
       "    </tr>\n",
       "    <tr>\n",
       "      <th>++/9R3sX37CjxbY/AaGvbwr3QkwElKBCtSvVzhCBDOk=</th>\n",
       "      <td>0.00</td>\n",
       "      <td>0.0</td>\n",
       "    </tr>\n",
       "    <tr>\n",
       "      <th>++/UDNo9DLrxT8QVGiDi1OnWfczAdEwThaVyD0fXO50=</th>\n",
       "      <td>0.00</td>\n",
       "      <td>0.0</td>\n",
       "    </tr>\n",
       "    <tr>\n",
       "      <th>++/ZHqwUNa7U21Qz+zqteiXlZapxey86l6eEorrak/g=</th>\n",
       "      <td>0.00</td>\n",
       "      <td>0.0</td>\n",
       "    </tr>\n",
       "    <tr>\n",
       "      <th>++0/NopttBsaAn6qHZA2AWWrDg7Me7UOMs1vsyo4tSI=</th>\n",
       "      <td>0.00</td>\n",
       "      <td>0.0</td>\n",
       "    </tr>\n",
       "    <tr>\n",
       "      <th>++0BJXY8tpirgIhJR14LDM1pnaRosjD1mdO1mIKxlJA=</th>\n",
       "      <td>0.00</td>\n",
       "      <td>0.0</td>\n",
       "    </tr>\n",
       "    <tr>\n",
       "      <th>++0EzISdtKY48Z0GY62jer/LFQwrNIAbADdtU5xStGY=</th>\n",
       "      <td>0.00</td>\n",
       "      <td>0.0</td>\n",
       "    </tr>\n",
       "    <tr>\n",
       "      <th>++0wqjjQge1mBBe5r4ciHGKwtF/m322zkra7CK8I+Mw=</th>\n",
       "      <td>0.00</td>\n",
       "      <td>0.0</td>\n",
       "    </tr>\n",
       "    <tr>\n",
       "      <th>++1G0wVY14Lp0VXak1ymLhPUdXPSFJVBnjWwzGxBKJs=</th>\n",
       "      <td>0.00</td>\n",
       "      <td>0.0</td>\n",
       "    </tr>\n",
       "    <tr>\n",
       "      <th>++1GCIyXZO7834NjDKmcK1lBVLQi9PsN6sOC7wfW+8g=</th>\n",
       "      <td>0.00</td>\n",
       "      <td>0.0</td>\n",
       "    </tr>\n",
       "    <tr>\n",
       "      <th>++1Wu2wKBA60W9F9sMh15RXmh1wN1fjoVGzNqvw/Gro=</th>\n",
       "      <td>0.00</td>\n",
       "      <td>0.0</td>\n",
       "    </tr>\n",
       "    <tr>\n",
       "      <th>++2Ju1OdxLSyexwhZ/C0glNK0DMIfUjsFpk9lt8Dll8=</th>\n",
       "      <td>0.00</td>\n",
       "      <td>0.0</td>\n",
       "    </tr>\n",
       "    <tr>\n",
       "      <th>++38dVm0EHKCOfND6oEal3xFKtqJYZTZJmnpbAOOZBk=</th>\n",
       "      <td>0.00</td>\n",
       "      <td>0.0</td>\n",
       "    </tr>\n",
       "    <tr>\n",
       "      <th>++3A6JMzYJeron30GTcDostfXoAl8rTBuB2M8GeVdNU=</th>\n",
       "      <td>0.00</td>\n",
       "      <td>0.0</td>\n",
       "    </tr>\n",
       "    <tr>\n",
       "      <th>++3Z+W8OPnpbHYfrKwqRKN1bF83XEbxjdYUolhGdHZg=</th>\n",
       "      <td>0.00</td>\n",
       "      <td>0.0</td>\n",
       "    </tr>\n",
       "    <tr>\n",
       "      <th>++3fWHRDC5GWWlovHcrOKWNwZYOjWWkJyeLlL65uv78=</th>\n",
       "      <td>0.00</td>\n",
       "      <td>0.0</td>\n",
       "    </tr>\n",
       "    <tr>\n",
       "      <th>++3wqX72HmowxFh5MrHvNi5Ce8D3ldo4zaUL932TYbs=</th>\n",
       "      <td>0.00</td>\n",
       "      <td>0.0</td>\n",
       "    </tr>\n",
       "    <tr>\n",
       "      <th>++4RuqBw0Ss6bQU4oMxaRlbBPoWzoEiIZaxPM04Y4+U=</th>\n",
       "      <td>0.00</td>\n",
       "      <td>0.0</td>\n",
       "    </tr>\n",
       "    <tr>\n",
       "      <th>++4cUL0b9CfW8cj0A/wfSxQc4k4fcVtWcLqk2UOdpKs=</th>\n",
       "      <td>0.17</td>\n",
       "      <td>0.0</td>\n",
       "    </tr>\n",
       "    <tr>\n",
       "      <th>++4wuAZmfzMBjRHP4vDpTk+jkj9Xam8SW5rNJrGFEsE=</th>\n",
       "      <td>0.00</td>\n",
       "      <td>0.0</td>\n",
       "    </tr>\n",
       "    <tr>\n",
       "      <th>++5XBxbJNz3idK9egVoGbWJ4xhGQu2MR0pSP0kL9DK4=</th>\n",
       "      <td>0.00</td>\n",
       "      <td>0.0</td>\n",
       "    </tr>\n",
       "    <tr>\n",
       "      <th>++5Z7z4xXBhCjID+BYk/RLkqtTTAULRXhvjfOc88aEw=</th>\n",
       "      <td>0.00</td>\n",
       "      <td>0.0</td>\n",
       "    </tr>\n",
       "    <tr>\n",
       "      <th>++5wYjoMgQHoRuD3GbbvmphZbBBwymzv5Q4l8sywtuU=</th>\n",
       "      <td>0.00</td>\n",
       "      <td>0.0</td>\n",
       "    </tr>\n",
       "    <tr>\n",
       "      <th>++64pHA0OvDq9P9nEAVqSQONHE1ODxEM0KmcazJxKZ8=</th>\n",
       "      <td>0.00</td>\n",
       "      <td>0.0</td>\n",
       "    </tr>\n",
       "    <tr>\n",
       "      <th>++6P09mCSJSh+Ft2pvZ0FWTrtcI3v1A7h3/coh8dBKw=</th>\n",
       "      <td>0.00</td>\n",
       "      <td>0.0</td>\n",
       "    </tr>\n",
       "    <tr>\n",
       "      <th>++6xEqu4JANaRY4GjEfEFtLtqOvZvYPyP3uk/PW9Ces=</th>\n",
       "      <td>0.00</td>\n",
       "      <td>0.0</td>\n",
       "    </tr>\n",
       "    <tr>\n",
       "      <th>++7Fx1LQKDAsjctHxn6p+YoSDe9iniEhjosrxBNFR6A=</th>\n",
       "      <td>0.00</td>\n",
       "      <td>0.0</td>\n",
       "    </tr>\n",
       "    <tr>\n",
       "      <th>++8XaEDast796K/DQcP7sSoRQ8JRnA7X5S+oyXEw62E=</th>\n",
       "      <td>0.00</td>\n",
       "      <td>0.0</td>\n",
       "    </tr>\n",
       "    <tr>\n",
       "      <th>...</th>\n",
       "      <td>...</td>\n",
       "      <td>...</td>\n",
       "    </tr>\n",
       "    <tr>\n",
       "      <th>zzqhrI0gqPwQnjjWX4PC16TgaLSUwQaejWWeJjclfW8=</th>\n",
       "      <td>0.00</td>\n",
       "      <td>0.0</td>\n",
       "    </tr>\n",
       "    <tr>\n",
       "      <th>zzqv/DjiJJFlfDEeaja2Cq7cvVWz++pwIaJ6SAM42sw=</th>\n",
       "      <td>0.00</td>\n",
       "      <td>0.0</td>\n",
       "    </tr>\n",
       "    <tr>\n",
       "      <th>zzrd7DiMe4a9EIUBeIKSUxpblomhiBE3DvaC32fMl7o=</th>\n",
       "      <td>0.00</td>\n",
       "      <td>1.0</td>\n",
       "    </tr>\n",
       "    <tr>\n",
       "      <th>zzrvfjDSDKahD50R9yxkzhsQfRpCjcRj+XG8ZY+40VE=</th>\n",
       "      <td>0.00</td>\n",
       "      <td>0.0</td>\n",
       "    </tr>\n",
       "    <tr>\n",
       "      <th>zzsIerQnY70zKAgAD1GSB89LFnfIxXwXO+FBJEyMbDo=</th>\n",
       "      <td>0.00</td>\n",
       "      <td>0.0</td>\n",
       "    </tr>\n",
       "    <tr>\n",
       "      <th>zzsusjoGJ6jH+qVF5cMfJGphBO7MR4P4P1rD7qxITX0=</th>\n",
       "      <td>0.00</td>\n",
       "      <td>0.0</td>\n",
       "    </tr>\n",
       "    <tr>\n",
       "      <th>zzt4LinfZVgufjQc8MVgTz9CwxB9pJtNJDnk3d3F7Ac=</th>\n",
       "      <td>0.00</td>\n",
       "      <td>0.0</td>\n",
       "    </tr>\n",
       "    <tr>\n",
       "      <th>zztGcSZznx0uMBvc0fTQVTfCzeS7Ho/otO2L/4FXs/w=</th>\n",
       "      <td>0.00</td>\n",
       "      <td>0.0</td>\n",
       "    </tr>\n",
       "    <tr>\n",
       "      <th>zztRj67GpP0kdrpfKJ4X4bUrF+ljVCkR0K8cRDIbzRI=</th>\n",
       "      <td>0.00</td>\n",
       "      <td>0.0</td>\n",
       "    </tr>\n",
       "    <tr>\n",
       "      <th>zztb7cCNxnkeZ33rHQ0Z3cnshdE8gn/nwMTiNP49b4o=</th>\n",
       "      <td>0.00</td>\n",
       "      <td>0.0</td>\n",
       "    </tr>\n",
       "    <tr>\n",
       "      <th>zztg1DNR0a6n+9+CXd8WAfNZHsl5VvyYC2ngeXlwpkc=</th>\n",
       "      <td>0.00</td>\n",
       "      <td>1.0</td>\n",
       "    </tr>\n",
       "    <tr>\n",
       "      <th>zzuGxQfF86Zsx5nqF1Yh+oJpEIfdjFKKYpTqFZMdxzk=</th>\n",
       "      <td>0.00</td>\n",
       "      <td>0.0</td>\n",
       "    </tr>\n",
       "    <tr>\n",
       "      <th>zzuiTQN9MP4dT+mVTYuaFGeQwum5iIkUW56LyzPi4gA=</th>\n",
       "      <td>0.00</td>\n",
       "      <td>0.0</td>\n",
       "    </tr>\n",
       "    <tr>\n",
       "      <th>zzv/igs0VigNppe7WR8qgz1h6aXFFzQLu5paAswIbcQ=</th>\n",
       "      <td>0.00</td>\n",
       "      <td>0.0</td>\n",
       "    </tr>\n",
       "    <tr>\n",
       "      <th>zzv2n8+r3LGI4gFp6c4hpseYdfHrl829IY3IlA0BF4Q=</th>\n",
       "      <td>0.00</td>\n",
       "      <td>0.0</td>\n",
       "    </tr>\n",
       "    <tr>\n",
       "      <th>zzvB5JRK4WBwtKJoNtnNF34r5dUAuenPpR9xrxdfMSI=</th>\n",
       "      <td>0.00</td>\n",
       "      <td>0.0</td>\n",
       "    </tr>\n",
       "    <tr>\n",
       "      <th>zzvRDIlZcYclP7ocM+wG1WUPbUHPtMRPKerl/hionLg=</th>\n",
       "      <td>0.00</td>\n",
       "      <td>0.0</td>\n",
       "    </tr>\n",
       "    <tr>\n",
       "      <th>zzvZ4AqXwz9Yh2nyExvdWL3YxRVvFLLotZaLXJL6Hik=</th>\n",
       "      <td>0.00</td>\n",
       "      <td>0.0</td>\n",
       "    </tr>\n",
       "    <tr>\n",
       "      <th>zzwimfmJBJ4SrRw3bYXQzE9UrizlSE10yI7dHPvG5xM=</th>\n",
       "      <td>0.00</td>\n",
       "      <td>0.0</td>\n",
       "    </tr>\n",
       "    <tr>\n",
       "      <th>zzwlIVmSuehTevzOi+WkcC7b3+MBYDiE4qybszTyhII=</th>\n",
       "      <td>0.00</td>\n",
       "      <td>0.0</td>\n",
       "    </tr>\n",
       "    <tr>\n",
       "      <th>zzwsW1MnZalh6V5BwYE+V6hFWyKJYOf+rFd+SWVXxp8=</th>\n",
       "      <td>0.00</td>\n",
       "      <td>0.0</td>\n",
       "    </tr>\n",
       "    <tr>\n",
       "      <th>zzx1qgX8R9EmT8PAn4/KyQ6s7PuLYTfR8kUCABiCW9E=</th>\n",
       "      <td>0.00</td>\n",
       "      <td>0.0</td>\n",
       "    </tr>\n",
       "    <tr>\n",
       "      <th>zzx4hKiyR9XFEGAr7SAjcCPbKJCZ+IqegWL7dPjPwZk=</th>\n",
       "      <td>0.00</td>\n",
       "      <td>0.0</td>\n",
       "    </tr>\n",
       "    <tr>\n",
       "      <th>zzx7wcys2Nha6yP2Skjs+R1/JNAfEuAWUaAp0qsV2Cg=</th>\n",
       "      <td>0.00</td>\n",
       "      <td>1.0</td>\n",
       "    </tr>\n",
       "    <tr>\n",
       "      <th>zzxPS8+wCuE4HE85EDp4WBHgS5l548vfwXJbQq1HZ9I=</th>\n",
       "      <td>0.00</td>\n",
       "      <td>0.0</td>\n",
       "    </tr>\n",
       "    <tr>\n",
       "      <th>zzxZeMFx2fjfKZigMnJa2w0EmloDbm8+8nTf/o/00GY=</th>\n",
       "      <td>0.00</td>\n",
       "      <td>0.0</td>\n",
       "    </tr>\n",
       "    <tr>\n",
       "      <th>zzxi7n5xoTYo9Q3VTygLWvl/rBDcexwaeAry0yK7Q0E=</th>\n",
       "      <td>0.00</td>\n",
       "      <td>0.0</td>\n",
       "    </tr>\n",
       "    <tr>\n",
       "      <th>zzy7iqSpfcRq7R4hmKKuhI+CJRs79a6pteqEggpiNO0=</th>\n",
       "      <td>0.00</td>\n",
       "      <td>1.0</td>\n",
       "    </tr>\n",
       "    <tr>\n",
       "      <th>zzz1Dc3P9s53HAowRTrm3fNsWju5yeN4YBfNDq7Z99Q=</th>\n",
       "      <td>0.00</td>\n",
       "      <td>0.0</td>\n",
       "    </tr>\n",
       "    <tr>\n",
       "      <th>zzzF1KsGfHH3qI6qiSNSXC35UXmVKMVFdxkp7xmDMc0=</th>\n",
       "      <td>0.00</td>\n",
       "      <td>0.0</td>\n",
       "    </tr>\n",
       "  </tbody>\n",
       "</table>\n",
       "<p>949023 rows × 2 columns</p>\n",
       "</div>"
      ],
      "text/plain": [
       "                                              prediction  real_value\n",
       "msno                                                                \n",
       "+++hVY1rZox/33YtvDgmKA2Frg/2qhkz12B9ylCvh8o=        0.00         0.0\n",
       "+++l/EXNMLTijfLBa8p2TUVVVp2aFGSuUI/h7mLmthw=        0.00         0.0\n",
       "+++snpr7pmobhLKUgSHTv/mpkqgBT0tQJ0zQj6qKrqc=        0.00         0.0\n",
       "++/9R3sX37CjxbY/AaGvbwr3QkwElKBCtSvVzhCBDOk=        0.00         0.0\n",
       "++/UDNo9DLrxT8QVGiDi1OnWfczAdEwThaVyD0fXO50=        0.00         0.0\n",
       "++/ZHqwUNa7U21Qz+zqteiXlZapxey86l6eEorrak/g=        0.00         0.0\n",
       "++0/NopttBsaAn6qHZA2AWWrDg7Me7UOMs1vsyo4tSI=        0.00         0.0\n",
       "++0BJXY8tpirgIhJR14LDM1pnaRosjD1mdO1mIKxlJA=        0.00         0.0\n",
       "++0EzISdtKY48Z0GY62jer/LFQwrNIAbADdtU5xStGY=        0.00         0.0\n",
       "++0wqjjQge1mBBe5r4ciHGKwtF/m322zkra7CK8I+Mw=        0.00         0.0\n",
       "++1G0wVY14Lp0VXak1ymLhPUdXPSFJVBnjWwzGxBKJs=        0.00         0.0\n",
       "++1GCIyXZO7834NjDKmcK1lBVLQi9PsN6sOC7wfW+8g=        0.00         0.0\n",
       "++1Wu2wKBA60W9F9sMh15RXmh1wN1fjoVGzNqvw/Gro=        0.00         0.0\n",
       "++2Ju1OdxLSyexwhZ/C0glNK0DMIfUjsFpk9lt8Dll8=        0.00         0.0\n",
       "++38dVm0EHKCOfND6oEal3xFKtqJYZTZJmnpbAOOZBk=        0.00         0.0\n",
       "++3A6JMzYJeron30GTcDostfXoAl8rTBuB2M8GeVdNU=        0.00         0.0\n",
       "++3Z+W8OPnpbHYfrKwqRKN1bF83XEbxjdYUolhGdHZg=        0.00         0.0\n",
       "++3fWHRDC5GWWlovHcrOKWNwZYOjWWkJyeLlL65uv78=        0.00         0.0\n",
       "++3wqX72HmowxFh5MrHvNi5Ce8D3ldo4zaUL932TYbs=        0.00         0.0\n",
       "++4RuqBw0Ss6bQU4oMxaRlbBPoWzoEiIZaxPM04Y4+U=        0.00         0.0\n",
       "++4cUL0b9CfW8cj0A/wfSxQc4k4fcVtWcLqk2UOdpKs=        0.17         0.0\n",
       "++4wuAZmfzMBjRHP4vDpTk+jkj9Xam8SW5rNJrGFEsE=        0.00         0.0\n",
       "++5XBxbJNz3idK9egVoGbWJ4xhGQu2MR0pSP0kL9DK4=        0.00         0.0\n",
       "++5Z7z4xXBhCjID+BYk/RLkqtTTAULRXhvjfOc88aEw=        0.00         0.0\n",
       "++5wYjoMgQHoRuD3GbbvmphZbBBwymzv5Q4l8sywtuU=        0.00         0.0\n",
       "++64pHA0OvDq9P9nEAVqSQONHE1ODxEM0KmcazJxKZ8=        0.00         0.0\n",
       "++6P09mCSJSh+Ft2pvZ0FWTrtcI3v1A7h3/coh8dBKw=        0.00         0.0\n",
       "++6xEqu4JANaRY4GjEfEFtLtqOvZvYPyP3uk/PW9Ces=        0.00         0.0\n",
       "++7Fx1LQKDAsjctHxn6p+YoSDe9iniEhjosrxBNFR6A=        0.00         0.0\n",
       "++8XaEDast796K/DQcP7sSoRQ8JRnA7X5S+oyXEw62E=        0.00         0.0\n",
       "...                                                  ...         ...\n",
       "zzqhrI0gqPwQnjjWX4PC16TgaLSUwQaejWWeJjclfW8=        0.00         0.0\n",
       "zzqv/DjiJJFlfDEeaja2Cq7cvVWz++pwIaJ6SAM42sw=        0.00         0.0\n",
       "zzrd7DiMe4a9EIUBeIKSUxpblomhiBE3DvaC32fMl7o=        0.00         1.0\n",
       "zzrvfjDSDKahD50R9yxkzhsQfRpCjcRj+XG8ZY+40VE=        0.00         0.0\n",
       "zzsIerQnY70zKAgAD1GSB89LFnfIxXwXO+FBJEyMbDo=        0.00         0.0\n",
       "zzsusjoGJ6jH+qVF5cMfJGphBO7MR4P4P1rD7qxITX0=        0.00         0.0\n",
       "zzt4LinfZVgufjQc8MVgTz9CwxB9pJtNJDnk3d3F7Ac=        0.00         0.0\n",
       "zztGcSZznx0uMBvc0fTQVTfCzeS7Ho/otO2L/4FXs/w=        0.00         0.0\n",
       "zztRj67GpP0kdrpfKJ4X4bUrF+ljVCkR0K8cRDIbzRI=        0.00         0.0\n",
       "zztb7cCNxnkeZ33rHQ0Z3cnshdE8gn/nwMTiNP49b4o=        0.00         0.0\n",
       "zztg1DNR0a6n+9+CXd8WAfNZHsl5VvyYC2ngeXlwpkc=        0.00         1.0\n",
       "zzuGxQfF86Zsx5nqF1Yh+oJpEIfdjFKKYpTqFZMdxzk=        0.00         0.0\n",
       "zzuiTQN9MP4dT+mVTYuaFGeQwum5iIkUW56LyzPi4gA=        0.00         0.0\n",
       "zzv/igs0VigNppe7WR8qgz1h6aXFFzQLu5paAswIbcQ=        0.00         0.0\n",
       "zzv2n8+r3LGI4gFp6c4hpseYdfHrl829IY3IlA0BF4Q=        0.00         0.0\n",
       "zzvB5JRK4WBwtKJoNtnNF34r5dUAuenPpR9xrxdfMSI=        0.00         0.0\n",
       "zzvRDIlZcYclP7ocM+wG1WUPbUHPtMRPKerl/hionLg=        0.00         0.0\n",
       "zzvZ4AqXwz9Yh2nyExvdWL3YxRVvFLLotZaLXJL6Hik=        0.00         0.0\n",
       "zzwimfmJBJ4SrRw3bYXQzE9UrizlSE10yI7dHPvG5xM=        0.00         0.0\n",
       "zzwlIVmSuehTevzOi+WkcC7b3+MBYDiE4qybszTyhII=        0.00         0.0\n",
       "zzwsW1MnZalh6V5BwYE+V6hFWyKJYOf+rFd+SWVXxp8=        0.00         0.0\n",
       "zzx1qgX8R9EmT8PAn4/KyQ6s7PuLYTfR8kUCABiCW9E=        0.00         0.0\n",
       "zzx4hKiyR9XFEGAr7SAjcCPbKJCZ+IqegWL7dPjPwZk=        0.00         0.0\n",
       "zzx7wcys2Nha6yP2Skjs+R1/JNAfEuAWUaAp0qsV2Cg=        0.00         1.0\n",
       "zzxPS8+wCuE4HE85EDp4WBHgS5l548vfwXJbQq1HZ9I=        0.00         0.0\n",
       "zzxZeMFx2fjfKZigMnJa2w0EmloDbm8+8nTf/o/00GY=        0.00         0.0\n",
       "zzxi7n5xoTYo9Q3VTygLWvl/rBDcexwaeAry0yK7Q0E=        0.00         0.0\n",
       "zzy7iqSpfcRq7R4hmKKuhI+CJRs79a6pteqEggpiNO0=        0.00         1.0\n",
       "zzz1Dc3P9s53HAowRTrm3fNsWju5yeN4YBfNDq7Z99Q=        0.00         0.0\n",
       "zzzF1KsGfHH3qI6qiSNSXC35UXmVKMVFdxkp7xmDMc0=        0.00         0.0\n",
       "\n",
       "[949023 rows x 2 columns]"
      ]
     },
     "execution_count": 14,
     "metadata": {},
     "output_type": "execute_result"
    }
   ],
   "source": [
    "groupby_result.round(2)"
   ]
  },
  {
   "cell_type": "code",
   "execution_count": 15,
   "metadata": {
    "collapsed": false
   },
   "outputs": [
    {
     "data": {
      "text/html": [
       "<div>\n",
       "<style>\n",
       "    .dataframe thead tr:only-child th {\n",
       "        text-align: right;\n",
       "    }\n",
       "\n",
       "    .dataframe thead th {\n",
       "        text-align: left;\n",
       "    }\n",
       "\n",
       "    .dataframe tbody tr th {\n",
       "        vertical-align: top;\n",
       "    }\n",
       "</style>\n",
       "<table border=\"1\" class=\"dataframe\">\n",
       "  <thead>\n",
       "    <tr style=\"text-align: right;\">\n",
       "      <th></th>\n",
       "      <th>prediction</th>\n",
       "      <th>real_value</th>\n",
       "    </tr>\n",
       "  </thead>\n",
       "  <tbody>\n",
       "    <tr>\n",
       "      <th>count</th>\n",
       "      <td>949023.000000</td>\n",
       "      <td>949023.000000</td>\n",
       "    </tr>\n",
       "    <tr>\n",
       "      <th>mean</th>\n",
       "      <td>0.000736</td>\n",
       "      <td>0.072919</td>\n",
       "    </tr>\n",
       "    <tr>\n",
       "      <th>std</th>\n",
       "      <td>0.020440</td>\n",
       "      <td>0.260004</td>\n",
       "    </tr>\n",
       "    <tr>\n",
       "      <th>min</th>\n",
       "      <td>0.000000</td>\n",
       "      <td>0.000000</td>\n",
       "    </tr>\n",
       "    <tr>\n",
       "      <th>25%</th>\n",
       "      <td>0.000000</td>\n",
       "      <td>0.000000</td>\n",
       "    </tr>\n",
       "    <tr>\n",
       "      <th>50%</th>\n",
       "      <td>0.000000</td>\n",
       "      <td>0.000000</td>\n",
       "    </tr>\n",
       "    <tr>\n",
       "      <th>75%</th>\n",
       "      <td>0.000000</td>\n",
       "      <td>0.000000</td>\n",
       "    </tr>\n",
       "    <tr>\n",
       "      <th>max</th>\n",
       "      <td>1.000000</td>\n",
       "      <td>1.000000</td>\n",
       "    </tr>\n",
       "  </tbody>\n",
       "</table>\n",
       "</div>"
      ],
      "text/plain": [
       "          prediction     real_value\n",
       "count  949023.000000  949023.000000\n",
       "mean        0.000736       0.072919\n",
       "std         0.020440       0.260004\n",
       "min         0.000000       0.000000\n",
       "25%         0.000000       0.000000\n",
       "50%         0.000000       0.000000\n",
       "75%         0.000000       0.000000\n",
       "max         1.000000       1.000000"
      ]
     },
     "execution_count": 15,
     "metadata": {},
     "output_type": "execute_result"
    }
   ],
   "source": [
    "groupby_result.describe()"
   ]
  },
  {
   "cell_type": "code",
   "execution_count": 16,
   "metadata": {
    "collapsed": true
   },
   "outputs": [],
   "source": [
    "groupby_result.to_csv(\"E:/kaggle/final_data/Predict_MarChurn_groupby.csv\")"
   ]
  },
  {
   "cell_type": "code",
   "execution_count": 17,
   "metadata": {
    "collapsed": true
   },
   "outputs": [],
   "source": [
    "groupby_result = pd.read_csv(\"E:/kaggle/final_data/Predict_MarChurn_groupby.csv\")"
   ]
  },
  {
   "cell_type": "code",
   "execution_count": 18,
   "metadata": {
    "collapsed": false
   },
   "outputs": [
    {
     "data": {
      "text/html": [
       "<div>\n",
       "<style>\n",
       "    .dataframe thead tr:only-child th {\n",
       "        text-align: right;\n",
       "    }\n",
       "\n",
       "    .dataframe thead th {\n",
       "        text-align: left;\n",
       "    }\n",
       "\n",
       "    .dataframe tbody tr th {\n",
       "        vertical-align: top;\n",
       "    }\n",
       "</style>\n",
       "<table border=\"1\" class=\"dataframe\">\n",
       "  <thead>\n",
       "    <tr style=\"text-align: right;\">\n",
       "      <th></th>\n",
       "      <th>msno</th>\n",
       "      <th>prediction</th>\n",
       "      <th>real_value</th>\n",
       "    </tr>\n",
       "  </thead>\n",
       "  <tbody>\n",
       "    <tr>\n",
       "      <th>0</th>\n",
       "      <td>+++hVY1rZox/33YtvDgmKA2Frg/2qhkz12B9ylCvh8o=</td>\n",
       "      <td>0.000000</td>\n",
       "      <td>0.0</td>\n",
       "    </tr>\n",
       "    <tr>\n",
       "      <th>1</th>\n",
       "      <td>+++l/EXNMLTijfLBa8p2TUVVVp2aFGSuUI/h7mLmthw=</td>\n",
       "      <td>0.000000</td>\n",
       "      <td>0.0</td>\n",
       "    </tr>\n",
       "    <tr>\n",
       "      <th>2</th>\n",
       "      <td>+++snpr7pmobhLKUgSHTv/mpkqgBT0tQJ0zQj6qKrqc=</td>\n",
       "      <td>0.000000</td>\n",
       "      <td>0.0</td>\n",
       "    </tr>\n",
       "    <tr>\n",
       "      <th>3</th>\n",
       "      <td>++/9R3sX37CjxbY/AaGvbwr3QkwElKBCtSvVzhCBDOk=</td>\n",
       "      <td>0.000000</td>\n",
       "      <td>0.0</td>\n",
       "    </tr>\n",
       "    <tr>\n",
       "      <th>4</th>\n",
       "      <td>++/UDNo9DLrxT8QVGiDi1OnWfczAdEwThaVyD0fXO50=</td>\n",
       "      <td>0.000000</td>\n",
       "      <td>0.0</td>\n",
       "    </tr>\n",
       "    <tr>\n",
       "      <th>5</th>\n",
       "      <td>++/ZHqwUNa7U21Qz+zqteiXlZapxey86l6eEorrak/g=</td>\n",
       "      <td>0.000000</td>\n",
       "      <td>0.0</td>\n",
       "    </tr>\n",
       "    <tr>\n",
       "      <th>6</th>\n",
       "      <td>++0/NopttBsaAn6qHZA2AWWrDg7Me7UOMs1vsyo4tSI=</td>\n",
       "      <td>0.000000</td>\n",
       "      <td>0.0</td>\n",
       "    </tr>\n",
       "    <tr>\n",
       "      <th>7</th>\n",
       "      <td>++0BJXY8tpirgIhJR14LDM1pnaRosjD1mdO1mIKxlJA=</td>\n",
       "      <td>0.000000</td>\n",
       "      <td>0.0</td>\n",
       "    </tr>\n",
       "    <tr>\n",
       "      <th>8</th>\n",
       "      <td>++0EzISdtKY48Z0GY62jer/LFQwrNIAbADdtU5xStGY=</td>\n",
       "      <td>0.000000</td>\n",
       "      <td>0.0</td>\n",
       "    </tr>\n",
       "    <tr>\n",
       "      <th>9</th>\n",
       "      <td>++0wqjjQge1mBBe5r4ciHGKwtF/m322zkra7CK8I+Mw=</td>\n",
       "      <td>0.000000</td>\n",
       "      <td>0.0</td>\n",
       "    </tr>\n",
       "    <tr>\n",
       "      <th>10</th>\n",
       "      <td>++1G0wVY14Lp0VXak1ymLhPUdXPSFJVBnjWwzGxBKJs=</td>\n",
       "      <td>0.000000</td>\n",
       "      <td>0.0</td>\n",
       "    </tr>\n",
       "    <tr>\n",
       "      <th>11</th>\n",
       "      <td>++1GCIyXZO7834NjDKmcK1lBVLQi9PsN6sOC7wfW+8g=</td>\n",
       "      <td>0.000000</td>\n",
       "      <td>0.0</td>\n",
       "    </tr>\n",
       "    <tr>\n",
       "      <th>12</th>\n",
       "      <td>++1Wu2wKBA60W9F9sMh15RXmh1wN1fjoVGzNqvw/Gro=</td>\n",
       "      <td>0.000000</td>\n",
       "      <td>0.0</td>\n",
       "    </tr>\n",
       "    <tr>\n",
       "      <th>13</th>\n",
       "      <td>++2Ju1OdxLSyexwhZ/C0glNK0DMIfUjsFpk9lt8Dll8=</td>\n",
       "      <td>0.000000</td>\n",
       "      <td>0.0</td>\n",
       "    </tr>\n",
       "    <tr>\n",
       "      <th>14</th>\n",
       "      <td>++38dVm0EHKCOfND6oEal3xFKtqJYZTZJmnpbAOOZBk=</td>\n",
       "      <td>0.000000</td>\n",
       "      <td>0.0</td>\n",
       "    </tr>\n",
       "    <tr>\n",
       "      <th>15</th>\n",
       "      <td>++3A6JMzYJeron30GTcDostfXoAl8rTBuB2M8GeVdNU=</td>\n",
       "      <td>0.000000</td>\n",
       "      <td>0.0</td>\n",
       "    </tr>\n",
       "    <tr>\n",
       "      <th>16</th>\n",
       "      <td>++3Z+W8OPnpbHYfrKwqRKN1bF83XEbxjdYUolhGdHZg=</td>\n",
       "      <td>0.000000</td>\n",
       "      <td>0.0</td>\n",
       "    </tr>\n",
       "    <tr>\n",
       "      <th>17</th>\n",
       "      <td>++3fWHRDC5GWWlovHcrOKWNwZYOjWWkJyeLlL65uv78=</td>\n",
       "      <td>0.000000</td>\n",
       "      <td>0.0</td>\n",
       "    </tr>\n",
       "    <tr>\n",
       "      <th>18</th>\n",
       "      <td>++3wqX72HmowxFh5MrHvNi5Ce8D3ldo4zaUL932TYbs=</td>\n",
       "      <td>0.000000</td>\n",
       "      <td>0.0</td>\n",
       "    </tr>\n",
       "    <tr>\n",
       "      <th>19</th>\n",
       "      <td>++4RuqBw0Ss6bQU4oMxaRlbBPoWzoEiIZaxPM04Y4+U=</td>\n",
       "      <td>0.000000</td>\n",
       "      <td>0.0</td>\n",
       "    </tr>\n",
       "    <tr>\n",
       "      <th>20</th>\n",
       "      <td>++4cUL0b9CfW8cj0A/wfSxQc4k4fcVtWcLqk2UOdpKs=</td>\n",
       "      <td>0.166667</td>\n",
       "      <td>0.0</td>\n",
       "    </tr>\n",
       "    <tr>\n",
       "      <th>21</th>\n",
       "      <td>++4wuAZmfzMBjRHP4vDpTk+jkj9Xam8SW5rNJrGFEsE=</td>\n",
       "      <td>0.000000</td>\n",
       "      <td>0.0</td>\n",
       "    </tr>\n",
       "    <tr>\n",
       "      <th>22</th>\n",
       "      <td>++5XBxbJNz3idK9egVoGbWJ4xhGQu2MR0pSP0kL9DK4=</td>\n",
       "      <td>0.000000</td>\n",
       "      <td>0.0</td>\n",
       "    </tr>\n",
       "    <tr>\n",
       "      <th>23</th>\n",
       "      <td>++5Z7z4xXBhCjID+BYk/RLkqtTTAULRXhvjfOc88aEw=</td>\n",
       "      <td>0.000000</td>\n",
       "      <td>0.0</td>\n",
       "    </tr>\n",
       "    <tr>\n",
       "      <th>24</th>\n",
       "      <td>++5wYjoMgQHoRuD3GbbvmphZbBBwymzv5Q4l8sywtuU=</td>\n",
       "      <td>0.000000</td>\n",
       "      <td>0.0</td>\n",
       "    </tr>\n",
       "    <tr>\n",
       "      <th>25</th>\n",
       "      <td>++64pHA0OvDq9P9nEAVqSQONHE1ODxEM0KmcazJxKZ8=</td>\n",
       "      <td>0.000000</td>\n",
       "      <td>0.0</td>\n",
       "    </tr>\n",
       "    <tr>\n",
       "      <th>26</th>\n",
       "      <td>++6P09mCSJSh+Ft2pvZ0FWTrtcI3v1A7h3/coh8dBKw=</td>\n",
       "      <td>0.000000</td>\n",
       "      <td>0.0</td>\n",
       "    </tr>\n",
       "    <tr>\n",
       "      <th>27</th>\n",
       "      <td>++6xEqu4JANaRY4GjEfEFtLtqOvZvYPyP3uk/PW9Ces=</td>\n",
       "      <td>0.000000</td>\n",
       "      <td>0.0</td>\n",
       "    </tr>\n",
       "    <tr>\n",
       "      <th>28</th>\n",
       "      <td>++7Fx1LQKDAsjctHxn6p+YoSDe9iniEhjosrxBNFR6A=</td>\n",
       "      <td>0.000000</td>\n",
       "      <td>0.0</td>\n",
       "    </tr>\n",
       "    <tr>\n",
       "      <th>29</th>\n",
       "      <td>++8XaEDast796K/DQcP7sSoRQ8JRnA7X5S+oyXEw62E=</td>\n",
       "      <td>0.000000</td>\n",
       "      <td>0.0</td>\n",
       "    </tr>\n",
       "    <tr>\n",
       "      <th>...</th>\n",
       "      <td>...</td>\n",
       "      <td>...</td>\n",
       "      <td>...</td>\n",
       "    </tr>\n",
       "    <tr>\n",
       "      <th>948993</th>\n",
       "      <td>zzqhrI0gqPwQnjjWX4PC16TgaLSUwQaejWWeJjclfW8=</td>\n",
       "      <td>0.000000</td>\n",
       "      <td>0.0</td>\n",
       "    </tr>\n",
       "    <tr>\n",
       "      <th>948994</th>\n",
       "      <td>zzqv/DjiJJFlfDEeaja2Cq7cvVWz++pwIaJ6SAM42sw=</td>\n",
       "      <td>0.000000</td>\n",
       "      <td>0.0</td>\n",
       "    </tr>\n",
       "    <tr>\n",
       "      <th>948995</th>\n",
       "      <td>zzrd7DiMe4a9EIUBeIKSUxpblomhiBE3DvaC32fMl7o=</td>\n",
       "      <td>0.000000</td>\n",
       "      <td>1.0</td>\n",
       "    </tr>\n",
       "    <tr>\n",
       "      <th>948996</th>\n",
       "      <td>zzrvfjDSDKahD50R9yxkzhsQfRpCjcRj+XG8ZY+40VE=</td>\n",
       "      <td>0.000000</td>\n",
       "      <td>0.0</td>\n",
       "    </tr>\n",
       "    <tr>\n",
       "      <th>948997</th>\n",
       "      <td>zzsIerQnY70zKAgAD1GSB89LFnfIxXwXO+FBJEyMbDo=</td>\n",
       "      <td>0.000000</td>\n",
       "      <td>0.0</td>\n",
       "    </tr>\n",
       "    <tr>\n",
       "      <th>948998</th>\n",
       "      <td>zzsusjoGJ6jH+qVF5cMfJGphBO7MR4P4P1rD7qxITX0=</td>\n",
       "      <td>0.000000</td>\n",
       "      <td>0.0</td>\n",
       "    </tr>\n",
       "    <tr>\n",
       "      <th>948999</th>\n",
       "      <td>zzt4LinfZVgufjQc8MVgTz9CwxB9pJtNJDnk3d3F7Ac=</td>\n",
       "      <td>0.000000</td>\n",
       "      <td>0.0</td>\n",
       "    </tr>\n",
       "    <tr>\n",
       "      <th>949000</th>\n",
       "      <td>zztGcSZznx0uMBvc0fTQVTfCzeS7Ho/otO2L/4FXs/w=</td>\n",
       "      <td>0.000000</td>\n",
       "      <td>0.0</td>\n",
       "    </tr>\n",
       "    <tr>\n",
       "      <th>949001</th>\n",
       "      <td>zztRj67GpP0kdrpfKJ4X4bUrF+ljVCkR0K8cRDIbzRI=</td>\n",
       "      <td>0.000000</td>\n",
       "      <td>0.0</td>\n",
       "    </tr>\n",
       "    <tr>\n",
       "      <th>949002</th>\n",
       "      <td>zztb7cCNxnkeZ33rHQ0Z3cnshdE8gn/nwMTiNP49b4o=</td>\n",
       "      <td>0.000000</td>\n",
       "      <td>0.0</td>\n",
       "    </tr>\n",
       "    <tr>\n",
       "      <th>949003</th>\n",
       "      <td>zztg1DNR0a6n+9+CXd8WAfNZHsl5VvyYC2ngeXlwpkc=</td>\n",
       "      <td>0.000000</td>\n",
       "      <td>1.0</td>\n",
       "    </tr>\n",
       "    <tr>\n",
       "      <th>949004</th>\n",
       "      <td>zzuGxQfF86Zsx5nqF1Yh+oJpEIfdjFKKYpTqFZMdxzk=</td>\n",
       "      <td>0.000000</td>\n",
       "      <td>0.0</td>\n",
       "    </tr>\n",
       "    <tr>\n",
       "      <th>949005</th>\n",
       "      <td>zzuiTQN9MP4dT+mVTYuaFGeQwum5iIkUW56LyzPi4gA=</td>\n",
       "      <td>0.000000</td>\n",
       "      <td>0.0</td>\n",
       "    </tr>\n",
       "    <tr>\n",
       "      <th>949006</th>\n",
       "      <td>zzv/igs0VigNppe7WR8qgz1h6aXFFzQLu5paAswIbcQ=</td>\n",
       "      <td>0.000000</td>\n",
       "      <td>0.0</td>\n",
       "    </tr>\n",
       "    <tr>\n",
       "      <th>949007</th>\n",
       "      <td>zzv2n8+r3LGI4gFp6c4hpseYdfHrl829IY3IlA0BF4Q=</td>\n",
       "      <td>0.000000</td>\n",
       "      <td>0.0</td>\n",
       "    </tr>\n",
       "    <tr>\n",
       "      <th>949008</th>\n",
       "      <td>zzvB5JRK4WBwtKJoNtnNF34r5dUAuenPpR9xrxdfMSI=</td>\n",
       "      <td>0.000000</td>\n",
       "      <td>0.0</td>\n",
       "    </tr>\n",
       "    <tr>\n",
       "      <th>949009</th>\n",
       "      <td>zzvRDIlZcYclP7ocM+wG1WUPbUHPtMRPKerl/hionLg=</td>\n",
       "      <td>0.000000</td>\n",
       "      <td>0.0</td>\n",
       "    </tr>\n",
       "    <tr>\n",
       "      <th>949010</th>\n",
       "      <td>zzvZ4AqXwz9Yh2nyExvdWL3YxRVvFLLotZaLXJL6Hik=</td>\n",
       "      <td>0.000000</td>\n",
       "      <td>0.0</td>\n",
       "    </tr>\n",
       "    <tr>\n",
       "      <th>949011</th>\n",
       "      <td>zzwimfmJBJ4SrRw3bYXQzE9UrizlSE10yI7dHPvG5xM=</td>\n",
       "      <td>0.000000</td>\n",
       "      <td>0.0</td>\n",
       "    </tr>\n",
       "    <tr>\n",
       "      <th>949012</th>\n",
       "      <td>zzwlIVmSuehTevzOi+WkcC7b3+MBYDiE4qybszTyhII=</td>\n",
       "      <td>0.000000</td>\n",
       "      <td>0.0</td>\n",
       "    </tr>\n",
       "    <tr>\n",
       "      <th>949013</th>\n",
       "      <td>zzwsW1MnZalh6V5BwYE+V6hFWyKJYOf+rFd+SWVXxp8=</td>\n",
       "      <td>0.000000</td>\n",
       "      <td>0.0</td>\n",
       "    </tr>\n",
       "    <tr>\n",
       "      <th>949014</th>\n",
       "      <td>zzx1qgX8R9EmT8PAn4/KyQ6s7PuLYTfR8kUCABiCW9E=</td>\n",
       "      <td>0.000000</td>\n",
       "      <td>0.0</td>\n",
       "    </tr>\n",
       "    <tr>\n",
       "      <th>949015</th>\n",
       "      <td>zzx4hKiyR9XFEGAr7SAjcCPbKJCZ+IqegWL7dPjPwZk=</td>\n",
       "      <td>0.000000</td>\n",
       "      <td>0.0</td>\n",
       "    </tr>\n",
       "    <tr>\n",
       "      <th>949016</th>\n",
       "      <td>zzx7wcys2Nha6yP2Skjs+R1/JNAfEuAWUaAp0qsV2Cg=</td>\n",
       "      <td>0.000000</td>\n",
       "      <td>1.0</td>\n",
       "    </tr>\n",
       "    <tr>\n",
       "      <th>949017</th>\n",
       "      <td>zzxPS8+wCuE4HE85EDp4WBHgS5l548vfwXJbQq1HZ9I=</td>\n",
       "      <td>0.000000</td>\n",
       "      <td>0.0</td>\n",
       "    </tr>\n",
       "    <tr>\n",
       "      <th>949018</th>\n",
       "      <td>zzxZeMFx2fjfKZigMnJa2w0EmloDbm8+8nTf/o/00GY=</td>\n",
       "      <td>0.000000</td>\n",
       "      <td>0.0</td>\n",
       "    </tr>\n",
       "    <tr>\n",
       "      <th>949019</th>\n",
       "      <td>zzxi7n5xoTYo9Q3VTygLWvl/rBDcexwaeAry0yK7Q0E=</td>\n",
       "      <td>0.000000</td>\n",
       "      <td>0.0</td>\n",
       "    </tr>\n",
       "    <tr>\n",
       "      <th>949020</th>\n",
       "      <td>zzy7iqSpfcRq7R4hmKKuhI+CJRs79a6pteqEggpiNO0=</td>\n",
       "      <td>0.000000</td>\n",
       "      <td>1.0</td>\n",
       "    </tr>\n",
       "    <tr>\n",
       "      <th>949021</th>\n",
       "      <td>zzz1Dc3P9s53HAowRTrm3fNsWju5yeN4YBfNDq7Z99Q=</td>\n",
       "      <td>0.000000</td>\n",
       "      <td>0.0</td>\n",
       "    </tr>\n",
       "    <tr>\n",
       "      <th>949022</th>\n",
       "      <td>zzzF1KsGfHH3qI6qiSNSXC35UXmVKMVFdxkp7xmDMc0=</td>\n",
       "      <td>0.000000</td>\n",
       "      <td>0.0</td>\n",
       "    </tr>\n",
       "  </tbody>\n",
       "</table>\n",
       "<p>949023 rows × 3 columns</p>\n",
       "</div>"
      ],
      "text/plain": [
       "                                                msno  prediction  real_value\n",
       "0       +++hVY1rZox/33YtvDgmKA2Frg/2qhkz12B9ylCvh8o=    0.000000         0.0\n",
       "1       +++l/EXNMLTijfLBa8p2TUVVVp2aFGSuUI/h7mLmthw=    0.000000         0.0\n",
       "2       +++snpr7pmobhLKUgSHTv/mpkqgBT0tQJ0zQj6qKrqc=    0.000000         0.0\n",
       "3       ++/9R3sX37CjxbY/AaGvbwr3QkwElKBCtSvVzhCBDOk=    0.000000         0.0\n",
       "4       ++/UDNo9DLrxT8QVGiDi1OnWfczAdEwThaVyD0fXO50=    0.000000         0.0\n",
       "5       ++/ZHqwUNa7U21Qz+zqteiXlZapxey86l6eEorrak/g=    0.000000         0.0\n",
       "6       ++0/NopttBsaAn6qHZA2AWWrDg7Me7UOMs1vsyo4tSI=    0.000000         0.0\n",
       "7       ++0BJXY8tpirgIhJR14LDM1pnaRosjD1mdO1mIKxlJA=    0.000000         0.0\n",
       "8       ++0EzISdtKY48Z0GY62jer/LFQwrNIAbADdtU5xStGY=    0.000000         0.0\n",
       "9       ++0wqjjQge1mBBe5r4ciHGKwtF/m322zkra7CK8I+Mw=    0.000000         0.0\n",
       "10      ++1G0wVY14Lp0VXak1ymLhPUdXPSFJVBnjWwzGxBKJs=    0.000000         0.0\n",
       "11      ++1GCIyXZO7834NjDKmcK1lBVLQi9PsN6sOC7wfW+8g=    0.000000         0.0\n",
       "12      ++1Wu2wKBA60W9F9sMh15RXmh1wN1fjoVGzNqvw/Gro=    0.000000         0.0\n",
       "13      ++2Ju1OdxLSyexwhZ/C0glNK0DMIfUjsFpk9lt8Dll8=    0.000000         0.0\n",
       "14      ++38dVm0EHKCOfND6oEal3xFKtqJYZTZJmnpbAOOZBk=    0.000000         0.0\n",
       "15      ++3A6JMzYJeron30GTcDostfXoAl8rTBuB2M8GeVdNU=    0.000000         0.0\n",
       "16      ++3Z+W8OPnpbHYfrKwqRKN1bF83XEbxjdYUolhGdHZg=    0.000000         0.0\n",
       "17      ++3fWHRDC5GWWlovHcrOKWNwZYOjWWkJyeLlL65uv78=    0.000000         0.0\n",
       "18      ++3wqX72HmowxFh5MrHvNi5Ce8D3ldo4zaUL932TYbs=    0.000000         0.0\n",
       "19      ++4RuqBw0Ss6bQU4oMxaRlbBPoWzoEiIZaxPM04Y4+U=    0.000000         0.0\n",
       "20      ++4cUL0b9CfW8cj0A/wfSxQc4k4fcVtWcLqk2UOdpKs=    0.166667         0.0\n",
       "21      ++4wuAZmfzMBjRHP4vDpTk+jkj9Xam8SW5rNJrGFEsE=    0.000000         0.0\n",
       "22      ++5XBxbJNz3idK9egVoGbWJ4xhGQu2MR0pSP0kL9DK4=    0.000000         0.0\n",
       "23      ++5Z7z4xXBhCjID+BYk/RLkqtTTAULRXhvjfOc88aEw=    0.000000         0.0\n",
       "24      ++5wYjoMgQHoRuD3GbbvmphZbBBwymzv5Q4l8sywtuU=    0.000000         0.0\n",
       "25      ++64pHA0OvDq9P9nEAVqSQONHE1ODxEM0KmcazJxKZ8=    0.000000         0.0\n",
       "26      ++6P09mCSJSh+Ft2pvZ0FWTrtcI3v1A7h3/coh8dBKw=    0.000000         0.0\n",
       "27      ++6xEqu4JANaRY4GjEfEFtLtqOvZvYPyP3uk/PW9Ces=    0.000000         0.0\n",
       "28      ++7Fx1LQKDAsjctHxn6p+YoSDe9iniEhjosrxBNFR6A=    0.000000         0.0\n",
       "29      ++8XaEDast796K/DQcP7sSoRQ8JRnA7X5S+oyXEw62E=    0.000000         0.0\n",
       "...                                              ...         ...         ...\n",
       "948993  zzqhrI0gqPwQnjjWX4PC16TgaLSUwQaejWWeJjclfW8=    0.000000         0.0\n",
       "948994  zzqv/DjiJJFlfDEeaja2Cq7cvVWz++pwIaJ6SAM42sw=    0.000000         0.0\n",
       "948995  zzrd7DiMe4a9EIUBeIKSUxpblomhiBE3DvaC32fMl7o=    0.000000         1.0\n",
       "948996  zzrvfjDSDKahD50R9yxkzhsQfRpCjcRj+XG8ZY+40VE=    0.000000         0.0\n",
       "948997  zzsIerQnY70zKAgAD1GSB89LFnfIxXwXO+FBJEyMbDo=    0.000000         0.0\n",
       "948998  zzsusjoGJ6jH+qVF5cMfJGphBO7MR4P4P1rD7qxITX0=    0.000000         0.0\n",
       "948999  zzt4LinfZVgufjQc8MVgTz9CwxB9pJtNJDnk3d3F7Ac=    0.000000         0.0\n",
       "949000  zztGcSZznx0uMBvc0fTQVTfCzeS7Ho/otO2L/4FXs/w=    0.000000         0.0\n",
       "949001  zztRj67GpP0kdrpfKJ4X4bUrF+ljVCkR0K8cRDIbzRI=    0.000000         0.0\n",
       "949002  zztb7cCNxnkeZ33rHQ0Z3cnshdE8gn/nwMTiNP49b4o=    0.000000         0.0\n",
       "949003  zztg1DNR0a6n+9+CXd8WAfNZHsl5VvyYC2ngeXlwpkc=    0.000000         1.0\n",
       "949004  zzuGxQfF86Zsx5nqF1Yh+oJpEIfdjFKKYpTqFZMdxzk=    0.000000         0.0\n",
       "949005  zzuiTQN9MP4dT+mVTYuaFGeQwum5iIkUW56LyzPi4gA=    0.000000         0.0\n",
       "949006  zzv/igs0VigNppe7WR8qgz1h6aXFFzQLu5paAswIbcQ=    0.000000         0.0\n",
       "949007  zzv2n8+r3LGI4gFp6c4hpseYdfHrl829IY3IlA0BF4Q=    0.000000         0.0\n",
       "949008  zzvB5JRK4WBwtKJoNtnNF34r5dUAuenPpR9xrxdfMSI=    0.000000         0.0\n",
       "949009  zzvRDIlZcYclP7ocM+wG1WUPbUHPtMRPKerl/hionLg=    0.000000         0.0\n",
       "949010  zzvZ4AqXwz9Yh2nyExvdWL3YxRVvFLLotZaLXJL6Hik=    0.000000         0.0\n",
       "949011  zzwimfmJBJ4SrRw3bYXQzE9UrizlSE10yI7dHPvG5xM=    0.000000         0.0\n",
       "949012  zzwlIVmSuehTevzOi+WkcC7b3+MBYDiE4qybszTyhII=    0.000000         0.0\n",
       "949013  zzwsW1MnZalh6V5BwYE+V6hFWyKJYOf+rFd+SWVXxp8=    0.000000         0.0\n",
       "949014  zzx1qgX8R9EmT8PAn4/KyQ6s7PuLYTfR8kUCABiCW9E=    0.000000         0.0\n",
       "949015  zzx4hKiyR9XFEGAr7SAjcCPbKJCZ+IqegWL7dPjPwZk=    0.000000         0.0\n",
       "949016  zzx7wcys2Nha6yP2Skjs+R1/JNAfEuAWUaAp0qsV2Cg=    0.000000         1.0\n",
       "949017  zzxPS8+wCuE4HE85EDp4WBHgS5l548vfwXJbQq1HZ9I=    0.000000         0.0\n",
       "949018  zzxZeMFx2fjfKZigMnJa2w0EmloDbm8+8nTf/o/00GY=    0.000000         0.0\n",
       "949019  zzxi7n5xoTYo9Q3VTygLWvl/rBDcexwaeAry0yK7Q0E=    0.000000         0.0\n",
       "949020  zzy7iqSpfcRq7R4hmKKuhI+CJRs79a6pteqEggpiNO0=    0.000000         1.0\n",
       "949021  zzz1Dc3P9s53HAowRTrm3fNsWju5yeN4YBfNDq7Z99Q=    0.000000         0.0\n",
       "949022  zzzF1KsGfHH3qI6qiSNSXC35UXmVKMVFdxkp7xmDMc0=    0.000000         0.0\n",
       "\n",
       "[949023 rows x 3 columns]"
      ]
     },
     "execution_count": 18,
     "metadata": {},
     "output_type": "execute_result"
    }
   ],
   "source": [
    "groupby_result"
   ]
  },
  {
   "cell_type": "code",
   "execution_count": 19,
   "metadata": {
    "collapsed": false
   },
   "outputs": [
    {
     "data": {
      "text/html": [
       "<div>\n",
       "<style>\n",
       "    .dataframe thead tr:only-child th {\n",
       "        text-align: right;\n",
       "    }\n",
       "\n",
       "    .dataframe thead th {\n",
       "        text-align: left;\n",
       "    }\n",
       "\n",
       "    .dataframe tbody tr th {\n",
       "        vertical-align: top;\n",
       "    }\n",
       "</style>\n",
       "<table border=\"1\" class=\"dataframe\">\n",
       "  <thead>\n",
       "    <tr style=\"text-align: right;\">\n",
       "      <th>prediction</th>\n",
       "      <th>0.0</th>\n",
       "      <th>0.0714285714286</th>\n",
       "      <th>0.0769230769231</th>\n",
       "      <th>0.0833333333333</th>\n",
       "      <th>0.111111111111</th>\n",
       "      <th>0.125</th>\n",
       "      <th>0.142857142857</th>\n",
       "      <th>0.166666666667</th>\n",
       "      <th>0.2</th>\n",
       "      <th>0.222222222222</th>\n",
       "      <th>...</th>\n",
       "      <th>0.428571428571</th>\n",
       "      <th>0.5</th>\n",
       "      <th>0.571428571429</th>\n",
       "      <th>0.6</th>\n",
       "      <th>0.666666666667</th>\n",
       "      <th>0.84</th>\n",
       "      <th>0.857142857143</th>\n",
       "      <th>0.961538461538</th>\n",
       "      <th>0.977443609023</th>\n",
       "      <th>1.0</th>\n",
       "    </tr>\n",
       "    <tr>\n",
       "      <th>real_value</th>\n",
       "      <th></th>\n",
       "      <th></th>\n",
       "      <th></th>\n",
       "      <th></th>\n",
       "      <th></th>\n",
       "      <th></th>\n",
       "      <th></th>\n",
       "      <th></th>\n",
       "      <th></th>\n",
       "      <th></th>\n",
       "      <th></th>\n",
       "      <th></th>\n",
       "      <th></th>\n",
       "      <th></th>\n",
       "      <th></th>\n",
       "      <th></th>\n",
       "      <th></th>\n",
       "      <th></th>\n",
       "      <th></th>\n",
       "      <th></th>\n",
       "      <th></th>\n",
       "    </tr>\n",
       "  </thead>\n",
       "  <tbody>\n",
       "    <tr>\n",
       "      <th>0.0</th>\n",
       "      <td>878897</td>\n",
       "      <td>0</td>\n",
       "      <td>0</td>\n",
       "      <td>0</td>\n",
       "      <td>7</td>\n",
       "      <td>25</td>\n",
       "      <td>58</td>\n",
       "      <td>175</td>\n",
       "      <td>210</td>\n",
       "      <td>4</td>\n",
       "      <td>...</td>\n",
       "      <td>0</td>\n",
       "      <td>107</td>\n",
       "      <td>2</td>\n",
       "      <td>0</td>\n",
       "      <td>5</td>\n",
       "      <td>0</td>\n",
       "      <td>0</td>\n",
       "      <td>0</td>\n",
       "      <td>0</td>\n",
       "      <td>13</td>\n",
       "    </tr>\n",
       "    <tr>\n",
       "      <th>1.0</th>\n",
       "      <td>68302</td>\n",
       "      <td>1</td>\n",
       "      <td>1</td>\n",
       "      <td>1</td>\n",
       "      <td>4</td>\n",
       "      <td>11</td>\n",
       "      <td>27</td>\n",
       "      <td>60</td>\n",
       "      <td>81</td>\n",
       "      <td>2</td>\n",
       "      <td>...</td>\n",
       "      <td>6</td>\n",
       "      <td>193</td>\n",
       "      <td>0</td>\n",
       "      <td>2</td>\n",
       "      <td>1</td>\n",
       "      <td>1</td>\n",
       "      <td>1</td>\n",
       "      <td>1</td>\n",
       "      <td>1</td>\n",
       "      <td>223</td>\n",
       "    </tr>\n",
       "  </tbody>\n",
       "</table>\n",
       "<p>2 rows × 31 columns</p>\n",
       "</div>"
      ],
      "text/plain": [
       "prediction  0.000000  0.071429  0.076923  0.083333  0.111111  0.125000  \\\n",
       "real_value                                                               \n",
       "0.0           878897         0         0         0         7        25   \n",
       "1.0            68302         1         1         1         4        11   \n",
       "\n",
       "prediction  0.142857  0.166667  0.200000  0.222222    ...     0.428571  \\\n",
       "real_value                                            ...                \n",
       "0.0               58       175       210         4    ...            0   \n",
       "1.0               27        60        81         2    ...            6   \n",
       "\n",
       "prediction  0.500000  0.571429  0.600000  0.666667  0.840000  0.857143  \\\n",
       "real_value                                                               \n",
       "0.0              107         2         0         5         0         0   \n",
       "1.0              193         0         2         1         1         1   \n",
       "\n",
       "prediction  0.961538  0.977444  1.000000  \n",
       "real_value                                \n",
       "0.0                0         0        13  \n",
       "1.0                1         1       223  \n",
       "\n",
       "[2 rows x 31 columns]"
      ]
     },
     "execution_count": 19,
     "metadata": {},
     "output_type": "execute_result"
    }
   ],
   "source": [
    "result_cross = pd.crosstab(groupby_result[\"real_value\"], groupby_result[\"prediction\"])\n",
    "result_cross"
   ]
  },
  {
   "cell_type": "code",
   "execution_count": 20,
   "metadata": {
    "collapsed": true
   },
   "outputs": [],
   "source": [
    "y_true = groupby_result[\"real_value\"]\n",
    "y_pred = groupby_result[\"prediction\"]"
   ]
  },
  {
   "cell_type": "code",
   "execution_count": 21,
   "metadata": {
    "collapsed": false
   },
   "outputs": [
    {
     "data": {
      "text/plain": [
       "2.4874210905519432"
      ]
     },
     "execution_count": 21,
     "metadata": {},
     "output_type": "execute_result"
    }
   ],
   "source": [
    "from sklearn.metrics import log_loss\n",
    "log_loss(y_true, y_pred, eps=1e-15)"
   ]
  },
  {
   "cell_type": "code",
   "execution_count": null,
   "metadata": {
    "collapsed": true
   },
   "outputs": [],
   "source": []
  }
 ],
 "metadata": {
  "kernelspec": {
   "display_name": "Python 3",
   "language": "python",
   "name": "python3"
  },
  "language_info": {
   "codemirror_mode": {
    "name": "ipython",
    "version": 3
   },
   "file_extension": ".py",
   "mimetype": "text/x-python",
   "name": "python",
   "nbconvert_exporter": "python",
   "pygments_lexer": "ipython3",
   "version": "3.6.0"
  }
 },
 "nbformat": 4,
 "nbformat_minor": 2
}
